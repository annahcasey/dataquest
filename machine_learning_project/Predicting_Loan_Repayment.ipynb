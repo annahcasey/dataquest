{
 "cells": [
  {
   "cell_type": "markdown",
   "metadata": {},
   "source": [
    "# Predicting Loan Repayment"
   ]
  },
  {
   "cell_type": "markdown",
   "metadata": {},
   "source": [
    "Lending Club is a website that allows investors to make peer-to-peer loans. This project will use data taken from loans approved between 2007 and 2011 to develop a model that predicts on-time loan repayment."
   ]
  },
  {
   "cell_type": "code",
   "execution_count": 302,
   "metadata": {},
   "outputs": [],
   "source": [
    "import pandas as pd\n",
    "import numpy as np\n",
    "import matplotlib.pyplot as plt\n",
    "import seaborn as sns"
   ]
  },
  {
   "cell_type": "code",
   "execution_count": 303,
   "metadata": {},
   "outputs": [
    {
     "name": "stderr",
     "output_type": "stream",
     "text": [
      "/home/annahcasey/miniconda3/lib/python3.7/site-packages/IPython/core/interactiveshell.py:3058: DtypeWarning: Columns (0) have mixed types.Specify dtype option on import or set low_memory=False.\n",
      "  interactivity=interactivity, compiler=compiler, result=result)\n"
     ]
    }
   ],
   "source": [
    "df = pd.read_csv('loans_2007.csv')"
   ]
  },
  {
   "cell_type": "code",
   "execution_count": 304,
   "metadata": {},
   "outputs": [
    {
     "data": {
      "text/html": [
       "<div>\n",
       "<style scoped>\n",
       "    .dataframe tbody tr th:only-of-type {\n",
       "        vertical-align: middle;\n",
       "    }\n",
       "\n",
       "    .dataframe tbody tr th {\n",
       "        vertical-align: top;\n",
       "    }\n",
       "\n",
       "    .dataframe thead th {\n",
       "        text-align: right;\n",
       "    }\n",
       "</style>\n",
       "<table border=\"1\" class=\"dataframe\">\n",
       "  <thead>\n",
       "    <tr style=\"text-align: right;\">\n",
       "      <th></th>\n",
       "      <th>id</th>\n",
       "      <th>member_id</th>\n",
       "      <th>loan_amnt</th>\n",
       "      <th>funded_amnt</th>\n",
       "      <th>funded_amnt_inv</th>\n",
       "      <th>term</th>\n",
       "      <th>int_rate</th>\n",
       "      <th>installment</th>\n",
       "      <th>grade</th>\n",
       "      <th>sub_grade</th>\n",
       "      <th>...</th>\n",
       "      <th>last_pymnt_amnt</th>\n",
       "      <th>last_credit_pull_d</th>\n",
       "      <th>collections_12_mths_ex_med</th>\n",
       "      <th>policy_code</th>\n",
       "      <th>application_type</th>\n",
       "      <th>acc_now_delinq</th>\n",
       "      <th>chargeoff_within_12_mths</th>\n",
       "      <th>delinq_amnt</th>\n",
       "      <th>pub_rec_bankruptcies</th>\n",
       "      <th>tax_liens</th>\n",
       "    </tr>\n",
       "  </thead>\n",
       "  <tbody>\n",
       "    <tr>\n",
       "      <th>0</th>\n",
       "      <td>1077501</td>\n",
       "      <td>1296599.0</td>\n",
       "      <td>5000.0</td>\n",
       "      <td>5000.0</td>\n",
       "      <td>4975.0</td>\n",
       "      <td>36 months</td>\n",
       "      <td>10.65%</td>\n",
       "      <td>162.87</td>\n",
       "      <td>B</td>\n",
       "      <td>B2</td>\n",
       "      <td>...</td>\n",
       "      <td>171.62</td>\n",
       "      <td>Jun-2016</td>\n",
       "      <td>0.0</td>\n",
       "      <td>1.0</td>\n",
       "      <td>INDIVIDUAL</td>\n",
       "      <td>0.0</td>\n",
       "      <td>0.0</td>\n",
       "      <td>0.0</td>\n",
       "      <td>0.0</td>\n",
       "      <td>0.0</td>\n",
       "    </tr>\n",
       "    <tr>\n",
       "      <th>1</th>\n",
       "      <td>1077430</td>\n",
       "      <td>1314167.0</td>\n",
       "      <td>2500.0</td>\n",
       "      <td>2500.0</td>\n",
       "      <td>2500.0</td>\n",
       "      <td>60 months</td>\n",
       "      <td>15.27%</td>\n",
       "      <td>59.83</td>\n",
       "      <td>C</td>\n",
       "      <td>C4</td>\n",
       "      <td>...</td>\n",
       "      <td>119.66</td>\n",
       "      <td>Sep-2013</td>\n",
       "      <td>0.0</td>\n",
       "      <td>1.0</td>\n",
       "      <td>INDIVIDUAL</td>\n",
       "      <td>0.0</td>\n",
       "      <td>0.0</td>\n",
       "      <td>0.0</td>\n",
       "      <td>0.0</td>\n",
       "      <td>0.0</td>\n",
       "    </tr>\n",
       "    <tr>\n",
       "      <th>2</th>\n",
       "      <td>1077175</td>\n",
       "      <td>1313524.0</td>\n",
       "      <td>2400.0</td>\n",
       "      <td>2400.0</td>\n",
       "      <td>2400.0</td>\n",
       "      <td>36 months</td>\n",
       "      <td>15.96%</td>\n",
       "      <td>84.33</td>\n",
       "      <td>C</td>\n",
       "      <td>C5</td>\n",
       "      <td>...</td>\n",
       "      <td>649.91</td>\n",
       "      <td>Jun-2016</td>\n",
       "      <td>0.0</td>\n",
       "      <td>1.0</td>\n",
       "      <td>INDIVIDUAL</td>\n",
       "      <td>0.0</td>\n",
       "      <td>0.0</td>\n",
       "      <td>0.0</td>\n",
       "      <td>0.0</td>\n",
       "      <td>0.0</td>\n",
       "    </tr>\n",
       "    <tr>\n",
       "      <th>3</th>\n",
       "      <td>1076863</td>\n",
       "      <td>1277178.0</td>\n",
       "      <td>10000.0</td>\n",
       "      <td>10000.0</td>\n",
       "      <td>10000.0</td>\n",
       "      <td>36 months</td>\n",
       "      <td>13.49%</td>\n",
       "      <td>339.31</td>\n",
       "      <td>C</td>\n",
       "      <td>C1</td>\n",
       "      <td>...</td>\n",
       "      <td>357.48</td>\n",
       "      <td>Apr-2016</td>\n",
       "      <td>0.0</td>\n",
       "      <td>1.0</td>\n",
       "      <td>INDIVIDUAL</td>\n",
       "      <td>0.0</td>\n",
       "      <td>0.0</td>\n",
       "      <td>0.0</td>\n",
       "      <td>0.0</td>\n",
       "      <td>0.0</td>\n",
       "    </tr>\n",
       "    <tr>\n",
       "      <th>4</th>\n",
       "      <td>1075358</td>\n",
       "      <td>1311748.0</td>\n",
       "      <td>3000.0</td>\n",
       "      <td>3000.0</td>\n",
       "      <td>3000.0</td>\n",
       "      <td>60 months</td>\n",
       "      <td>12.69%</td>\n",
       "      <td>67.79</td>\n",
       "      <td>B</td>\n",
       "      <td>B5</td>\n",
       "      <td>...</td>\n",
       "      <td>67.79</td>\n",
       "      <td>Jun-2016</td>\n",
       "      <td>0.0</td>\n",
       "      <td>1.0</td>\n",
       "      <td>INDIVIDUAL</td>\n",
       "      <td>0.0</td>\n",
       "      <td>0.0</td>\n",
       "      <td>0.0</td>\n",
       "      <td>0.0</td>\n",
       "      <td>0.0</td>\n",
       "    </tr>\n",
       "    <tr>\n",
       "      <th>...</th>\n",
       "      <td>...</td>\n",
       "      <td>...</td>\n",
       "      <td>...</td>\n",
       "      <td>...</td>\n",
       "      <td>...</td>\n",
       "      <td>...</td>\n",
       "      <td>...</td>\n",
       "      <td>...</td>\n",
       "      <td>...</td>\n",
       "      <td>...</td>\n",
       "      <td>...</td>\n",
       "      <td>...</td>\n",
       "      <td>...</td>\n",
       "      <td>...</td>\n",
       "      <td>...</td>\n",
       "      <td>...</td>\n",
       "      <td>...</td>\n",
       "      <td>...</td>\n",
       "      <td>...</td>\n",
       "      <td>...</td>\n",
       "      <td>...</td>\n",
       "    </tr>\n",
       "    <tr>\n",
       "      <th>42533</th>\n",
       "      <td>72176</td>\n",
       "      <td>70868.0</td>\n",
       "      <td>2525.0</td>\n",
       "      <td>2525.0</td>\n",
       "      <td>225.0</td>\n",
       "      <td>36 months</td>\n",
       "      <td>9.33%</td>\n",
       "      <td>80.69</td>\n",
       "      <td>B</td>\n",
       "      <td>B3</td>\n",
       "      <td>...</td>\n",
       "      <td>82.03</td>\n",
       "      <td>May-2007</td>\n",
       "      <td>NaN</td>\n",
       "      <td>1.0</td>\n",
       "      <td>INDIVIDUAL</td>\n",
       "      <td>NaN</td>\n",
       "      <td>NaN</td>\n",
       "      <td>NaN</td>\n",
       "      <td>NaN</td>\n",
       "      <td>NaN</td>\n",
       "    </tr>\n",
       "    <tr>\n",
       "      <th>42534</th>\n",
       "      <td>71623</td>\n",
       "      <td>70735.0</td>\n",
       "      <td>6500.0</td>\n",
       "      <td>6500.0</td>\n",
       "      <td>0.0</td>\n",
       "      <td>36 months</td>\n",
       "      <td>8.38%</td>\n",
       "      <td>204.84</td>\n",
       "      <td>A</td>\n",
       "      <td>A5</td>\n",
       "      <td>...</td>\n",
       "      <td>205.32</td>\n",
       "      <td>Aug-2007</td>\n",
       "      <td>NaN</td>\n",
       "      <td>1.0</td>\n",
       "      <td>INDIVIDUAL</td>\n",
       "      <td>NaN</td>\n",
       "      <td>NaN</td>\n",
       "      <td>NaN</td>\n",
       "      <td>NaN</td>\n",
       "      <td>NaN</td>\n",
       "    </tr>\n",
       "    <tr>\n",
       "      <th>42535</th>\n",
       "      <td>70686</td>\n",
       "      <td>70681.0</td>\n",
       "      <td>5000.0</td>\n",
       "      <td>5000.0</td>\n",
       "      <td>0.0</td>\n",
       "      <td>36 months</td>\n",
       "      <td>7.75%</td>\n",
       "      <td>156.11</td>\n",
       "      <td>A</td>\n",
       "      <td>A3</td>\n",
       "      <td>...</td>\n",
       "      <td>156.39</td>\n",
       "      <td>Feb-2015</td>\n",
       "      <td>NaN</td>\n",
       "      <td>1.0</td>\n",
       "      <td>INDIVIDUAL</td>\n",
       "      <td>NaN</td>\n",
       "      <td>NaN</td>\n",
       "      <td>NaN</td>\n",
       "      <td>NaN</td>\n",
       "      <td>NaN</td>\n",
       "    </tr>\n",
       "    <tr>\n",
       "      <th>42536</th>\n",
       "      <td>Total amount funded in policy code 1: 471701350</td>\n",
       "      <td>NaN</td>\n",
       "      <td>NaN</td>\n",
       "      <td>NaN</td>\n",
       "      <td>NaN</td>\n",
       "      <td>NaN</td>\n",
       "      <td>NaN</td>\n",
       "      <td>NaN</td>\n",
       "      <td>NaN</td>\n",
       "      <td>NaN</td>\n",
       "      <td>...</td>\n",
       "      <td>NaN</td>\n",
       "      <td>NaN</td>\n",
       "      <td>NaN</td>\n",
       "      <td>NaN</td>\n",
       "      <td>NaN</td>\n",
       "      <td>NaN</td>\n",
       "      <td>NaN</td>\n",
       "      <td>NaN</td>\n",
       "      <td>NaN</td>\n",
       "      <td>NaN</td>\n",
       "    </tr>\n",
       "    <tr>\n",
       "      <th>42537</th>\n",
       "      <td>Total amount funded in policy code 2: 0</td>\n",
       "      <td>NaN</td>\n",
       "      <td>NaN</td>\n",
       "      <td>NaN</td>\n",
       "      <td>NaN</td>\n",
       "      <td>NaN</td>\n",
       "      <td>NaN</td>\n",
       "      <td>NaN</td>\n",
       "      <td>NaN</td>\n",
       "      <td>NaN</td>\n",
       "      <td>...</td>\n",
       "      <td>NaN</td>\n",
       "      <td>NaN</td>\n",
       "      <td>NaN</td>\n",
       "      <td>NaN</td>\n",
       "      <td>NaN</td>\n",
       "      <td>NaN</td>\n",
       "      <td>NaN</td>\n",
       "      <td>NaN</td>\n",
       "      <td>NaN</td>\n",
       "      <td>NaN</td>\n",
       "    </tr>\n",
       "  </tbody>\n",
       "</table>\n",
       "<p>42538 rows × 52 columns</p>\n",
       "</div>"
      ],
      "text/plain": [
       "                                                    id  member_id  loan_amnt  \\\n",
       "0                                              1077501  1296599.0     5000.0   \n",
       "1                                              1077430  1314167.0     2500.0   \n",
       "2                                              1077175  1313524.0     2400.0   \n",
       "3                                              1076863  1277178.0    10000.0   \n",
       "4                                              1075358  1311748.0     3000.0   \n",
       "...                                                ...        ...        ...   \n",
       "42533                                            72176    70868.0     2525.0   \n",
       "42534                                            71623    70735.0     6500.0   \n",
       "42535                                            70686    70681.0     5000.0   \n",
       "42536  Total amount funded in policy code 1: 471701350        NaN        NaN   \n",
       "42537          Total amount funded in policy code 2: 0        NaN        NaN   \n",
       "\n",
       "       funded_amnt  funded_amnt_inv        term int_rate  installment grade  \\\n",
       "0           5000.0           4975.0   36 months   10.65%       162.87     B   \n",
       "1           2500.0           2500.0   60 months   15.27%        59.83     C   \n",
       "2           2400.0           2400.0   36 months   15.96%        84.33     C   \n",
       "3          10000.0          10000.0   36 months   13.49%       339.31     C   \n",
       "4           3000.0           3000.0   60 months   12.69%        67.79     B   \n",
       "...            ...              ...         ...      ...          ...   ...   \n",
       "42533       2525.0            225.0   36 months    9.33%        80.69     B   \n",
       "42534       6500.0              0.0   36 months    8.38%       204.84     A   \n",
       "42535       5000.0              0.0   36 months    7.75%       156.11     A   \n",
       "42536          NaN              NaN         NaN      NaN          NaN   NaN   \n",
       "42537          NaN              NaN         NaN      NaN          NaN   NaN   \n",
       "\n",
       "      sub_grade  ... last_pymnt_amnt last_credit_pull_d  \\\n",
       "0            B2  ...          171.62           Jun-2016   \n",
       "1            C4  ...          119.66           Sep-2013   \n",
       "2            C5  ...          649.91           Jun-2016   \n",
       "3            C1  ...          357.48           Apr-2016   \n",
       "4            B5  ...           67.79           Jun-2016   \n",
       "...         ...  ...             ...                ...   \n",
       "42533        B3  ...           82.03           May-2007   \n",
       "42534        A5  ...          205.32           Aug-2007   \n",
       "42535        A3  ...          156.39           Feb-2015   \n",
       "42536       NaN  ...             NaN                NaN   \n",
       "42537       NaN  ...             NaN                NaN   \n",
       "\n",
       "      collections_12_mths_ex_med  policy_code application_type acc_now_delinq  \\\n",
       "0                            0.0          1.0       INDIVIDUAL            0.0   \n",
       "1                            0.0          1.0       INDIVIDUAL            0.0   \n",
       "2                            0.0          1.0       INDIVIDUAL            0.0   \n",
       "3                            0.0          1.0       INDIVIDUAL            0.0   \n",
       "4                            0.0          1.0       INDIVIDUAL            0.0   \n",
       "...                          ...          ...              ...            ...   \n",
       "42533                        NaN          1.0       INDIVIDUAL            NaN   \n",
       "42534                        NaN          1.0       INDIVIDUAL            NaN   \n",
       "42535                        NaN          1.0       INDIVIDUAL            NaN   \n",
       "42536                        NaN          NaN              NaN            NaN   \n",
       "42537                        NaN          NaN              NaN            NaN   \n",
       "\n",
       "      chargeoff_within_12_mths delinq_amnt pub_rec_bankruptcies tax_liens  \n",
       "0                          0.0         0.0                  0.0       0.0  \n",
       "1                          0.0         0.0                  0.0       0.0  \n",
       "2                          0.0         0.0                  0.0       0.0  \n",
       "3                          0.0         0.0                  0.0       0.0  \n",
       "4                          0.0         0.0                  0.0       0.0  \n",
       "...                        ...         ...                  ...       ...  \n",
       "42533                      NaN         NaN                  NaN       NaN  \n",
       "42534                      NaN         NaN                  NaN       NaN  \n",
       "42535                      NaN         NaN                  NaN       NaN  \n",
       "42536                      NaN         NaN                  NaN       NaN  \n",
       "42537                      NaN         NaN                  NaN       NaN  \n",
       "\n",
       "[42538 rows x 52 columns]"
      ]
     },
     "execution_count": 304,
     "metadata": {},
     "output_type": "execute_result"
    }
   ],
   "source": [
    "df"
   ]
  },
  {
   "cell_type": "code",
   "execution_count": 305,
   "metadata": {},
   "outputs": [],
   "source": [
    "df = df[:-2]"
   ]
  },
  {
   "cell_type": "code",
   "execution_count": 306,
   "metadata": {
    "scrolled": true
   },
   "outputs": [
    {
     "name": "stdout",
     "output_type": "stream",
     "text": [
      "<class 'pandas.core.frame.DataFrame'>\n",
      "RangeIndex: 42536 entries, 0 to 42535\n",
      "Data columns (total 52 columns):\n",
      " #   Column                      Non-Null Count  Dtype  \n",
      "---  ------                      --------------  -----  \n",
      " 0   id                          42536 non-null  object \n",
      " 1   member_id                   42535 non-null  float64\n",
      " 2   loan_amnt                   42535 non-null  float64\n",
      " 3   funded_amnt                 42535 non-null  float64\n",
      " 4   funded_amnt_inv             42535 non-null  float64\n",
      " 5   term                        42535 non-null  object \n",
      " 6   int_rate                    42535 non-null  object \n",
      " 7   installment                 42535 non-null  float64\n",
      " 8   grade                       42535 non-null  object \n",
      " 9   sub_grade                   42535 non-null  object \n",
      " 10  emp_title                   39909 non-null  object \n",
      " 11  emp_length                  41423 non-null  object \n",
      " 12  home_ownership              42535 non-null  object \n",
      " 13  annual_inc                  42531 non-null  float64\n",
      " 14  verification_status         42535 non-null  object \n",
      " 15  issue_d                     42535 non-null  object \n",
      " 16  loan_status                 42535 non-null  object \n",
      " 17  pymnt_plan                  42535 non-null  object \n",
      " 18  purpose                     42535 non-null  object \n",
      " 19  title                       42522 non-null  object \n",
      " 20  zip_code                    42535 non-null  object \n",
      " 21  addr_state                  42535 non-null  object \n",
      " 22  dti                         42535 non-null  float64\n",
      " 23  delinq_2yrs                 42506 non-null  float64\n",
      " 24  earliest_cr_line            42506 non-null  object \n",
      " 25  inq_last_6mths              42506 non-null  float64\n",
      " 26  open_acc                    42506 non-null  float64\n",
      " 27  pub_rec                     42506 non-null  float64\n",
      " 28  revol_bal                   42535 non-null  float64\n",
      " 29  revol_util                  42445 non-null  object \n",
      " 30  total_acc                   42506 non-null  float64\n",
      " 31  initial_list_status         42535 non-null  object \n",
      " 32  out_prncp                   42535 non-null  float64\n",
      " 33  out_prncp_inv               42535 non-null  float64\n",
      " 34  total_pymnt                 42535 non-null  float64\n",
      " 35  total_pymnt_inv             42535 non-null  float64\n",
      " 36  total_rec_prncp             42535 non-null  float64\n",
      " 37  total_rec_int               42535 non-null  float64\n",
      " 38  total_rec_late_fee          42535 non-null  float64\n",
      " 39  recoveries                  42535 non-null  float64\n",
      " 40  collection_recovery_fee     42535 non-null  float64\n",
      " 41  last_pymnt_d                42452 non-null  object \n",
      " 42  last_pymnt_amnt             42535 non-null  float64\n",
      " 43  last_credit_pull_d          42531 non-null  object \n",
      " 44  collections_12_mths_ex_med  42390 non-null  float64\n",
      " 45  policy_code                 42535 non-null  float64\n",
      " 46  application_type            42535 non-null  object \n",
      " 47  acc_now_delinq              42506 non-null  float64\n",
      " 48  chargeoff_within_12_mths    42390 non-null  float64\n",
      " 49  delinq_amnt                 42506 non-null  float64\n",
      " 50  pub_rec_bankruptcies        41170 non-null  float64\n",
      " 51  tax_liens                   42430 non-null  float64\n",
      "dtypes: float64(30), object(22)\n",
      "memory usage: 16.9+ MB\n"
     ]
    }
   ],
   "source": [
    "df.info()"
   ]
  },
  {
   "cell_type": "markdown",
   "metadata": {},
   "source": [
    "## Data Cleaning"
   ]
  },
  {
   "cell_type": "markdown",
   "metadata": {},
   "source": [
    "The data dictionary containing explanations for each column can be found here: https://docs.google.com/spreadsheets/d/191B2yJ4H1ZPXq0_ByhUgWMFZOYem5jFz0Y3by_7YBY4/edit#gid=2081333097\n",
    "\n",
    "We'll go through this dictionary, drop any columns that can't contribute to our model, and clean up the remaining columns."
   ]
  },
  {
   "cell_type": "code",
   "execution_count": 307,
   "metadata": {},
   "outputs": [
    {
     "data": {
      "text/plain": [
       "Index(['id', 'member_id', 'loan_amnt', 'funded_amnt', 'funded_amnt_inv',\n",
       "       'term', 'int_rate', 'installment', 'grade', 'sub_grade', 'emp_title',\n",
       "       'emp_length', 'home_ownership', 'annual_inc', 'verification_status',\n",
       "       'issue_d', 'loan_status', 'pymnt_plan', 'purpose', 'title', 'zip_code',\n",
       "       'addr_state', 'dti', 'delinq_2yrs', 'earliest_cr_line',\n",
       "       'inq_last_6mths', 'open_acc', 'pub_rec', 'revol_bal', 'revol_util',\n",
       "       'total_acc', 'initial_list_status', 'out_prncp', 'out_prncp_inv',\n",
       "       'total_pymnt', 'total_pymnt_inv', 'total_rec_prncp', 'total_rec_int',\n",
       "       'total_rec_late_fee', 'recoveries', 'collection_recovery_fee',\n",
       "       'last_pymnt_d', 'last_pymnt_amnt', 'last_credit_pull_d',\n",
       "       'collections_12_mths_ex_med', 'policy_code', 'application_type',\n",
       "       'acc_now_delinq', 'chargeoff_within_12_mths', 'delinq_amnt',\n",
       "       'pub_rec_bankruptcies', 'tax_liens'],\n",
       "      dtype='object')"
      ]
     },
     "execution_count": 307,
     "metadata": {},
     "output_type": "execute_result"
    }
   ],
   "source": [
    "df.columns"
   ]
  },
  {
   "cell_type": "markdown",
   "metadata": {},
   "source": [
    "The columns 'id' and 'member_id' are arbitrary ID numbers for the loan and borrower respectively. They won't be helpful for us, and we can drop them."
   ]
  },
  {
   "cell_type": "code",
   "execution_count": 308,
   "metadata": {},
   "outputs": [],
   "source": [
    "cols_to_drop = ['id', 'member_id']"
   ]
  },
  {
   "cell_type": "markdown",
   "metadata": {},
   "source": [
    "The next column, 'loan_amnt', lists the amount of the loan. This will be a crucial column for us, so we should make sure it's clean."
   ]
  },
  {
   "cell_type": "code",
   "execution_count": 309,
   "metadata": {},
   "outputs": [
    {
     "data": {
      "text/plain": [
       "10000.0    3016\n",
       "12000.0    2439\n",
       "5000.0     2260\n",
       "6000.0     2037\n",
       "15000.0    2012\n",
       "           ... \n",
       "4675.0        1\n",
       "17975.0       1\n",
       "14625.0       1\n",
       "29300.0       1\n",
       "NaN           1\n",
       "Name: loan_amnt, Length: 899, dtype: int64"
      ]
     },
     "execution_count": 309,
     "metadata": {},
     "output_type": "execute_result"
    }
   ],
   "source": [
    "df['loan_amnt'].value_counts(dropna=False)"
   ]
  },
  {
   "cell_type": "code",
   "execution_count": 310,
   "metadata": {},
   "outputs": [
    {
     "data": {
      "text/html": [
       "<div>\n",
       "<style scoped>\n",
       "    .dataframe tbody tr th:only-of-type {\n",
       "        vertical-align: middle;\n",
       "    }\n",
       "\n",
       "    .dataframe tbody tr th {\n",
       "        vertical-align: top;\n",
       "    }\n",
       "\n",
       "    .dataframe thead th {\n",
       "        text-align: right;\n",
       "    }\n",
       "</style>\n",
       "<table border=\"1\" class=\"dataframe\">\n",
       "  <thead>\n",
       "    <tr style=\"text-align: right;\">\n",
       "      <th></th>\n",
       "      <th>id</th>\n",
       "      <th>member_id</th>\n",
       "      <th>loan_amnt</th>\n",
       "      <th>funded_amnt</th>\n",
       "      <th>funded_amnt_inv</th>\n",
       "      <th>term</th>\n",
       "      <th>int_rate</th>\n",
       "      <th>installment</th>\n",
       "      <th>grade</th>\n",
       "      <th>sub_grade</th>\n",
       "      <th>...</th>\n",
       "      <th>last_pymnt_amnt</th>\n",
       "      <th>last_credit_pull_d</th>\n",
       "      <th>collections_12_mths_ex_med</th>\n",
       "      <th>policy_code</th>\n",
       "      <th>application_type</th>\n",
       "      <th>acc_now_delinq</th>\n",
       "      <th>chargeoff_within_12_mths</th>\n",
       "      <th>delinq_amnt</th>\n",
       "      <th>pub_rec_bankruptcies</th>\n",
       "      <th>tax_liens</th>\n",
       "    </tr>\n",
       "  </thead>\n",
       "  <tbody>\n",
       "    <tr>\n",
       "      <th>39786</th>\n",
       "      <td>Loans that do not meet the credit policy</td>\n",
       "      <td>NaN</td>\n",
       "      <td>NaN</td>\n",
       "      <td>NaN</td>\n",
       "      <td>NaN</td>\n",
       "      <td>NaN</td>\n",
       "      <td>NaN</td>\n",
       "      <td>NaN</td>\n",
       "      <td>NaN</td>\n",
       "      <td>NaN</td>\n",
       "      <td>...</td>\n",
       "      <td>NaN</td>\n",
       "      <td>NaN</td>\n",
       "      <td>NaN</td>\n",
       "      <td>NaN</td>\n",
       "      <td>NaN</td>\n",
       "      <td>NaN</td>\n",
       "      <td>NaN</td>\n",
       "      <td>NaN</td>\n",
       "      <td>NaN</td>\n",
       "      <td>NaN</td>\n",
       "    </tr>\n",
       "  </tbody>\n",
       "</table>\n",
       "<p>1 rows × 52 columns</p>\n",
       "</div>"
      ],
      "text/plain": [
       "                                             id  member_id  loan_amnt  \\\n",
       "39786  Loans that do not meet the credit policy        NaN        NaN   \n",
       "\n",
       "       funded_amnt  funded_amnt_inv term int_rate  installment grade  \\\n",
       "39786          NaN              NaN  NaN      NaN          NaN   NaN   \n",
       "\n",
       "      sub_grade  ... last_pymnt_amnt last_credit_pull_d  \\\n",
       "39786       NaN  ...             NaN                NaN   \n",
       "\n",
       "      collections_12_mths_ex_med  policy_code application_type acc_now_delinq  \\\n",
       "39786                        NaN          NaN              NaN            NaN   \n",
       "\n",
       "      chargeoff_within_12_mths delinq_amnt pub_rec_bankruptcies tax_liens  \n",
       "39786                      NaN         NaN                  NaN       NaN  \n",
       "\n",
       "[1 rows x 52 columns]"
      ]
     },
     "execution_count": 310,
     "metadata": {},
     "output_type": "execute_result"
    }
   ],
   "source": [
    "df[df['loan_amnt'].isnull()]"
   ]
  },
  {
   "cell_type": "markdown",
   "metadata": {},
   "source": [
    "We have a missing value, but it's for a row we should drop."
   ]
  },
  {
   "cell_type": "code",
   "execution_count": 311,
   "metadata": {
    "scrolled": true
   },
   "outputs": [
    {
     "name": "stderr",
     "output_type": "stream",
     "text": [
      "/home/annahcasey/miniconda3/lib/python3.7/site-packages/ipykernel_launcher.py:1: SettingWithCopyWarning: \n",
      "A value is trying to be set on a copy of a slice from a DataFrame\n",
      "\n",
      "See the caveats in the documentation: https://pandas.pydata.org/pandas-docs/stable/user_guide/indexing.html#returning-a-view-versus-a-copy\n",
      "  \"\"\"Entry point for launching an IPython kernel.\n"
     ]
    }
   ],
   "source": [
    "df.dropna(subset=['member_id'], axis=0, inplace=True)"
   ]
  },
  {
   "cell_type": "markdown",
   "metadata": {},
   "source": [
    "Now we can check the distribution plot and boxplot to see if anything stands out"
   ]
  },
  {
   "cell_type": "code",
   "execution_count": 312,
   "metadata": {},
   "outputs": [
    {
     "data": {
      "text/plain": [
       "<matplotlib.axes._subplots.AxesSubplot at 0x7f2b97e45358>"
      ]
     },
     "execution_count": 312,
     "metadata": {},
     "output_type": "execute_result"
    },
    {
     "data": {
      "image/png": "[encoded data removed]",
      "text/plain": [
       "<Figure size 1080x720 with 2 Axes>"
      ]
     },
     "metadata": {
      "needs_background": "light"
     },
     "output_type": "display_data"
    }
   ],
   "source": [
    "fig, ax = plt.subplots(nrows=2, figsize=(15,10))\n",
    "sns.distplot(df['loan_amnt'], ax=ax[0])\n",
    "sns.boxplot(df['loan_amnt'], ax=ax[1])"
   ]
  },
  {
   "cell_type": "markdown",
   "metadata": {},
   "source": [
    "Nothing seems off. We can move to 'funded_amnt', which lists the amount of the loan that was funded. However, this is not info we would have access to when deciding to make a loan. We can drop it. The same can be said of 'funded_amnt_inv'."
   ]
  },
  {
   "cell_type": "code",
   "execution_count": 313,
   "metadata": {},
   "outputs": [],
   "source": [
    "cols_to_drop.append('funded_amnt')\n",
    "cols_to_drop.append('funded_amnt_inv')"
   ]
  },
  {
   "cell_type": "markdown",
   "metadata": {},
   "source": [
    "The 'term' column indicates whether the loan will be paid back over the course of 36 or 60 months."
   ]
  },
  {
   "cell_type": "code",
   "execution_count": 314,
   "metadata": {},
   "outputs": [
    {
     "data": {
      "text/plain": [
       " 36 months    31534\n",
       " 60 months    11001\n",
       "Name: term, dtype: int64"
      ]
     },
     "execution_count": 314,
     "metadata": {},
     "output_type": "execute_result"
    }
   ],
   "source": [
    "df['term'].value_counts(dropna=False)"
   ]
  },
  {
   "cell_type": "markdown",
   "metadata": {},
   "source": [
    "We'll just take out \"months\" and convert it to an integer type. "
   ]
  },
  {
   "cell_type": "code",
   "execution_count": 315,
   "metadata": {},
   "outputs": [
    {
     "name": "stderr",
     "output_type": "stream",
     "text": [
      "/home/annahcasey/miniconda3/lib/python3.7/site-packages/ipykernel_launcher.py:2: SettingWithCopyWarning: \n",
      "A value is trying to be set on a copy of a slice from a DataFrame.\n",
      "Try using .loc[row_indexer,col_indexer] = value instead\n",
      "\n",
      "See the caveats in the documentation: https://pandas.pydata.org/pandas-docs/stable/user_guide/indexing.html#returning-a-view-versus-a-copy\n",
      "  \n"
     ]
    }
   ],
   "source": [
    "#creates a column containing just the integer and appends the old column to our drop list\n",
    "df['term_mos'] = df['term'].str.replace(r' months','').astype(int)\n",
    "cols_to_drop.append('term')"
   ]
  },
  {
   "cell_type": "markdown",
   "metadata": {},
   "source": [
    "The 'int_rate' column indicates the interest rate on the loan."
   ]
  },
  {
   "cell_type": "code",
   "execution_count": 316,
   "metadata": {},
   "outputs": [
    {
     "data": {
      "text/plain": [
       " 10.99%    970\n",
       " 11.49%    837\n",
       " 13.49%    832\n",
       "  7.51%    787\n",
       "  7.88%    742\n",
       "          ... \n",
       " 17.46%      1\n",
       " 24.59%      1\n",
       " 24.40%      1\n",
       " 16.20%      1\n",
       " 17.44%      1\n",
       "Name: int_rate, Length: 394, dtype: int64"
      ]
     },
     "execution_count": 316,
     "metadata": {},
     "output_type": "execute_result"
    }
   ],
   "source": [
    "df['int_rate'].value_counts(dropna=False)"
   ]
  },
  {
   "cell_type": "markdown",
   "metadata": {},
   "source": [
    "This column will be more useful to us as a float type."
   ]
  },
  {
   "cell_type": "code",
   "execution_count": 317,
   "metadata": {},
   "outputs": [
    {
     "name": "stderr",
     "output_type": "stream",
     "text": [
      "/home/annahcasey/miniconda3/lib/python3.7/site-packages/ipykernel_launcher.py:1: SettingWithCopyWarning: \n",
      "A value is trying to be set on a copy of a slice from a DataFrame.\n",
      "Try using .loc[row_indexer,col_indexer] = value instead\n",
      "\n",
      "See the caveats in the documentation: https://pandas.pydata.org/pandas-docs/stable/user_guide/indexing.html#returning-a-view-versus-a-copy\n",
      "  \"\"\"Entry point for launching an IPython kernel.\n"
     ]
    }
   ],
   "source": [
    "df['int_rate_pct'] = df['int_rate'].str.replace(r'%','').astype(float)\n",
    "cols_to_drop.append('int_rate')"
   ]
  },
  {
   "cell_type": "code",
   "execution_count": 318,
   "metadata": {},
   "outputs": [
    {
     "data": {
      "text/plain": [
       "<matplotlib.axes._subplots.AxesSubplot at 0x7f2b97c2ed68>"
      ]
     },
     "execution_count": 318,
     "metadata": {},
     "output_type": "execute_result"
    },
    {
     "data": {
      "image/png": "[encoded data removed]",
      "text/plain": [
       "<Figure size 1080x720 with 2 Axes>"
      ]
     },
     "metadata": {
      "needs_background": "light"
     },
     "output_type": "display_data"
    }
   ],
   "source": [
    "fig, ax = plt.subplots(nrows=2, figsize=(15,10))\n",
    "sns.distplot(df['int_rate_pct'], ax=ax[0])\n",
    "sns.boxplot(df['int_rate_pct'], ax=ax[1])"
   ]
  },
  {
   "cell_type": "markdown",
   "metadata": {},
   "source": [
    "Aside from an anomalous dip at around 8%, everything else looks as expected. Could be a multimodal distribution as indicated by the KDE, with low-risk loans clustering around 7.5%, medium-risk clustering around 11%, and higher-risk around 13%."
   ]
  },
  {
   "cell_type": "markdown",
   "metadata": {},
   "source": [
    "Our 'installment' column indicates the monthly payment made by the borrower. "
   ]
  },
  {
   "cell_type": "code",
   "execution_count": 319,
   "metadata": {},
   "outputs": [
    {
     "data": {
      "text/plain": [
       "<matplotlib.axes._subplots.AxesSubplot at 0x7f2b97ae1c88>"
      ]
     },
     "execution_count": 319,
     "metadata": {},
     "output_type": "execute_result"
    },
    {
     "data": {
      "image/png": "[encoded data removed]",
      "text/plain": [
       "<Figure size 1080x720 with 2 Axes>"
      ]
     },
     "metadata": {
      "needs_background": "light"
     },
     "output_type": "display_data"
    }
   ],
   "source": [
    "fig, ax = plt.subplots(nrows=2, figsize=(15,10))\n",
    "sns.distplot(df['installment'], ax=ax[0])\n",
    "sns.boxplot(df['installment'], ax=ax[1])"
   ]
  },
  {
   "cell_type": "markdown",
   "metadata": {},
   "source": [
    "The 'grade' column assigns a grade to the loan based on borrower's credit history, collateral, application, etc. The 'sub_grade' column further breaks down these categories. Both, however, likely have a lot of overlap with \"int_rate_pct\" which is also assigned based on loan risk. We should probably drop the categorical variables \"grade\" and \"sub_grade\" since a continuous variable like \"int_rate_pct\" is going to be more useful for our model. Before we do, though, let's confirm that they're basically the same information with some boxplots."
   ]
  },
  {
   "cell_type": "code",
   "execution_count": 320,
   "metadata": {},
   "outputs": [
    {
     "data": {
      "text/plain": [
       "B    12389\n",
       "A    10183\n",
       "C     8740\n",
       "D     6016\n",
       "E     3394\n",
       "F     1301\n",
       "G      512\n",
       "Name: grade, dtype: int64"
      ]
     },
     "execution_count": 320,
     "metadata": {},
     "output_type": "execute_result"
    }
   ],
   "source": [
    "df['grade'].value_counts(dropna=False)"
   ]
  },
  {
   "cell_type": "code",
   "execution_count": 321,
   "metadata": {},
   "outputs": [
    {
     "data": {
      "text/plain": [
       "B3    2997\n",
       "A4    2905\n",
       "B5    2807\n",
       "A5    2793\n",
       "B4    2590\n",
       "C1    2264\n",
       "C2    2157\n",
       "B2    2113\n",
       "B1    1882\n",
       "A3    1823\n",
       "C3    1658\n",
       "A2    1520\n",
       "D2    1485\n",
       "C4    1370\n",
       "D3    1322\n",
       "C5    1291\n",
       "A1    1142\n",
       "D4    1140\n",
       "D1    1053\n",
       "D5    1016\n",
       "E1     884\n",
       "E2     791\n",
       "E3     668\n",
       "E4     552\n",
       "E5     499\n",
       "F1     392\n",
       "F2     308\n",
       "F3     236\n",
       "F4     211\n",
       "F5     154\n",
       "G1     141\n",
       "G2     107\n",
       "G4      99\n",
       "G5      86\n",
       "G3      79\n",
       "Name: sub_grade, dtype: int64"
      ]
     },
     "execution_count": 321,
     "metadata": {},
     "output_type": "execute_result"
    }
   ],
   "source": [
    "df['sub_grade'].value_counts(dropna=False)"
   ]
  },
  {
   "cell_type": "code",
   "execution_count": 322,
   "metadata": {},
   "outputs": [
    {
     "data": {
      "image/png": "[encoded data removed]",
      "text/plain": [
       "<Figure size 1080x720 with 1 Axes>"
      ]
     },
     "metadata": {
      "needs_background": "light"
     },
     "output_type": "display_data"
    }
   ],
   "source": [
    "plt.figure(figsize=(15,10))\n",
    "ax = sns.boxplot(x=\"sub_grade\", y=\"int_rate_pct\", data=df.sort_values('sub_grade'))"
   ]
  },
  {
   "cell_type": "code",
   "execution_count": 323,
   "metadata": {},
   "outputs": [
    {
     "data": {
      "text/plain": [
       "grade\n",
       "A     7.342708\n",
       "B    11.014209\n",
       "C    13.499889\n",
       "D    15.577149\n",
       "E    17.376768\n",
       "F    19.265304\n",
       "G    20.451250\n",
       "Name: int_rate_pct, dtype: float64"
      ]
     },
     "execution_count": 323,
     "metadata": {},
     "output_type": "execute_result"
    }
   ],
   "source": [
    "df.groupby('grade')['int_rate_pct'].mean()"
   ]
  },
  {
   "cell_type": "markdown",
   "metadata": {},
   "source": [
    "Just by looking at the boxplots, we can tell that int_rate_pct strongly correlates with \"sub_grade.\" We'll add \"grade\" and \"sub_grade\" to our columns to drop."
   ]
  },
  {
   "cell_type": "code",
   "execution_count": 324,
   "metadata": {},
   "outputs": [],
   "source": [
    "cols_to_drop.append('grade')\n",
    "cols_to_drop.append('sub_grade')"
   ]
  },
  {
   "cell_type": "markdown",
   "metadata": {},
   "source": [
    "The \"emp_title\" column contains the employer title supplied by the borrower on their application."
   ]
  },
  {
   "cell_type": "code",
   "execution_count": 325,
   "metadata": {},
   "outputs": [
    {
     "data": {
      "text/plain": [
       "NaN                             2626\n",
       "US ARMY                          219\n",
       "BANK OF AMERICA                  145\n",
       "WALMART                           84\n",
       "AT&T                              81\n",
       "                                ... \n",
       "CITY OF ALBUQUERQUE                1\n",
       "ISABELLA GERIATRIC CENTER          1\n",
       "CURATED                            1\n",
       "SOUTH STREET SEAPORTM MUSEUM       1\n",
       "CRISPIN PORTER + BOGUSKY           1\n",
       "Name: emp_title, Length: 29170, dtype: int64"
      ]
     },
     "execution_count": 325,
     "metadata": {},
     "output_type": "execute_result"
    }
   ],
   "source": [
    "df['emp_title'].str.upper().value_counts(dropna=False)"
   ]
  },
  {
   "cell_type": "markdown",
   "metadata": {},
   "source": [
    "With over 29,000 different values, and the most common being \"NaN\", this column is too messy to be of much use to us. Let's drop it."
   ]
  },
  {
   "cell_type": "code",
   "execution_count": 326,
   "metadata": {},
   "outputs": [],
   "source": [
    "cols_to_drop.append('emp_title')"
   ]
  },
  {
   "cell_type": "markdown",
   "metadata": {},
   "source": [
    "The \"emp_length\" column indicates the reported number of years of employment. Because anything 10 years or over is lumped into one category, I think it's best we treat this as categorical and dummy-code it, rather than converting it to an integer type. "
   ]
  },
  {
   "cell_type": "code",
   "execution_count": 327,
   "metadata": {},
   "outputs": [
    {
     "data": {
      "text/plain": [
       "0        10+ years\n",
       "1         < 1 year\n",
       "2        10+ years\n",
       "3        10+ years\n",
       "4           1 year\n",
       "           ...    \n",
       "42531     < 1 year\n",
       "42532     < 1 year\n",
       "42533     < 1 year\n",
       "42534     < 1 year\n",
       "42535    10+ years\n",
       "Name: emp_length, Length: 42535, dtype: object"
      ]
     },
     "execution_count": 327,
     "metadata": {},
     "output_type": "execute_result"
    }
   ],
   "source": [
    "df['emp_length']"
   ]
  },
  {
   "cell_type": "markdown",
   "metadata": {},
   "source": [
    "The column \"home_ownership\" indicates whether the borrower rents, owns, or has a mortgage. "
   ]
  },
  {
   "cell_type": "code",
   "execution_count": 328,
   "metadata": {},
   "outputs": [
    {
     "data": {
      "text/plain": [
       "RENT        20181\n",
       "MORTGAGE    18959\n",
       "OWN          3251\n",
       "OTHER         136\n",
       "NONE            8\n",
       "Name: home_ownership, dtype: int64"
      ]
     },
     "execution_count": 328,
     "metadata": {},
     "output_type": "execute_result"
    }
   ],
   "source": [
    "df['home_ownership'].value_counts(dropna=False)"
   ]
  },
  {
   "cell_type": "markdown",
   "metadata": {},
   "source": [
    "The column \"annual_inc\" contains the annual income provided by the borrower when they registered as a member. This column will likely be very useful to our model, but we should look for any significant outliers, which could indicate fabrication."
   ]
  },
  {
   "cell_type": "code",
   "execution_count": 329,
   "metadata": {},
   "outputs": [
    {
     "data": {
      "text/plain": [
       "<matplotlib.axes._subplots.AxesSubplot at 0x7f2b97381fd0>"
      ]
     },
     "execution_count": 329,
     "metadata": {},
     "output_type": "execute_result"
    },
    {
     "data": {
      "image/png": "[encoded data removed]",
      "text/plain": [
       "<Figure size 1080x720 with 1 Axes>"
      ]
     },
     "metadata": {
      "needs_background": "light"
     },
     "output_type": "display_data"
    }
   ],
   "source": [
    "plt.figure(figsize=(15,10))\n",
    "sns.boxplot(df['annual_inc'])"
   ]
  },
  {
   "cell_type": "code",
   "execution_count": 330,
   "metadata": {},
   "outputs": [
    {
     "data": {
      "text/plain": [
       "59000.0"
      ]
     },
     "execution_count": 330,
     "metadata": {},
     "output_type": "execute_result"
    }
   ],
   "source": [
    "df['annual_inc'].median()"
   ]
  },
  {
   "cell_type": "markdown",
   "metadata": {},
   "source": [
    "In 2018, the US Census Bureau reported that the median annual income of a US worker was a little over $33,000. From 2007-2011, this number was even lower. Likely, we have some misreporting of income here. This would make sense given that a borrower with a higher income would be more likely to be given a loan. Fortunately, our data contains a column indicating whether the reported income was verified by Lending Club."
   ]
  },
  {
   "cell_type": "code",
   "execution_count": 331,
   "metadata": {},
   "outputs": [
    {
     "data": {
      "image/png": "[encoded data removed]",
      "text/plain": [
       "<Figure size 1080x720 with 1 Axes>"
      ]
     },
     "metadata": {
      "needs_background": "light"
     },
     "output_type": "display_data"
    }
   ],
   "source": [
    "plt.figure(figsize=(15,10))\n",
    "ax = sns.boxplot(x=df['annual_inc'], y=df['verification_status'])"
   ]
  },
  {
   "cell_type": "markdown",
   "metadata": {},
   "source": [
    "We can see by looking at the boxplots that we have a larger spread and more outliers in our \"Source Verified\" (meaning only the income source, not amount, was verified) and \"Not Verified\" categories than we do in our \"Verified\" rows. There's some interesting info to be gleaned here. We can create two more columns and decide during our feature selection process which ones are worth saving: 1) a column which replaces any non-\"Verified\" rows more than our upper-limit with a random \"Verified\" value, and 2) a column which contains a boolean indicating whether the reported income was likely fabricated. A column which indicates trustworthiness of the information provided by the borrower may end up being important for our model. "
   ]
  },
  {
   "cell_type": "code",
   "execution_count": 332,
   "metadata": {},
   "outputs": [],
   "source": [
    "IQR = df['annual_inc'].quantile(0.75) - df['annual_inc'].quantile(0.25)\n",
    "upper_thresh = df['annual_inc'].quantile(0.75) + (IQR * 1.5)"
   ]
  },
  {
   "cell_type": "code",
   "execution_count": 334,
   "metadata": {},
   "outputs": [
    {
     "name": "stderr",
     "output_type": "stream",
     "text": [
      "/home/annahcasey/miniconda3/lib/python3.7/site-packages/ipykernel_launcher.py:6: SettingWithCopyWarning: \n",
      "A value is trying to be set on a copy of a slice from a DataFrame.\n",
      "Try using .loc[row_indexer,col_indexer] = value instead\n",
      "\n",
      "See the caveats in the documentation: https://pandas.pydata.org/pandas-docs/stable/user_guide/indexing.html#returning-a-view-versus-a-copy\n",
      "  \n"
     ]
    }
   ],
   "source": [
    "\"\"\"Creates a column that contains a 1 if the verification status is not 'Verified' \n",
    "and the reported income is higher than our upper-limit.\"\"\"\n",
    "df['possible_fabricator'] = df.apply(lambda x: 1 \n",
    "                                     if ((x['verification_status'] != 'Verified') and \n",
    "                                         (x['annual_inc'] > upper_thresh)) \n",
    "                                     else 0, axis=1)"
   ]
  },
  {
   "cell_type": "code",
   "execution_count": 370,
   "metadata": {},
   "outputs": [
    {
     "name": "stderr",
     "output_type": "stream",
     "text": [
      "/home/annahcasey/miniconda3/lib/python3.7/site-packages/ipykernel_launcher.py:7: SettingWithCopyWarning: \n",
      "A value is trying to be set on a copy of a slice from a DataFrame.\n",
      "Try using .loc[row_indexer,col_indexer] = value instead\n",
      "\n",
      "See the caveats in the documentation: https://pandas.pydata.org/pandas-docs/stable/user_guide/indexing.html#returning-a-view-versus-a-copy\n",
      "  import sys\n"
     ]
    }
   ],
   "source": [
    "\"\"\"Creates a column that replaces unverified incomes larger than their \n",
    "upper-limit with a randomly chosen verified income.\"\"\"\n",
    "\n",
    "df['clean_inc'] = df.apply(lambda x: \n",
    "                           df[df['verification_status']=='Verified']['annual_inc'].sample(n=1).values[0] \n",
    "                           if (x['possible_fabricator'] == 1)\n",
    "                           else x['annual_inc'], axis=1)"
   ]
  },
  {
   "cell_type": "code",
   "execution_count": 335,
   "metadata": {},
   "outputs": [
    {
     "data": {
      "text/plain": [
       "0    41535\n",
       "1     1000\n",
       "Name: possible_fabricator, dtype: int64"
      ]
     },
     "execution_count": 335,
     "metadata": {},
     "output_type": "execute_result"
    }
   ],
   "source": [
    "df['possible_fabricator'].value_counts()"
   ]
  },
  {
   "cell_type": "markdown",
   "metadata": {},
   "source": [
    "The 'issue_d' column indicates the month the loan was funded, but this data leaks from the future. We wouldn't know what month the loan was funded when deciding whether to fund a loan, so we'll drop it."
   ]
  },
  {
   "cell_type": "code",
   "execution_count": 336,
   "metadata": {},
   "outputs": [],
   "source": [
    "cols_to_drop.append('issue_d')"
   ]
  },
  {
   "cell_type": "markdown",
   "metadata": {},
   "source": [
    "The 'loan_status' column contains the current status of the loan. "
   ]
  },
  {
   "cell_type": "code",
   "execution_count": 337,
   "metadata": {},
   "outputs": [
    {
     "data": {
      "text/plain": [
       "Fully Paid                                             33136\n",
       "Charged Off                                             5634\n",
       "Does not meet the credit policy. Status:Fully Paid      1988\n",
       "Current                                                  961\n",
       "Does not meet the credit policy. Status:Charged Off      761\n",
       "Late (31-120 days)                                        24\n",
       "In Grace Period                                           20\n",
       "Late (16-30 days)                                          8\n",
       "Default                                                    3\n",
       "Name: loan_status, dtype: int64"
      ]
     },
     "execution_count": 337,
     "metadata": {},
     "output_type": "execute_result"
    }
   ],
   "source": [
    "df['loan_status'].value_counts(dropna=False)"
   ]
  },
  {
   "cell_type": "markdown",
   "metadata": {},
   "source": [
    "As a feature, this data would certainly be leaking from the future, but it might make a good target for our model. For now, we'll set it as the target and we can change the variable if something better comes along."
   ]
  },
  {
   "cell_type": "code",
   "execution_count": 338,
   "metadata": {},
   "outputs": [],
   "source": [
    "target = df['loan_status']"
   ]
  },
  {
   "cell_type": "markdown",
   "metadata": {},
   "source": [
    "Contained within the \"pymnt_plan\" column is information about whether a payment plan has been put in place for the loan. "
   ]
  },
  {
   "cell_type": "code",
   "execution_count": 339,
   "metadata": {},
   "outputs": [
    {
     "data": {
      "text/plain": [
       "n    42534\n",
       "y        1\n",
       "Name: pymnt_plan, dtype: int64"
      ]
     },
     "execution_count": 339,
     "metadata": {},
     "output_type": "execute_result"
    }
   ],
   "source": [
    "df['pymnt_plan'].value_counts(dropna=False)"
   ]
  },
  {
   "cell_type": "markdown",
   "metadata": {},
   "source": [
    "Given the high homogeneity of this column, it's safe to say it won't be useful to our model."
   ]
  },
  {
   "cell_type": "code",
   "execution_count": 340,
   "metadata": {},
   "outputs": [],
   "source": [
    "cols_to_drop.append('pymnt_plan')"
   ]
  },
  {
   "cell_type": "markdown",
   "metadata": {},
   "source": [
    "Subjects assign a category to the reason for the loan in the \"purpose\" column."
   ]
  },
  {
   "cell_type": "code",
   "execution_count": 341,
   "metadata": {},
   "outputs": [
    {
     "data": {
      "text/plain": [
       "debt_consolidation    19776\n",
       "credit_card            5477\n",
       "other                  4425\n",
       "home_improvement       3199\n",
       "major_purchase         2311\n",
       "small_business         1992\n",
       "car                    1615\n",
       "wedding                1004\n",
       "medical                 753\n",
       "moving                  629\n",
       "house                   426\n",
       "educational             422\n",
       "vacation                400\n",
       "renewable_energy        106\n",
       "Name: purpose, dtype: int64"
      ]
     },
     "execution_count": 341,
     "metadata": {},
     "output_type": "execute_result"
    }
   ],
   "source": [
    "df['purpose'].value_counts(dropna=False)"
   ]
  },
  {
   "cell_type": "markdown",
   "metadata": {},
   "source": [
    "We'll need to dummy-code the categories, but otherwise the column is ready."
   ]
  },
  {
   "cell_type": "markdown",
   "metadata": {},
   "source": [
    "The 'title' column provides the loan title that the borrower assigned to the loan."
   ]
  },
  {
   "cell_type": "code",
   "execution_count": 342,
   "metadata": {},
   "outputs": [
    {
     "data": {
      "text/plain": [
       "Debt Consolidation                                                      2259\n",
       "Debt Consolidation Loan                                                 1760\n",
       "Personal Loan                                                            708\n",
       "Consolidation                                                            547\n",
       "debt consolidation                                                       532\n",
       "                                                                        ... \n",
       "Project Tope                                                               1\n",
       "2400 Loan                                                                  1\n",
       "Excellent Credit- New Product Development for Fast-Growing Business        1\n",
       "Getting Rid of High interest Credit cards                                  1\n",
       "Keeping my girlfriend from going bankrut from a few thousand dollars       1\n",
       "Name: title, Length: 21265, dtype: int64"
      ]
     },
     "execution_count": 342,
     "metadata": {},
     "output_type": "execute_result"
    }
   ],
   "source": [
    "df['title'].value_counts(dropna=False)"
   ]
  },
  {
   "cell_type": "markdown",
   "metadata": {},
   "source": [
    "This column is messy and contains far too many different values and even different kinds of information. We can't use it, so we'll drop it."
   ]
  },
  {
   "cell_type": "code",
   "execution_count": 343,
   "metadata": {},
   "outputs": [],
   "source": [
    "cols_to_drop.append('title')"
   ]
  },
  {
   "cell_type": "markdown",
   "metadata": {},
   "source": [
    "The 'zip_code' column contains the first three digits of the borrower's zip code, which gives us some information about what region they live in. We should keep it, but ensure that it's a string and not an integer so that our model doesn't treat it as numerical. "
   ]
  },
  {
   "cell_type": "code",
   "execution_count": 344,
   "metadata": {},
   "outputs": [
    {
     "data": {
      "text/plain": [
       "100xx    649\n",
       "945xx    559\n",
       "606xx    548\n",
       "112xx    538\n",
       "070xx    503\n",
       "        ... \n",
       "044xx      1\n",
       "831xx      1\n",
       "595xx      1\n",
       "386xx      1\n",
       "884xx      1\n",
       "Name: zip_code, Length: 837, dtype: int64"
      ]
     },
     "execution_count": 344,
     "metadata": {},
     "output_type": "execute_result"
    }
   ],
   "source": [
    "df['zip_code'].value_counts(dropna=False)"
   ]
  },
  {
   "cell_type": "code",
   "execution_count": 345,
   "metadata": {},
   "outputs": [
    {
     "data": {
      "text/plain": [
       "dtype('O')"
      ]
     },
     "execution_count": 345,
     "metadata": {},
     "output_type": "execute_result"
    }
   ],
   "source": [
    "df['zip_code'].dtype"
   ]
  },
  {
   "cell_type": "markdown",
   "metadata": {},
   "source": [
    "Our 'addr_state' column gives us the state the borrower provided with their application, but this is the same information as 'zip_code', but with less categories. We'll drop it."
   ]
  },
  {
   "cell_type": "code",
   "execution_count": 346,
   "metadata": {},
   "outputs": [],
   "source": [
    "cols_to_drop.append('addr_state')"
   ]
  },
  {
   "cell_type": "markdown",
   "metadata": {},
   "source": [
    "The 'dti' column indicates the borrower's debt-to-income ratio, not including mortgages. "
   ]
  },
  {
   "cell_type": "code",
   "execution_count": 347,
   "metadata": {},
   "outputs": [
    {
     "data": {
      "text/plain": [
       "dtype('float64')"
      ]
     },
     "execution_count": 347,
     "metadata": {},
     "output_type": "execute_result"
    }
   ],
   "source": [
    "df['dti'].dtype"
   ]
  },
  {
   "cell_type": "code",
   "execution_count": 348,
   "metadata": {},
   "outputs": [
    {
     "data": {
      "text/plain": [
       "<matplotlib.axes._subplots.AxesSubplot at 0x7f2b975bc780>"
      ]
     },
     "execution_count": 348,
     "metadata": {},
     "output_type": "execute_result"
    },
    {
     "data": {
      "image/png": "[encoded data removed]",
      "text/plain": [
       "<Figure size 432x288 with 1 Axes>"
      ]
     },
     "metadata": {
      "needs_background": "light"
     },
     "output_type": "display_data"
    }
   ],
   "source": [
    "sns.boxplot(df['dti'])"
   ]
  },
  {
   "cell_type": "code",
   "execution_count": 349,
   "metadata": {},
   "outputs": [
    {
     "data": {
      "text/plain": [
       "(11.996, 17.994]    12451\n",
       "(5.998, 11.996]     11142\n",
       "(17.994, 23.992]     9918\n",
       "(-0.031, 5.998]      6977\n",
       "(23.992, 29.99]      2047\n",
       "Name: dti, dtype: int64"
      ]
     },
     "execution_count": 349,
     "metadata": {},
     "output_type": "execute_result"
    }
   ],
   "source": [
    "df['dti'].value_counts(dropna=False, bins=5)"
   ]
  },
  {
   "cell_type": "markdown",
   "metadata": {},
   "source": [
    "Because this number is calculated using the reported income, we have a similar issue as with 'annual_inc'-- we don't know how accurate the number is because income could be fabricated. Let's break it out by whether income was verified like we did with 'annual_inc'."
   ]
  },
  {
   "cell_type": "code",
   "execution_count": 350,
   "metadata": {},
   "outputs": [
    {
     "data": {
      "text/plain": [
       "<matplotlib.axes._subplots.AxesSubplot at 0x7f2b9732bb00>"
      ]
     },
     "execution_count": 350,
     "metadata": {},
     "output_type": "execute_result"
    },
    {
     "data": {
      "image/png": "[encoded data removed]",
      "text/plain": [
       "<Figure size 432x288 with 1 Axes>"
      ]
     },
     "metadata": {
      "needs_background": "light"
     },
     "output_type": "display_data"
    }
   ],
   "source": [
    "sns.boxplot(x='dti', y='verification_status', data=df)"
   ]
  },
  {
   "cell_type": "markdown",
   "metadata": {},
   "source": [
    "Unlike with 'annual_inc', these are reasonably similar enough to each other that we likely don't need to fuss with the column too much. Let's also look at our newly-created 'possible_fabricator' column."
   ]
  },
  {
   "cell_type": "code",
   "execution_count": 351,
   "metadata": {},
   "outputs": [
    {
     "data": {
      "text/plain": [
       "<matplotlib.axes._subplots.AxesSubplot at 0x7f2b94874ef0>"
      ]
     },
     "execution_count": 351,
     "metadata": {},
     "output_type": "execute_result"
    },
    {
     "data": {
      "image/png": "[encoded data removed]",
      "text/plain": [
       "<Figure size 432x288 with 1 Axes>"
      ]
     },
     "metadata": {
      "needs_background": "light"
     },
     "output_type": "display_data"
    }
   ],
   "source": [
    "sns.boxplot(y=df['dti'], x=df['possible_fabricator'])"
   ]
  },
  {
   "cell_type": "markdown",
   "metadata": {},
   "source": [
    "Our possible fabricators do appear to have noticeably lower debt-to-income ratios, which is what we would expect if they were fudging their income. We'll handle this, the same way we did with 'annual_inc', by replacing the 1000 potentially fabricated dtis with a random, verified dti. "
   ]
  },
  {
   "cell_type": "code",
   "execution_count": 373,
   "metadata": {},
   "outputs": [
    {
     "name": "stderr",
     "output_type": "stream",
     "text": [
      "/home/annahcasey/miniconda3/lib/python3.7/site-packages/ipykernel_launcher.py:4: SettingWithCopyWarning: \n",
      "A value is trying to be set on a copy of a slice from a DataFrame.\n",
      "Try using .loc[row_indexer,col_indexer] = value instead\n",
      "\n",
      "See the caveats in the documentation: https://pandas.pydata.org/pandas-docs/stable/user_guide/indexing.html#returning-a-view-versus-a-copy\n",
      "  after removing the cwd from sys.path.\n"
     ]
    }
   ],
   "source": [
    "df['clean_dti'] = df.apply(lambda x: \n",
    "                           df[df['verification_status']=='Verified']['dti'].sample(n=1).values[0] \n",
    "                           if (x['possible_fabricator'] == 1)\n",
    "                           else x['dti'], axis=1)"
   ]
  },
  {
   "cell_type": "markdown",
   "metadata": {},
   "source": [
    "The column 'delinq_2yrs' lets us know how many 30+-days-past-due incidences are in the borrower's credit file from the past two years. "
   ]
  },
  {
   "cell_type": "code",
   "execution_count": 379,
   "metadata": {},
   "outputs": [
    {
     "data": {
      "text/plain": [
       "0.0     37771\n",
       "1.0      3595\n",
       "2.0       771\n",
       "3.0       244\n",
       "4.0        72\n",
       "NaN        29\n",
       "5.0        27\n",
       "6.0        13\n",
       "7.0         6\n",
       "8.0         3\n",
       "11.0        2\n",
       "13.0        1\n",
       "9.0         1\n",
       "Name: delinq_2yrs, dtype: int64"
      ]
     },
     "execution_count": 379,
     "metadata": {},
     "output_type": "execute_result"
    }
   ],
   "source": [
    "df['delinq_2yrs'].value_counts(dropna=False)"
   ]
  },
  {
   "cell_type": "code",
   "execution_count": 380,
   "metadata": {},
   "outputs": [
    {
     "data": {
      "text/plain": [
       "dtype('float64')"
      ]
     },
     "execution_count": 380,
     "metadata": {},
     "output_type": "execute_result"
    }
   ],
   "source": [
    "df['delinq_2yrs'].dtype"
   ]
  },
  {
   "cell_type": "markdown",
   "metadata": {},
   "source": [
    "Our next column of interest is 'application_type.'"
   ]
  },
  {
   "cell_type": "code",
   "execution_count": 27,
   "metadata": {},
   "outputs": [
    {
     "data": {
      "text/plain": [
       "INDIVIDUAL    42535\n",
       "Name: application_type, dtype: int64"
      ]
     },
     "execution_count": 27,
     "metadata": {},
     "output_type": "execute_result"
    }
   ],
   "source": [
    "df['application_type'].value_counts()"
   ]
  },
  {
   "cell_type": "markdown",
   "metadata": {},
   "source": [
    "This column has only one value. We can drop it."
   ]
  },
  {
   "cell_type": "code",
   "execution_count": 28,
   "metadata": {},
   "outputs": [],
   "source": [
    "cols_to_drop.append('application_type')"
   ]
  },
  {
   "cell_type": "code",
   "execution_count": 32,
   "metadata": {},
   "outputs": [
    {
     "data": {
      "text/plain": [
       "Index(['id', 'member_id', 'loan_amnt', 'funded_amnt', 'funded_amnt_inv',\n",
       "       'term', 'int_rate', 'installment', 'grade', 'sub_grade', 'emp_title',\n",
       "       'emp_length', 'home_ownership', 'annual_inc', 'verification_status',\n",
       "       'issue_d', 'loan_status', 'pymnt_plan', 'purpose', 'title', 'zip_code',\n",
       "       'addr_state', 'dti', 'delinq_2yrs', 'earliest_cr_line',\n",
       "       'inq_last_6mths', 'open_acc', 'pub_rec', 'revol_bal', 'revol_util',\n",
       "       'total_acc', 'initial_list_status', 'out_prncp', 'out_prncp_inv',\n",
       "       'total_pymnt', 'total_pymnt_inv', 'total_rec_prncp', 'total_rec_int',\n",
       "       'total_rec_late_fee', 'recoveries', 'collection_recovery_fee',\n",
       "       'last_pymnt_d', 'last_pymnt_amnt', 'last_credit_pull_d',\n",
       "       'collections_12_mths_ex_med', 'policy_code', 'application_type',\n",
       "       'acc_now_delinq', 'chargeoff_within_12_mths', 'delinq_amnt',\n",
       "       'pub_rec_bankruptcies', 'tax_liens', 'clean_inc',\n",
       "       'possible_fabricator'],\n",
       "      dtype='object')"
      ]
     },
     "execution_count": 32,
     "metadata": {},
     "output_type": "execute_result"
    }
   ],
   "source": [
    "df.columns"
   ]
  },
  {
   "cell_type": "code",
   "execution_count": null,
   "metadata": {},
   "outputs": [],
   "source": []
  }
 ],
 "metadata": {
  "kernelspec": {
   "display_name": "Python 3",
   "language": "python",
   "name": "python3"
  },
  "language_info": {
   "codemirror_mode": {
    "name": "ipython",
    "version": 3
   },
   "file_extension": ".py",
   "mimetype": "text/x-python",
   "name": "python",
   "nbconvert_exporter": "python",
   "pygments_lexer": "ipython3",
   "version": "3.7.3"
  }
 },
 "nbformat": 4,
 "nbformat_minor": 2
}
