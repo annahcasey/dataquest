{
 "cells": [
  {
   "cell_type": "code",
   "execution_count": 21,
   "metadata": {},
   "outputs": [],
   "source": [
    "import pandas as pd\n",
    "import numpy as np\n",
    "import seaborn as sns\n",
    "import matplotlib.pyplot as plt\n",
    "from sklearn.linear_model import LinearRegression\n",
    "from sklearn.metrics import mean_squared_error\n",
    "from sklearn.model_selection import KFold\n",
    "from scipy import stats as ss"
   ]
  },
  {
   "cell_type": "code",
   "execution_count": 22,
   "metadata": {},
   "outputs": [],
   "source": [
    "df = pd.read_csv('AmesHousing.tsv', delimiter='\\t')"
   ]
  },
  {
   "cell_type": "code",
   "execution_count": 23,
   "metadata": {},
   "outputs": [
    {
     "data": {
      "text/html": [
       "<div>\n",
       "<style scoped>\n",
       "    .dataframe tbody tr th:only-of-type {\n",
       "        vertical-align: middle;\n",
       "    }\n",
       "\n",
       "    .dataframe tbody tr th {\n",
       "        vertical-align: top;\n",
       "    }\n",
       "\n",
       "    .dataframe thead th {\n",
       "        text-align: right;\n",
       "    }\n",
       "</style>\n",
       "<table border=\"1\" class=\"dataframe\">\n",
       "  <thead>\n",
       "    <tr style=\"text-align: right;\">\n",
       "      <th></th>\n",
       "      <th>Order</th>\n",
       "      <th>PID</th>\n",
       "      <th>MS SubClass</th>\n",
       "      <th>MS Zoning</th>\n",
       "      <th>Lot Frontage</th>\n",
       "      <th>Lot Area</th>\n",
       "      <th>Street</th>\n",
       "      <th>Alley</th>\n",
       "      <th>Lot Shape</th>\n",
       "      <th>Land Contour</th>\n",
       "      <th>...</th>\n",
       "      <th>Pool Area</th>\n",
       "      <th>Pool QC</th>\n",
       "      <th>Fence</th>\n",
       "      <th>Misc Feature</th>\n",
       "      <th>Misc Val</th>\n",
       "      <th>Mo Sold</th>\n",
       "      <th>Yr Sold</th>\n",
       "      <th>Sale Type</th>\n",
       "      <th>Sale Condition</th>\n",
       "      <th>SalePrice</th>\n",
       "    </tr>\n",
       "  </thead>\n",
       "  <tbody>\n",
       "    <tr>\n",
       "      <td>0</td>\n",
       "      <td>1</td>\n",
       "      <td>526301100</td>\n",
       "      <td>20</td>\n",
       "      <td>RL</td>\n",
       "      <td>141.0</td>\n",
       "      <td>31770</td>\n",
       "      <td>Pave</td>\n",
       "      <td>NaN</td>\n",
       "      <td>IR1</td>\n",
       "      <td>Lvl</td>\n",
       "      <td>...</td>\n",
       "      <td>0</td>\n",
       "      <td>NaN</td>\n",
       "      <td>NaN</td>\n",
       "      <td>NaN</td>\n",
       "      <td>0</td>\n",
       "      <td>5</td>\n",
       "      <td>2010</td>\n",
       "      <td>WD</td>\n",
       "      <td>Normal</td>\n",
       "      <td>215000</td>\n",
       "    </tr>\n",
       "    <tr>\n",
       "      <td>1</td>\n",
       "      <td>2</td>\n",
       "      <td>526350040</td>\n",
       "      <td>20</td>\n",
       "      <td>RH</td>\n",
       "      <td>80.0</td>\n",
       "      <td>11622</td>\n",
       "      <td>Pave</td>\n",
       "      <td>NaN</td>\n",
       "      <td>Reg</td>\n",
       "      <td>Lvl</td>\n",
       "      <td>...</td>\n",
       "      <td>0</td>\n",
       "      <td>NaN</td>\n",
       "      <td>MnPrv</td>\n",
       "      <td>NaN</td>\n",
       "      <td>0</td>\n",
       "      <td>6</td>\n",
       "      <td>2010</td>\n",
       "      <td>WD</td>\n",
       "      <td>Normal</td>\n",
       "      <td>105000</td>\n",
       "    </tr>\n",
       "    <tr>\n",
       "      <td>2</td>\n",
       "      <td>3</td>\n",
       "      <td>526351010</td>\n",
       "      <td>20</td>\n",
       "      <td>RL</td>\n",
       "      <td>81.0</td>\n",
       "      <td>14267</td>\n",
       "      <td>Pave</td>\n",
       "      <td>NaN</td>\n",
       "      <td>IR1</td>\n",
       "      <td>Lvl</td>\n",
       "      <td>...</td>\n",
       "      <td>0</td>\n",
       "      <td>NaN</td>\n",
       "      <td>NaN</td>\n",
       "      <td>Gar2</td>\n",
       "      <td>12500</td>\n",
       "      <td>6</td>\n",
       "      <td>2010</td>\n",
       "      <td>WD</td>\n",
       "      <td>Normal</td>\n",
       "      <td>172000</td>\n",
       "    </tr>\n",
       "    <tr>\n",
       "      <td>3</td>\n",
       "      <td>4</td>\n",
       "      <td>526353030</td>\n",
       "      <td>20</td>\n",
       "      <td>RL</td>\n",
       "      <td>93.0</td>\n",
       "      <td>11160</td>\n",
       "      <td>Pave</td>\n",
       "      <td>NaN</td>\n",
       "      <td>Reg</td>\n",
       "      <td>Lvl</td>\n",
       "      <td>...</td>\n",
       "      <td>0</td>\n",
       "      <td>NaN</td>\n",
       "      <td>NaN</td>\n",
       "      <td>NaN</td>\n",
       "      <td>0</td>\n",
       "      <td>4</td>\n",
       "      <td>2010</td>\n",
       "      <td>WD</td>\n",
       "      <td>Normal</td>\n",
       "      <td>244000</td>\n",
       "    </tr>\n",
       "    <tr>\n",
       "      <td>4</td>\n",
       "      <td>5</td>\n",
       "      <td>527105010</td>\n",
       "      <td>60</td>\n",
       "      <td>RL</td>\n",
       "      <td>74.0</td>\n",
       "      <td>13830</td>\n",
       "      <td>Pave</td>\n",
       "      <td>NaN</td>\n",
       "      <td>IR1</td>\n",
       "      <td>Lvl</td>\n",
       "      <td>...</td>\n",
       "      <td>0</td>\n",
       "      <td>NaN</td>\n",
       "      <td>MnPrv</td>\n",
       "      <td>NaN</td>\n",
       "      <td>0</td>\n",
       "      <td>3</td>\n",
       "      <td>2010</td>\n",
       "      <td>WD</td>\n",
       "      <td>Normal</td>\n",
       "      <td>189900</td>\n",
       "    </tr>\n",
       "  </tbody>\n",
       "</table>\n",
       "<p>5 rows × 82 columns</p>\n",
       "</div>"
      ],
      "text/plain": [
       "   Order        PID  MS SubClass MS Zoning  Lot Frontage  Lot Area Street  \\\n",
       "0      1  526301100           20        RL         141.0     31770   Pave   \n",
       "1      2  526350040           20        RH          80.0     11622   Pave   \n",
       "2      3  526351010           20        RL          81.0     14267   Pave   \n",
       "3      4  526353030           20        RL          93.0     11160   Pave   \n",
       "4      5  527105010           60        RL          74.0     13830   Pave   \n",
       "\n",
       "  Alley Lot Shape Land Contour  ... Pool Area Pool QC  Fence Misc Feature  \\\n",
       "0   NaN       IR1          Lvl  ...         0     NaN    NaN          NaN   \n",
       "1   NaN       Reg          Lvl  ...         0     NaN  MnPrv          NaN   \n",
       "2   NaN       IR1          Lvl  ...         0     NaN    NaN         Gar2   \n",
       "3   NaN       Reg          Lvl  ...         0     NaN    NaN          NaN   \n",
       "4   NaN       IR1          Lvl  ...         0     NaN  MnPrv          NaN   \n",
       "\n",
       "  Misc Val Mo Sold Yr Sold Sale Type  Sale Condition  SalePrice  \n",
       "0        0       5    2010       WD           Normal     215000  \n",
       "1        0       6    2010       WD           Normal     105000  \n",
       "2    12500       6    2010       WD           Normal     172000  \n",
       "3        0       4    2010       WD           Normal     244000  \n",
       "4        0       3    2010       WD           Normal     189900  \n",
       "\n",
       "[5 rows x 82 columns]"
      ]
     },
     "execution_count": 23,
     "metadata": {},
     "output_type": "execute_result"
    }
   ],
   "source": [
    "df.head()"
   ]
  },
  {
   "cell_type": "code",
   "execution_count": 24,
   "metadata": {},
   "outputs": [
    {
     "name": "stdout",
     "output_type": "stream",
     "text": [
      "<class 'pandas.core.frame.DataFrame'>\n",
      "RangeIndex: 2930 entries, 0 to 2929\n",
      "Data columns (total 82 columns):\n",
      "Order              2930 non-null int64\n",
      "PID                2930 non-null int64\n",
      "MS SubClass        2930 non-null int64\n",
      "MS Zoning          2930 non-null object\n",
      "Lot Frontage       2440 non-null float64\n",
      "Lot Area           2930 non-null int64\n",
      "Street             2930 non-null object\n",
      "Alley              198 non-null object\n",
      "Lot Shape          2930 non-null object\n",
      "Land Contour       2930 non-null object\n",
      "Utilities          2930 non-null object\n",
      "Lot Config         2930 non-null object\n",
      "Land Slope         2930 non-null object\n",
      "Neighborhood       2930 non-null object\n",
      "Condition 1        2930 non-null object\n",
      "Condition 2        2930 non-null object\n",
      "Bldg Type          2930 non-null object\n",
      "House Style        2930 non-null object\n",
      "Overall Qual       2930 non-null int64\n",
      "Overall Cond       2930 non-null int64\n",
      "Year Built         2930 non-null int64\n",
      "Year Remod/Add     2930 non-null int64\n",
      "Roof Style         2930 non-null object\n",
      "Roof Matl          2930 non-null object\n",
      "Exterior 1st       2930 non-null object\n",
      "Exterior 2nd       2930 non-null object\n",
      "Mas Vnr Type       2907 non-null object\n",
      "Mas Vnr Area       2907 non-null float64\n",
      "Exter Qual         2930 non-null object\n",
      "Exter Cond         2930 non-null object\n",
      "Foundation         2930 non-null object\n",
      "Bsmt Qual          2850 non-null object\n",
      "Bsmt Cond          2850 non-null object\n",
      "Bsmt Exposure      2847 non-null object\n",
      "BsmtFin Type 1     2850 non-null object\n",
      "BsmtFin SF 1       2929 non-null float64\n",
      "BsmtFin Type 2     2849 non-null object\n",
      "BsmtFin SF 2       2929 non-null float64\n",
      "Bsmt Unf SF        2929 non-null float64\n",
      "Total Bsmt SF      2929 non-null float64\n",
      "Heating            2930 non-null object\n",
      "Heating QC         2930 non-null object\n",
      "Central Air        2930 non-null object\n",
      "Electrical         2929 non-null object\n",
      "1st Flr SF         2930 non-null int64\n",
      "2nd Flr SF         2930 non-null int64\n",
      "Low Qual Fin SF    2930 non-null int64\n",
      "Gr Liv Area        2930 non-null int64\n",
      "Bsmt Full Bath     2928 non-null float64\n",
      "Bsmt Half Bath     2928 non-null float64\n",
      "Full Bath          2930 non-null int64\n",
      "Half Bath          2930 non-null int64\n",
      "Bedroom AbvGr      2930 non-null int64\n",
      "Kitchen AbvGr      2930 non-null int64\n",
      "Kitchen Qual       2930 non-null object\n",
      "TotRms AbvGrd      2930 non-null int64\n",
      "Functional         2930 non-null object\n",
      "Fireplaces         2930 non-null int64\n",
      "Fireplace Qu       1508 non-null object\n",
      "Garage Type        2773 non-null object\n",
      "Garage Yr Blt      2771 non-null float64\n",
      "Garage Finish      2771 non-null object\n",
      "Garage Cars        2929 non-null float64\n",
      "Garage Area        2929 non-null float64\n",
      "Garage Qual        2771 non-null object\n",
      "Garage Cond        2771 non-null object\n",
      "Paved Drive        2930 non-null object\n",
      "Wood Deck SF       2930 non-null int64\n",
      "Open Porch SF      2930 non-null int64\n",
      "Enclosed Porch     2930 non-null int64\n",
      "3Ssn Porch         2930 non-null int64\n",
      "Screen Porch       2930 non-null int64\n",
      "Pool Area          2930 non-null int64\n",
      "Pool QC            13 non-null object\n",
      "Fence              572 non-null object\n",
      "Misc Feature       106 non-null object\n",
      "Misc Val           2930 non-null int64\n",
      "Mo Sold            2930 non-null int64\n",
      "Yr Sold            2930 non-null int64\n",
      "Sale Type          2930 non-null object\n",
      "Sale Condition     2930 non-null object\n",
      "SalePrice          2930 non-null int64\n",
      "dtypes: float64(11), int64(28), object(43)\n",
      "memory usage: 1.8+ MB\n"
     ]
    }
   ],
   "source": [
    "df.info()"
   ]
  },
  {
   "cell_type": "markdown",
   "metadata": {},
   "source": [
    "# Feature Transformation & Engineering"
   ]
  },
  {
   "cell_type": "markdown",
   "metadata": {},
   "source": [
    "First step will be to transform our columns and determine best features for model. We can start by looking at the boxplot for percentage of values missing in a column to determine a good cutoff. "
   ]
  },
  {
   "cell_type": "code",
   "execution_count": 25,
   "metadata": {},
   "outputs": [
    {
     "data": {
      "text/plain": [
       "<matplotlib.axes._subplots.AxesSubplot at 0x79c7936c5d68>"
      ]
     },
     "execution_count": 25,
     "metadata": {},
     "output_type": "execute_result"
    },
    {
     "data": {
      "image/png": "[encoded data removed]",
      "text/plain": [
       "<Figure size 432x288 with 1 Axes>"
      ]
     },
     "metadata": {
      "needs_background": "light"
     },
     "output_type": "display_data"
    }
   ],
   "source": [
    "sns.boxplot(df.isnull().sum()/len(df)*100)"
   ]
  },
  {
   "cell_type": "code",
   "execution_count": 26,
   "metadata": {},
   "outputs": [
    {
     "name": "stdout",
     "output_type": "stream",
     "text": [
      "Average % Missing Values Per Column:\n"
     ]
    },
    {
     "data": {
      "text/plain": [
       "5.8257720802463995"
      ]
     },
     "execution_count": 26,
     "metadata": {},
     "output_type": "execute_result"
    }
   ],
   "source": [
    "print('Average % Missing Values Per Column:')\n",
    "(df.isnull().sum()/len(df)*100).mean()"
   ]
  },
  {
   "cell_type": "markdown",
   "metadata": {},
   "source": [
    "Looks like most columns are missing less than twenty percent of their values. Let's write a function that rids us of columns missing more than that."
   ]
  },
  {
   "cell_type": "code",
   "execution_count": 27,
   "metadata": {},
   "outputs": [],
   "source": [
    "def drop_missing(df):\n",
    "    dataframe = df.copy()\n",
    "    cutoff = 0.2 * len(dataframe)\n",
    "    for col in dataframe:\n",
    "        if dataframe[col].isnull().sum() >= cutoff:\n",
    "            print(col)\n",
    "            dataframe = dataframe.drop(columns=[col])\n",
    "    return dataframe"
   ]
  },
  {
   "cell_type": "code",
   "execution_count": 28,
   "metadata": {},
   "outputs": [
    {
     "name": "stdout",
     "output_type": "stream",
     "text": [
      "Dropped because of too many missing values:\n",
      "Alley\n",
      "Fireplace Qu\n",
      "Pool QC\n",
      "Fence\n",
      "Misc Feature\n"
     ]
    }
   ],
   "source": [
    "print(\"Dropped because of too many missing values:\")\n",
    "clean_df = drop_missing(df)"
   ]
  },
  {
   "cell_type": "markdown",
   "metadata": {},
   "source": [
    "How does the boxplot of % missing values in a column look now?"
   ]
  },
  {
   "cell_type": "code",
   "execution_count": 29,
   "metadata": {},
   "outputs": [
    {
     "data": {
      "text/plain": [
       "<matplotlib.axes._subplots.AxesSubplot at 0x79c7931632b0>"
      ]
     },
     "execution_count": 29,
     "metadata": {},
     "output_type": "execute_result"
    },
    {
     "data": {
      "image/png": "[encoded data removed]",
      "text/plain": [
       "<Figure size 432x288 with 1 Axes>"
      ]
     },
     "metadata": {
      "needs_background": "light"
     },
     "output_type": "display_data"
    }
   ],
   "source": [
    "sns.boxplot(clean_df.isnull().sum()/len(clean_df)*100)"
   ]
  },
  {
   "cell_type": "code",
   "execution_count": 30,
   "metadata": {},
   "outputs": [
    {
     "name": "stdout",
     "output_type": "stream",
     "text": [
      "Average % Missing Values Per Column:\n"
     ]
    },
    {
     "data": {
      "text/plain": [
       "0.7730153805239128"
      ]
     },
     "execution_count": 30,
     "metadata": {},
     "output_type": "execute_result"
    }
   ],
   "source": [
    "print('Average % Missing Values Per Column:')\n",
    "(clean_df.isnull().sum()/len(clean_df)*100).mean()"
   ]
  },
  {
   "cell_type": "markdown",
   "metadata": {},
   "source": [
    "So which columns are we left with?"
   ]
  },
  {
   "cell_type": "code",
   "execution_count": 31,
   "metadata": {},
   "outputs": [
    {
     "name": "stdout",
     "output_type": "stream",
     "text": [
      "<class 'pandas.core.frame.DataFrame'>\n",
      "RangeIndex: 2930 entries, 0 to 2929\n",
      "Data columns (total 77 columns):\n",
      "Order              2930 non-null int64\n",
      "PID                2930 non-null int64\n",
      "MS SubClass        2930 non-null int64\n",
      "MS Zoning          2930 non-null object\n",
      "Lot Frontage       2440 non-null float64\n",
      "Lot Area           2930 non-null int64\n",
      "Street             2930 non-null object\n",
      "Lot Shape          2930 non-null object\n",
      "Land Contour       2930 non-null object\n",
      "Utilities          2930 non-null object\n",
      "Lot Config         2930 non-null object\n",
      "Land Slope         2930 non-null object\n",
      "Neighborhood       2930 non-null object\n",
      "Condition 1        2930 non-null object\n",
      "Condition 2        2930 non-null object\n",
      "Bldg Type          2930 non-null object\n",
      "House Style        2930 non-null object\n",
      "Overall Qual       2930 non-null int64\n",
      "Overall Cond       2930 non-null int64\n",
      "Year Built         2930 non-null int64\n",
      "Year Remod/Add     2930 non-null int64\n",
      "Roof Style         2930 non-null object\n",
      "Roof Matl          2930 non-null object\n",
      "Exterior 1st       2930 non-null object\n",
      "Exterior 2nd       2930 non-null object\n",
      "Mas Vnr Type       2907 non-null object\n",
      "Mas Vnr Area       2907 non-null float64\n",
      "Exter Qual         2930 non-null object\n",
      "Exter Cond         2930 non-null object\n",
      "Foundation         2930 non-null object\n",
      "Bsmt Qual          2850 non-null object\n",
      "Bsmt Cond          2850 non-null object\n",
      "Bsmt Exposure      2847 non-null object\n",
      "BsmtFin Type 1     2850 non-null object\n",
      "BsmtFin SF 1       2929 non-null float64\n",
      "BsmtFin Type 2     2849 non-null object\n",
      "BsmtFin SF 2       2929 non-null float64\n",
      "Bsmt Unf SF        2929 non-null float64\n",
      "Total Bsmt SF      2929 non-null float64\n",
      "Heating            2930 non-null object\n",
      "Heating QC         2930 non-null object\n",
      "Central Air        2930 non-null object\n",
      "Electrical         2929 non-null object\n",
      "1st Flr SF         2930 non-null int64\n",
      "2nd Flr SF         2930 non-null int64\n",
      "Low Qual Fin SF    2930 non-null int64\n",
      "Gr Liv Area        2930 non-null int64\n",
      "Bsmt Full Bath     2928 non-null float64\n",
      "Bsmt Half Bath     2928 non-null float64\n",
      "Full Bath          2930 non-null int64\n",
      "Half Bath          2930 non-null int64\n",
      "Bedroom AbvGr      2930 non-null int64\n",
      "Kitchen AbvGr      2930 non-null int64\n",
      "Kitchen Qual       2930 non-null object\n",
      "TotRms AbvGrd      2930 non-null int64\n",
      "Functional         2930 non-null object\n",
      "Fireplaces         2930 non-null int64\n",
      "Garage Type        2773 non-null object\n",
      "Garage Yr Blt      2771 non-null float64\n",
      "Garage Finish      2771 non-null object\n",
      "Garage Cars        2929 non-null float64\n",
      "Garage Area        2929 non-null float64\n",
      "Garage Qual        2771 non-null object\n",
      "Garage Cond        2771 non-null object\n",
      "Paved Drive        2930 non-null object\n",
      "Wood Deck SF       2930 non-null int64\n",
      "Open Porch SF      2930 non-null int64\n",
      "Enclosed Porch     2930 non-null int64\n",
      "3Ssn Porch         2930 non-null int64\n",
      "Screen Porch       2930 non-null int64\n",
      "Pool Area          2930 non-null int64\n",
      "Misc Val           2930 non-null int64\n",
      "Mo Sold            2930 non-null int64\n",
      "Yr Sold            2930 non-null int64\n",
      "Sale Type          2930 non-null object\n",
      "Sale Condition     2930 non-null object\n",
      "SalePrice          2930 non-null int64\n",
      "dtypes: float64(11), int64(28), object(38)\n",
      "memory usage: 1.7+ MB\n"
     ]
    }
   ],
   "source": [
    "clean_df.info()"
   ]
  },
  {
   "cell_type": "markdown",
   "metadata": {},
   "source": [
    "Since we know we're going to be doing a linear regression, we also want to get rid of any columns that aren't particularly informative. Specifically, we're going to drop columns where the vast majority of values within the column are the same."
   ]
  },
  {
   "cell_type": "code",
   "execution_count": 32,
   "metadata": {},
   "outputs": [
    {
     "name": "stdout",
     "output_type": "stream",
     "text": [
      "Columns Dropped Due to High Homogeneity:\n",
      "Street\n",
      "Utilities\n",
      "Condition 2\n",
      "Roof Matl\n",
      "Heating\n",
      "Low Qual Fin SF\n",
      "3Ssn Porch\n",
      "Pool Area\n"
     ]
    }
   ],
   "source": [
    "#drops columns from clean_df where >98% of values are the same and prints list of dropped columns.\n",
    "print('Columns Dropped Due to High Homogeneity:')\n",
    "for col in clean_df:\n",
    "    if (clean_df[col].value_counts(normalize=True)*100).sort_values(ascending=False).iloc[0] > 98:\n",
    "        clean_df = clean_df.drop(columns=[col])\n",
    "        print(col)"
   ]
  },
  {
   "cell_type": "markdown",
   "metadata": {},
   "source": [
    "And here's what's left."
   ]
  },
  {
   "cell_type": "code",
   "execution_count": 33,
   "metadata": {},
   "outputs": [
    {
     "data": {
      "text/plain": [
       "Index(['Order', 'PID', 'MS SubClass', 'MS Zoning', 'Lot Frontage', 'Lot Area',\n",
       "       'Lot Shape', 'Land Contour', 'Lot Config', 'Land Slope', 'Neighborhood',\n",
       "       'Condition 1', 'Bldg Type', 'House Style', 'Overall Qual',\n",
       "       'Overall Cond', 'Year Built', 'Year Remod/Add', 'Roof Style',\n",
       "       'Exterior 1st', 'Exterior 2nd', 'Mas Vnr Type', 'Mas Vnr Area',\n",
       "       'Exter Qual', 'Exter Cond', 'Foundation', 'Bsmt Qual', 'Bsmt Cond',\n",
       "       'Bsmt Exposure', 'BsmtFin Type 1', 'BsmtFin SF 1', 'BsmtFin Type 2',\n",
       "       'BsmtFin SF 2', 'Bsmt Unf SF', 'Total Bsmt SF', 'Heating QC',\n",
       "       'Central Air', 'Electrical', '1st Flr SF', '2nd Flr SF', 'Gr Liv Area',\n",
       "       'Bsmt Full Bath', 'Bsmt Half Bath', 'Full Bath', 'Half Bath',\n",
       "       'Bedroom AbvGr', 'Kitchen AbvGr', 'Kitchen Qual', 'TotRms AbvGrd',\n",
       "       'Functional', 'Fireplaces', 'Garage Type', 'Garage Yr Blt',\n",
       "       'Garage Finish', 'Garage Cars', 'Garage Area', 'Garage Qual',\n",
       "       'Garage Cond', 'Paved Drive', 'Wood Deck SF', 'Open Porch SF',\n",
       "       'Enclosed Porch', 'Screen Porch', 'Misc Val', 'Mo Sold', 'Yr Sold',\n",
       "       'Sale Type', 'Sale Condition', 'SalePrice'],\n",
       "      dtype='object')"
      ]
     },
     "execution_count": 33,
     "metadata": {},
     "output_type": "execute_result"
    }
   ],
   "source": [
    "clean_df.columns"
   ]
  },
  {
   "cell_type": "markdown",
   "metadata": {},
   "source": [
    "To get more info, we'll need to dive into some of these columns. Starting from the top, I know that \"Order\" and \"PID\" are unnecessary identifiers. From the documentation, I know that \"MS SubClass\" is actually categorical, but coded using numbers. \"Overall Quality\" and \"Overall Condition\" are ordinal, so for the sake of our regression, we'll need to convert them to categorical variables as well, since we don't know anything about the distances between our ranks. \"Yr Sold\" and \"Mo Sold\" should also be converted to categorical variables, since they're unlikely to vary with \"SalePrice\" in a linear fashion. "
   ]
  },
  {
   "cell_type": "code",
   "execution_count": 34,
   "metadata": {},
   "outputs": [],
   "source": [
    "clean_df = clean_df.drop(columns=['Order', 'PID'])\n",
    "for col in ['MS SubClass', 'Overall Qual', 'Overall Cond', 'Yr Sold', 'Mo Sold']:\n",
    "    clean_df[col] = clean_df[col].astype(str)"
   ]
  },
  {
   "cell_type": "markdown",
   "metadata": {},
   "source": [
    "We'll need to impute any missing values in our numerical variables. The best imputation method will depend on our distribution for each variable. So, we'll write a function that gives us the distribution plots for each numerical variable with missing values."
   ]
  },
  {
   "cell_type": "code",
   "execution_count": 35,
   "metadata": {},
   "outputs": [
    {
     "data": {
      "image/png": "[encoded data removed]",
      "text/plain": [
       "<Figure size 432x288 with 1 Axes>"
      ]
     },
     "metadata": {
      "needs_background": "light"
     },
     "output_type": "display_data"
    },
    {
     "data": {
      "image/png": "[encoded data removed]",
      "text/plain": [
       "<Figure size 432x288 with 1 Axes>"
      ]
     },
     "metadata": {
      "needs_background": "light"
     },
     "output_type": "display_data"
    },
    {
     "data": {
      "image/png": "[encoded data removed]",
      "text/plain": [
       "<Figure size 432x288 with 1 Axes>"
      ]
     },
     "metadata": {
      "needs_background": "light"
     },
     "output_type": "display_data"
    },
    {
     "data": {
      "image/png": "[encoded data removed]",
      "text/plain": [
       "<Figure size 432x288 with 1 Axes>"
      ]
     },
     "metadata": {
      "needs_background": "light"
     },
     "output_type": "display_data"
    },
    {
     "data": {
      "image/png": "[encoded data removed]",
      "text/plain": [
       "<Figure size 432x288 with 1 Axes>"
      ]
     },
     "metadata": {
      "needs_background": "light"
     },
     "output_type": "display_data"
    },
    {
     "data": {
      "image/png": "[encoded data removed]",
      "text/plain": [
       "<Figure size 432x288 with 1 Axes>"
      ]
     },
     "metadata": {
      "needs_background": "light"
     },
     "output_type": "display_data"
    },
    {
     "data": {
      "image/png": "[encoded data removed]",
      "text/plain": [
       "<Figure size 432x288 with 1 Axes>"
      ]
     },
     "metadata": {
      "needs_background": "light"
     },
     "output_type": "display_data"
    },
    {
     "data": {
      "image/png": "[encoded data removed]",
      "text/plain": [
       "<Figure size 432x288 with 1 Axes>"
      ]
     },
     "metadata": {
      "needs_background": "light"
     },
     "output_type": "display_data"
    },
    {
     "data": {
      "image/png": "[encoded data removed]",
      "text/plain": [
       "<Figure size 432x288 with 1 Axes>"
      ]
     },
     "metadata": {
      "needs_background": "light"
     },
     "output_type": "display_data"
    },
    {
     "data": {
      "image/png": "[encoded data removed]",
      "text/plain": [
       "<Figure size 432x288 with 1 Axes>"
      ]
     },
     "metadata": {
      "needs_background": "light"
     },
     "output_type": "display_data"
    },
    {
     "data": {
      "image/png": "[encoded data removed]",
      "text/plain": [
       "<Figure size 432x288 with 1 Axes>"
      ]
     },
     "metadata": {
      "needs_background": "light"
     },
     "output_type": "display_data"
    }
   ],
   "source": [
    "def distplot_for_imputation(dataframe):\n",
    "    for i,col in enumerate(dataframe.select_dtypes(include=['integer', 'float'])):\n",
    "        if dataframe[col].isnull().sum() > 0:\n",
    "            plt.figure(i)\n",
    "            ax = sns.distplot(dataframe[col].dropna())\n",
    "            ax.axvline(dataframe[col].mean(), c='red')\n",
    "            ax.axvline(dataframe[col].median(), c='green')\n",
    "            \n",
    "distplot_for_imputation(clean_df)"
   ]
  },
  {
   "cell_type": "markdown",
   "metadata": {},
   "source": [
    "For simplicity's sake, I'll be sticking with imputation using either the mean or median for each column. From the above distplots, we can see which is more appropriate for each variable. I'll be using the mean for \"Lot Frontage\", \"BsmtFin SF 1\", \"Garage Yr Blt\", and \"Garage Area\", and the median for \"Mas Vnr Area\", \"BsmtFin SF 2\", \"Bsmt Unf SF\", \"Total Bsmt SF\", \"Bsmt Full Bath\", \"Bsmt Half Bath\", and \"Garage Cars\"."
   ]
  },
  {
   "cell_type": "code",
   "execution_count": 36,
   "metadata": {},
   "outputs": [],
   "source": [
    "def impute_with_means(dataframe, cols_list):\n",
    "    for col in cols_list:\n",
    "        dataframe[col] = dataframe[col].fillna(dataframe[col].mean())\n",
    "\n",
    "cols_for_mean_imputation = [\"Lot Frontage\", \"BsmtFin SF 1\", \"Garage Yr Blt\", \"Garage Area\"]\n",
    "\n",
    "impute_with_means(clean_df, cols_for_mean_imputation)"
   ]
  },
  {
   "cell_type": "code",
   "execution_count": 37,
   "metadata": {},
   "outputs": [],
   "source": [
    "def impute_with_medians(dataframe, cols_list):\n",
    "    for col in cols_list:\n",
    "        dataframe[col] = dataframe[col].fillna(dataframe[col].median())\n",
    "\n",
    "cols_for_median_imputation = [\"Mas Vnr Area\", \"BsmtFin SF 2\", \"Bsmt Unf SF\", \"Total Bsmt SF\", \"Bsmt Full Bath\", \"Bsmt Half Bath\", \"Garage Cars\"]\n",
    "\n",
    "impute_with_medians(clean_df, cols_for_median_imputation)"
   ]
  },
  {
   "cell_type": "markdown",
   "metadata": {},
   "source": [
    "Some columns seem to contain significantly overlapping information. For example, \"Land Contour\" and \"Land Slope\" (though we will test if this is the case with Cramer's V), \"Gr Liv Area\" and \"TotRms AbvGrd\", \"Garage Cars\" and \"Garage Area\", and \"MS SubClass\" and \"House Style\". We can either combine or drop one of these in each pairing."
   ]
  },
  {
   "cell_type": "code",
   "execution_count": 38,
   "metadata": {},
   "outputs": [
    {
     "data": {
      "text/plain": [
       "0.43667872822477694"
      ]
     },
     "execution_count": 38,
     "metadata": {},
     "output_type": "execute_result"
    }
   ],
   "source": [
    "def cramers_v(x, y):\n",
    "    confusion_matrix = pd.crosstab(x,y)\n",
    "    chi2 = ss.chi2_contingency(confusion_matrix)[0]\n",
    "    n = confusion_matrix.sum().sum()\n",
    "    phi2 = chi2/n\n",
    "    r,k = confusion_matrix.shape\n",
    "    phi2corr = max(0, phi2-((k-1)*(r-1))/(n-1))\n",
    "    rcorr = r-((r-1)**2)/(n-1)\n",
    "    kcorr = k-((k-1)**2)/(n-1)\n",
    "    return np.sqrt(phi2corr/min((kcorr-1),(rcorr-1)))\n",
    "\n",
    "cramers_v(clean_df['Land Slope'], clean_df['Land Contour'])"
   ]
  },
  {
   "cell_type": "markdown",
   "metadata": {},
   "source": [
    "\"Land Contour\" and \"Land Slope\" are significantly less correlated than I expected them to be. We'll keep both. \"MS SubClass\" is basically a combination of \"Yr Sold\" and \"House Style\", so we don't need it. We know that \"Gr Liv Area\" contains more info than \"TotRms AbvGrd\", and \"Garage Area\" contains more info than \"Garage Cars\". Let's drop the less informative columns. Before we drop \"TotRms AbvGrd,\" however, I want to use it to engineer a feature \"Avg Rm Area AbvGrd.\" Given the popularity of open floorplans, there's a possibility that larger rooms are linked with higher prices."
   ]
  },
  {
   "cell_type": "code",
   "execution_count": 39,
   "metadata": {},
   "outputs": [],
   "source": [
    "clean_df['Avg Rm Area AbvGrd'] = clean_df['Gr Liv Area']/clean_df['TotRms AbvGrd']\n",
    "clean_df = clean_df.drop(columns=['TotRms AbvGrd', 'Garage Cars', 'MS SubClass'])"
   ]
  },
  {
   "cell_type": "markdown",
   "metadata": {},
   "source": [
    "Some interesting information is contained in \"Condition 1\", like adjacency to railroads and arterial streets. We might want to collapse some of these categories, though. For example, the dataframe has seperate categories for adjacent vs. \"near\" (within 200'), and well as separate categories for \"north-south\" vs. \"east-west\" railroads. I doubt these distinctions matter when it comes to sales price, but let's look at the boxplots."
   ]
  },
  {
   "cell_type": "code",
   "execution_count": 40,
   "metadata": {},
   "outputs": [
    {
     "data": {
      "text/plain": [
       "<matplotlib.axes._subplots.AxesSubplot at 0x79c79310b0f0>"
      ]
     },
     "execution_count": 40,
     "metadata": {},
     "output_type": "execute_result"
    },
    {
     "data": {
      "image/png": "[encoded data removed]",
      "text/plain": [
       "<Figure size 432x288 with 1 Axes>"
      ]
     },
     "metadata": {
      "needs_background": "light"
     },
     "output_type": "display_data"
    }
   ],
   "source": [
    "near_busy_rds = clean_df[(clean_df['Condition 1']=='Artery') | (clean_df['Condition 1']=='Feedr') | (clean_df['Condition 1']=='Norm')]\n",
    "sns.boxplot(y=near_busy_rds['SalePrice'], x=near_busy_rds['Condition 1'])"
   ]
  },
  {
   "cell_type": "code",
   "execution_count": 41,
   "metadata": {},
   "outputs": [
    {
     "data": {
      "text/plain": [
       "<matplotlib.axes._subplots.AxesSubplot at 0x79c793993438>"
      ]
     },
     "execution_count": 41,
     "metadata": {},
     "output_type": "execute_result"
    },
    {
     "data": {
      "image/png": "[encoded data removed]",
      "text/plain": [
       "<Figure size 432x288 with 1 Axes>"
      ]
     },
     "metadata": {
      "needs_background": "light"
     },
     "output_type": "display_data"
    }
   ],
   "source": [
    "near_positives = clean_df[(clean_df['Condition 1']=='Norm') | (clean_df['Condition 1']=='PosN') | (clean_df['Condition 1']=='PosA')]\n",
    "sns.boxplot(y=near_positives['SalePrice'], x=near_positives['Condition 1'])"
   ]
  },
  {
   "cell_type": "code",
   "execution_count": 42,
   "metadata": {},
   "outputs": [
    {
     "data": {
      "text/plain": [
       "<matplotlib.axes._subplots.AxesSubplot at 0x79c7935f8128>"
      ]
     },
     "execution_count": 42,
     "metadata": {},
     "output_type": "execute_result"
    },
    {
     "data": {
      "image/png": "[encoded data removed]",
      "text/plain": [
       "<Figure size 432x288 with 1 Axes>"
      ]
     },
     "metadata": {
      "needs_background": "light"
     },
     "output_type": "display_data"
    }
   ],
   "source": [
    "near_railrds = clean_df[(clean_df['Condition 1'] == 'Norm') | (clean_df['Condition 1']=='RRNn') | (clean_df['Condition 1']=='RRAn') | (clean_df['Condition 1']=='RRNe') | (clean_df['Condition 1']=='RRAe')]\n",
    "sns.boxplot(y=near_railrds['SalePrice'], x=near_railrds['Condition 1'])"
   ]
  },
  {
   "cell_type": "markdown",
   "metadata": {},
   "source": [
    "While I think a compelling case can be made for grouping \"Feedr\" and \"Artery\" (which indicate if a property is on a busy street or a busier street), as well as \"PosN\" and \"PosA\" (which indicate whether the property is near or directly adjacent to something positive, such as a park), the boxplots for our railroad values don't support the idea of collapsing these categories. Intuitively, being directly adjacent to a railroad vs. up to 200' away from a railroad does seem like a significantly different kind of living situation. What if we just collapse the railroad direction?"
   ]
  },
  {
   "cell_type": "code",
   "execution_count": 43,
   "metadata": {},
   "outputs": [],
   "source": [
    "clean_df['Condition 1'] = clean_df['Condition 1'].apply(\n",
    "    lambda x: 'RRA' if (x == 'RRAe' or x == 'RRAn') \n",
    "    else ('RRN' if (x == 'RRNe' or x == 'RRNn') else x))"
   ]
  },
  {
   "cell_type": "code",
   "execution_count": 44,
   "metadata": {},
   "outputs": [
    {
     "data": {
      "text/plain": [
       "<matplotlib.axes._subplots.AxesSubplot at 0x79c793be8128>"
      ]
     },
     "execution_count": 44,
     "metadata": {},
     "output_type": "execute_result"
    },
    {
     "data": {
      "image/png": "[encoded data removed]",
      "text/plain": [
       "<Figure size 432x288 with 1 Axes>"
      ]
     },
     "metadata": {
      "needs_background": "light"
     },
     "output_type": "display_data"
    }
   ],
   "source": [
    "near_railrds = clean_df[(clean_df['Condition 1'] == 'Norm') | (clean_df['Condition 1']=='RRN') | (clean_df['Condition 1']=='RRA')]\n",
    "sns.boxplot(y=near_railrds['SalePrice'], x=near_railrds['Condition 1'])"
   ]
  },
  {
   "cell_type": "markdown",
   "metadata": {},
   "source": [
    "We can see that being near (within 200' of a railroad) is more like the norm than being directly adjacent to a railroad in the above boxplot. So, let's collapse our categories down to: railroad adjacent (RRA), near railroad (RRN), near or adacent to positives (PosNA), on a feeder or arterial st (BusyRd), and Norm. "
   ]
  },
  {
   "cell_type": "code",
   "execution_count": 45,
   "metadata": {},
   "outputs": [],
   "source": [
    "clean_df['Condition 1'] = clean_df['Condition 1'].map({\n",
    "    'RRA': 'RRA',\n",
    "    'RRN': 'RRN',\n",
    "    'PosN': 'PosNA',\n",
    "    'PosA': 'PosNA',\n",
    "    'Feedr': 'BusyRd',\n",
    "    'Artery': 'BusyRd',\n",
    "    'Norm': 'Norm'\n",
    "})"
   ]
  },
  {
   "cell_type": "code",
   "execution_count": 46,
   "metadata": {},
   "outputs": [
    {
     "data": {
      "text/plain": [
       "<matplotlib.axes._subplots.AxesSubplot at 0x79c793a59518>"
      ]
     },
     "execution_count": 46,
     "metadata": {},
     "output_type": "execute_result"
    },
    {
     "data": {
      "image/png": "[encoded data removed]",
      "text/plain": [
       "<Figure size 432x288 with 1 Axes>"
      ]
     },
     "metadata": {
      "needs_background": "light"
     },
     "output_type": "display_data"
    }
   ],
   "source": [
    "sns.boxplot(x=clean_df['Condition 1'], y=clean_df['SalePrice'])"
   ]
  },
  {
   "cell_type": "markdown",
   "metadata": {},
   "source": [
    "\"Year Built\" might give some idea of the architectural style of the house, but the more important information it contains is the age of the house at sale. Similarly, \"Year Remod/Add\" is probably more useful to us as age, as is \"Garage Yr Blt\"."
   ]
  },
  {
   "cell_type": "code",
   "execution_count": 49,
   "metadata": {},
   "outputs": [],
   "source": [
    "clean_df['Sale Age'] = clean_df['Yr Sold'].astype(int) - clean_df['Year Built']\n",
    "clean_df['Sale Remod/Add Age'] = clean_df['Yr Sold'].astype(int) - clean_df['Year Remod/Add']\n",
    "clean_df['Sale Garage Age'] = clean_df['Yr Sold'].astype(int) - clean_df['Garage Yr Blt']\n",
    "clean_df.drop(columns = ['Year Built', 'Year Remod/Add', 'Garage Yr Blt'], inplace=True)"
   ]
  },
  {
   "cell_type": "markdown",
   "metadata": {},
   "source": [
    "\"Exterior 1st\" and \"Exterior 2nd\" won't dummy code correctly the way that they are currently categorized. We'll need to replace all the \"Exterior 2nd\" values that are the same as the \"Exterior 1st\" values with NaN. But first, we'll need to make sure they have consistent strings. Then we'll do the same with \"BsmtFin Type 1\" and \"BsmtFin Type 2\"."
   ]
  },
  {
   "cell_type": "code",
   "execution_count": 50,
   "metadata": {},
   "outputs": [],
   "source": [
    "clean_df['Exterior 1st'] = clean_df['Exterior 1st'].map({\n",
    "    'AsbShng': 'AsbShng',\n",
    "    'AsphShn': 'AsphShn',\n",
    "    'BrkComm': 'Brk Cmn',\n",
    "    'BrkFace': 'BrkFace',\n",
    "    'CBlock': 'CBlock',\n",
    "    'CemntBd': 'CmentBd',\n",
    "    'HdBoard': 'HdBoard',\n",
    "    'ImStucc': 'ImStucc',\n",
    "    'MetalSd': 'MetalSd',\n",
    "    'Other': 'Other',\n",
    "    'Plywood': 'Plywood',\n",
    "    'PreCast': 'PreCast',\n",
    "    'Stone': 'Stone',\n",
    "    'Stucco': 'Stucco',\n",
    "    'VinylSd': 'VinylSd',\n",
    "    'Wd Sdng': 'Wd Sdng',\n",
    "    'WdShing': 'Wd Shng'\n",
    "})\n",
    "for index,row in clean_df.iterrows():\n",
    "    if row['Exterior 1st'] == row['Exterior 2nd']:\n",
    "        clean_df.loc[index,'Exterior 2nd'] = np.nan"
   ]
  },
  {
   "cell_type": "code",
   "execution_count": 51,
   "metadata": {},
   "outputs": [
    {
     "data": {
      "text/plain": [
       "VinylSd    1026\n",
       "MetalSd     450\n",
       "HdBoard     442\n",
       "Wd Sdng     420\n",
       "Plywood     221\n",
       "CmentBd     126\n",
       "BrkFace      88\n",
       "Wd Shng      56\n",
       "AsbShng      44\n",
       "Stucco       43\n",
       "Brk Cmn       6\n",
       "CBlock        2\n",
       "Stone         2\n",
       "AsphShn       2\n",
       "PreCast       1\n",
       "ImStucc       1\n",
       "Name: Exterior 1st, dtype: int64"
      ]
     },
     "execution_count": 51,
     "metadata": {},
     "output_type": "execute_result"
    }
   ],
   "source": [
    "clean_df['Exterior 1st'].value_counts(dropna=False)"
   ]
  },
  {
   "cell_type": "code",
   "execution_count": 52,
   "metadata": {},
   "outputs": [
    {
     "data": {
      "text/plain": [
       "NaN        2657\n",
       "Plywood      88\n",
       "Wd Shng      40\n",
       "Wd Sdng      39\n",
       "HdBoard      23\n",
       "Brk Cmn      18\n",
       "Stucco       14\n",
       "ImStucc      14\n",
       "MetalSd      10\n",
       "VinylSd       9\n",
       "Stone         5\n",
       "AsbShng       3\n",
       "BrkFace       3\n",
       "CBlock        2\n",
       "AsphShn       2\n",
       "CmentBd       2\n",
       "Other         1\n",
       "Name: Exterior 2nd, dtype: int64"
      ]
     },
     "execution_count": 52,
     "metadata": {},
     "output_type": "execute_result"
    }
   ],
   "source": [
    "clean_df['Exterior 2nd'].value_counts(dropna=False)"
   ]
  },
  {
   "cell_type": "code",
   "execution_count": 53,
   "metadata": {},
   "outputs": [],
   "source": [
    "for index,row in clean_df.iterrows():\n",
    "    if row['BsmtFin Type 1'] == row['BsmtFin Type 2']:\n",
    "        clean_df.loc[index,'BsmtFin Type 2'] = np.nan"
   ]
  },
  {
   "cell_type": "code",
   "execution_count": 54,
   "metadata": {},
   "outputs": [
    {
     "data": {
      "text/plain": [
       "Unf    1648\n",
       "NaN     933\n",
       "Rec     106\n",
       "LwQ      89\n",
       "BLQ      67\n",
       "ALQ      53\n",
       "GLQ      34\n",
       "Name: BsmtFin Type 2, dtype: int64"
      ]
     },
     "execution_count": 54,
     "metadata": {},
     "output_type": "execute_result"
    }
   ],
   "source": [
    "clean_df['BsmtFin Type 2'].value_counts(dropna=False)"
   ]
  },
  {
   "cell_type": "markdown",
   "metadata": {},
   "source": [
    "Now we'll dummy-code both of these categories separately to ensure they code correctly."
   ]
  },
  {
   "cell_type": "code",
   "execution_count": 55,
   "metadata": {},
   "outputs": [],
   "source": [
    "#creates one column that combines the two related cols\n",
    "clean_df['All Exteriors'] = 'All Exteriors_' + clean_df['Exterior 2nd'] + '|' + 'All Exteriors_' + clean_df['Exterior 1st']\n",
    "clean_df['All BsmtFin Types'] = 'All BsmtFin Types_' + clean_df['BsmtFin Type 1'] + '|' + 'All BsmtFin Types_' + clean_df['BsmtFin Type 2']\n",
    "#imputes the combined col with its mode\n",
    "clean_df['All Exteriors'] = clean_df['All Exteriors'].fillna(clean_df['All Exteriors'].mode())\n",
    "clean_df['All BsmtFin Types'] = clean_df['All BsmtFin Types'].fillna(clean_df['All BsmtFin Types'].mode())\n",
    "#dummy-codes the combined col\n",
    "clean_df = pd.concat([clean_df,clean_df['All Exteriors'].str.get_dummies()], axis=1)\n",
    "clean_df = pd.concat([clean_df,clean_df['All BsmtFin Types'].str.get_dummies()], axis=1)\n",
    "#drops the now irrelevant cols\n",
    "clean_df.drop(columns=['All Exteriors', 'All BsmtFin Types', 'Exterior 1st', 'Exterior 2nd', 'BsmtFin Type 1', 'BsmtFin Type 2', 'All Exteriors_Other'], inplace=True)"
   ]
  },
  {
   "cell_type": "markdown",
   "metadata": {},
   "source": [
    "Since \"Central Air\" only has two options (Y or N), we can go ahead and code it as 1 and 0."
   ]
  },
  {
   "cell_type": "code",
   "execution_count": 56,
   "metadata": {},
   "outputs": [],
   "source": [
    "clean_df['Central Air'] = clean_df['Central Air'].map({'Y':1, 'N':0})"
   ]
  },
  {
   "cell_type": "markdown",
   "metadata": {},
   "source": [
    "I don't think \"Half Bath\" is useful to us on its own. While buyers might decide based on the number of Full Baths, or bathrooms generally, it seems unlikely that the number of half baths is weighing heavily in their decision. Let's combine it with \"Full Bath\", \"Bsmt Full Bath\", and \"Bsmt Half Bath\" to make a \"Bathrooms\" column."
   ]
  },
  {
   "cell_type": "code",
   "execution_count": 57,
   "metadata": {},
   "outputs": [],
   "source": [
    "clean_df['Bathrooms'] = clean_df['Full Bath'] + clean_df['Half Bath'] + clean_df['Bsmt Full Bath'] + clean_df['Bsmt Half Bath']"
   ]
  },
  {
   "cell_type": "markdown",
   "metadata": {},
   "source": [
    "Finally, we might want to limit ourselves to normal sales. The \"Sale Condition\" column tells us if a sale was between family members, partial, at auction, etc. Abnormal sales conditions would likely lead to abnormal sales."
   ]
  },
  {
   "cell_type": "code",
   "execution_count": 58,
   "metadata": {},
   "outputs": [],
   "source": [
    "clean_df = clean_df[clean_df['Sale Condition']=='Normal']\n",
    "clean_df.drop(columns=['Sale Condition'], inplace=True)"
   ]
  },
  {
   "cell_type": "markdown",
   "metadata": {},
   "source": [
    "And we'll need to impute our categorical variables with their modes."
   ]
  },
  {
   "cell_type": "code",
   "execution_count": 59,
   "metadata": {},
   "outputs": [],
   "source": [
    "def impute_with_modes(dataframe, cols_list):\n",
    "    for col in cols_list:\n",
    "        dataframe[col] = dataframe[col].fillna(dataframe[col].mode())\n",
    "\n",
    "cols_for_mode_imputation = clean_df.select_dtypes(include='object').columns\n",
    "impute_with_modes(clean_df, cols_for_mode_imputation)"
   ]
  },
  {
   "cell_type": "markdown",
   "metadata": {},
   "source": [
    "Now we can dummy code our string variables."
   ]
  },
  {
   "cell_type": "code",
   "execution_count": 60,
   "metadata": {
    "scrolled": true
   },
   "outputs": [],
   "source": [
    "dummied_df = pd.get_dummies(clean_df, columns=clean_df.select_dtypes(include='object').columns)\n"
   ]
  },
  {
   "cell_type": "markdown",
   "metadata": {},
   "source": [
    "# Feature Selection"
   ]
  },
  {
   "cell_type": "markdown",
   "metadata": {},
   "source": [
    "To select our features, we first need to eliminate overlap. We can do this by looking at correlations in our data set and making sure highly correlated variables are not conveying the same info."
   ]
  },
  {
   "cell_type": "code",
   "execution_count": 61,
   "metadata": {},
   "outputs": [
    {
     "name": "stdout",
     "output_type": "stream",
     "text": [
      "Total Bsmt SF: 1st Flr SF, r = 0.7665653654934246\n",
      "1st Flr SF: Total Bsmt SF, r = 0.7665653654934246\n",
      "2nd Flr SF: House Style_1Story, r = -0.7886628414835067\n",
      "2nd Flr SF: House Style_2Story, r = 0.8003498623055502\n",
      "Kitchen AbvGr: Bldg Type_Duplex, r = 0.7693571969888975\n",
      "Sale Age: Sale Garage Age, r = 0.7812075490119335\n",
      "Sale Garage Age: Sale Age, r = 0.7812075490119336\n",
      "All Exteriors_Brk Cmn: Neighborhood_NPkVill, r = 0.8568807304411044\n",
      "MS Zoning_FV: Neighborhood_Somerst, r = 0.8940738719298348\n",
      "MS Zoning_RL: MS Zoning_RM, r = -0.840795665939288\n",
      "MS Zoning_RM: MS Zoning_RL, r = -0.8407956659392881\n",
      "Lot Shape_IR1: Lot Shape_Reg, r = -0.9321259011808267\n",
      "Lot Shape_Reg: Lot Shape_IR1, r = -0.9321259011808266\n",
      "Land Slope_Gtl: Land Slope_Mod, r = -0.9495594196889672\n",
      "Land Slope_Mod: Land Slope_Gtl, r = -0.9495594196889672\n",
      "Neighborhood_NPkVill: All Exteriors_Brk Cmn, r = 0.8568807304411044\n",
      "Neighborhood_Somerst: MS Zoning_FV, r = 0.8940738719298347\n",
      "Condition 1_BusyRd: Condition 1_Norm, r = -0.7709626291469293\n",
      "Condition 1_Norm: Condition 1_BusyRd, r = -0.7709626291469293\n",
      "Bldg Type_Duplex: Kitchen AbvGr, r = 0.7693571969888976\n",
      "House Style_1Story: 2nd Flr SF, r = -0.7886628414835067\n",
      "House Style_2Story: 2nd Flr SF, r = 0.8003498623055502\n",
      "Roof Style_Gable: Roof Style_Hip, r = -0.9420218355929644\n",
      "Roof Style_Hip: Roof Style_Gable, r = -0.9420218355929643\n",
      "Mas Vnr Type_BrkFace: Mas Vnr Type_None, r = -0.8465528578456413\n",
      "Mas Vnr Type_None: Mas Vnr Type_BrkFace, r = -0.8465528578456412\n",
      "Exter Qual_Gd: Exter Qual_TA, r = -0.9274752210730358\n",
      "Exter Qual_TA: Exter Qual_Gd, r = -0.9274752210730358\n",
      "Exter Cond_Gd: Exter Cond_TA, r = -0.8812351149722295\n",
      "Exter Cond_TA: Exter Cond_Gd, r = -0.8812351149722295\n",
      "Foundation_CBlock: Foundation_PConc, r = -0.765551192023531\n",
      "Foundation_PConc: Foundation_CBlock, r = -0.765551192023531\n",
      "Bsmt Qual_Gd: Bsmt Qual_TA, r = -0.7823380256057035\n",
      "Bsmt Qual_TA: Bsmt Qual_Gd, r = -0.7823380256057035\n",
      "Electrical_FuseA: Electrical_SBrkr, r = -0.8687161079240941\n",
      "Electrical_SBrkr: Electrical_FuseA, r = -0.868716107924094\n",
      "Kitchen Qual_Gd: Kitchen Qual_TA, r = -0.859791211549944\n",
      "Kitchen Qual_TA: Kitchen Qual_Gd, r = -0.859791211549944\n",
      "Garage Type_Attchd: Garage Type_Detchd, r = -0.752786387305953\n",
      "Garage Type_Detchd: Garage Type_Attchd, r = -0.752786387305953\n",
      "Paved Drive_N: Paved Drive_Y, r = -0.8551189089180333\n",
      "Paved Drive_Y: Paved Drive_N, r = -0.8551189089180334\n"
     ]
    }
   ],
   "source": [
    "for col in dummied_df:\n",
    "    for col2 in dummied_df:\n",
    "        if col != col2:\n",
    "            if abs(dummied_df[col].corr(dummied_df[col2])) >= 0.75:\n",
    "                print(col +': '+ col2 + \", r = \" + str(dummied_df[col].corr(dummied_df[col2])))\n",
    "   "
   ]
  },
  {
   "cell_type": "markdown",
   "metadata": {},
   "source": [
    "From our function, we can see that \"Total Bsmt SF\" is strongly correlated with \"1st Flr SF\". Since the 1st floor SF is included in our \"Gr Liv Area\", we can go ahead and drop this column. "
   ]
  },
  {
   "cell_type": "code",
   "execution_count": 62,
   "metadata": {},
   "outputs": [],
   "source": [
    "dummied_df.drop(columns=['1st Flr SF'], inplace=True)"
   ]
  },
  {
   "cell_type": "markdown",
   "metadata": {},
   "source": [
    "The next correlations that seem high are with \"House Style_1Story\" and \"House Style_2Story.\" Neither category is giving us information that \"2nd Flr SF\" wasn't already giving us, and with much less detail. We'll drop these."
   ]
  },
  {
   "cell_type": "code",
   "execution_count": 63,
   "metadata": {},
   "outputs": [],
   "source": [
    "dummied_df.drop(columns =['House Style_1Story', 'House Style_2Story'], inplace=True)"
   ]
  },
  {
   "cell_type": "markdown",
   "metadata": {},
   "source": [
    "\"Bldg Type_Duplex\" shows a high amount of correlation with \"Kitchen AbvGr\", but they convey separate pieces of information. This likely results from duplexes commonly having 2 kitchens. We'll keep both columns."
   ]
  },
  {
   "cell_type": "code",
   "execution_count": 64,
   "metadata": {},
   "outputs": [
    {
     "data": {
      "text/plain": [
       "83     2\n",
       "135    2\n",
       "138    2\n",
       "158    2\n",
       "205    1\n",
       "216    2\n",
       "217    2\n",
       "225    1\n",
       "275    2\n",
       "290    2\n",
       "294    2\n",
       "313    2\n",
       "324    2\n",
       "336    2\n",
       "392    2\n",
       "551    2\n",
       "622    2\n",
       "641    2\n",
       "666    2\n",
       "669    2\n",
       "676    2\n",
       "678    2\n",
       "688    1\n",
       "694    2\n",
       "701    2\n",
       "764    2\n",
       "815    2\n",
       "816    2\n",
       "817    2\n",
       "899    2\n",
       "Name: Kitchen AbvGr, dtype: int64"
      ]
     },
     "execution_count": 64,
     "metadata": {},
     "output_type": "execute_result"
    }
   ],
   "source": [
    "clean_df[clean_df['Bldg Type']=='Duplex']['Kitchen AbvGr'].head(30)"
   ]
  },
  {
   "cell_type": "markdown",
   "metadata": {},
   "source": [
    "\"Sale Age\" and \"Sale Garage Age\" are highly correlated. Likely, this is because many houses were built with garages, and the garage is thus the same age as the house. It's unlikely the age of the garage has an impact on \"SalePrice\" beyond its correlation with \"Sale Age\", but we can check this by looking at rows where the \"Sale Age\" is different from the \"Sale Garage Age.\""
   ]
  },
  {
   "cell_type": "code",
   "execution_count": 65,
   "metadata": {},
   "outputs": [
    {
     "name": "stdout",
     "output_type": "stream",
     "text": [
      "r = -0.2611086173912688\n"
     ]
    }
   ],
   "source": [
    "house_age_not_garage_age = dummied_df[dummied_df['Sale Age']!=dummied_df['Sale Garage Age']]\n",
    "print('r = ' + str(house_age_not_garage_age['SalePrice'].corr(house_age_not_garage_age['Sale Garage Age'])))"
   ]
  },
  {
   "cell_type": "markdown",
   "metadata": {},
   "source": [
    "If we rule out rows where \"Sale Garage Age\" is the same as \"Sale Age\", then we find only a weak correlation between \"Sale Garage Age\" and \"SalePrice.\" Still, we may want to keep both for now.\n",
    "\n",
    "A brick common exterior is correlated with the Northpark Village neighborhood, but that likely is just a function of neighborhood style. No need to do anything about this. "
   ]
  },
  {
   "cell_type": "markdown",
   "metadata": {},
   "source": [
    "The next three high correlations we have are with \"MS Zoning\" categories. The first being between a \"FV\" (floating village) zoning and the neighborhood of Somerset, and the next two being between two different \"MS Zoning\" categories. The latter two are the result of the majority of houses being either zoned as low or medium density residential, such that a 1 in one column likely meant a 0 in the other and vice versa. But let's take a closer look at the first correlation, between Somerset and floating village zoning. "
   ]
  },
  {
   "cell_type": "code",
   "execution_count": 66,
   "metadata": {},
   "outputs": [
    {
     "data": {
      "text/plain": [
       "1    92\n",
       "Name: Neighborhood_Somerst, dtype: int64"
      ]
     },
     "execution_count": 66,
     "metadata": {},
     "output_type": "execute_result"
    }
   ],
   "source": [
    "#gives us the counts of the values of our Somerset column when our FV column is 1\n",
    "dummied_df[dummied_df['MS Zoning_FV']==1]['Neighborhood_Somerst'].value_counts()"
   ]
  },
  {
   "cell_type": "code",
   "execution_count": 67,
   "metadata": {},
   "outputs": [
    {
     "data": {
      "text/plain": [
       "1    92\n",
       "0    22\n",
       "Name: MS Zoning_FV, dtype: int64"
      ]
     },
     "execution_count": 67,
     "metadata": {},
     "output_type": "execute_result"
    }
   ],
   "source": [
    "#gives us the counts of the values of our FV column when our Somerset column is 1\n",
    "dummied_df[dummied_df['Neighborhood_Somerst']==1]['MS Zoning_FV'].value_counts()"
   ]
  },
  {
   "cell_type": "markdown",
   "metadata": {},
   "source": [
    "So, all instances of \"floating village\" zoning are within the Somerset neighborhood, and all but 22 houses in the Somerset neighborhood are zoned as \"floating village.\" We'll need to keep this in mind if either feature ends up being essential to our model, but, for now, we will keep both. "
   ]
  },
  {
   "cell_type": "markdown",
   "metadata": {},
   "source": [
    "There are several correlations that are a result of dummy-coding a variable where the majority of values fall into one of two categories (such as \"MS Zoning_RM\" and \"MS Zoning_RL\" mentioned above). Nothing needs to be done about these and they will be skipped."
   ]
  },
  {
   "cell_type": "markdown",
   "metadata": {},
   "source": [
    "So what does our list of correlations with SalePrice look like now?"
   ]
  },
  {
   "cell_type": "code",
   "execution_count": 68,
   "metadata": {},
   "outputs": [
    {
     "data": {
      "text/plain": [
       "Gr Liv Area           0.736036\n",
       "Total Bsmt SF         0.642354\n",
       "Bathrooms             0.634082\n",
       "Garage Area           0.621900\n",
       "Avg Rm Area AbvGrd    0.583415\n",
       "                        ...   \n",
       "House Style_2.5Unf    0.003712\n",
       "Mo Sold_2             0.003698\n",
       "Foundation_Wood       0.003424\n",
       "Condition 1_RRN       0.003065\n",
       "Sale Type_CWD         0.000884\n",
       "Name: SalePrice, Length: 242, dtype: float64"
      ]
     },
     "execution_count": 68,
     "metadata": {},
     "output_type": "execute_result"
    }
   ],
   "source": [
    "abs(dummied_df.corr()['SalePrice']).sort_values(ascending=False)[1:]"
   ]
  },
  {
   "cell_type": "markdown",
   "metadata": {},
   "source": [
    "As we would expect, square footage has a major influence on price. Currently, we have it broken down into \"Gr Liv Area\" (above-ground living SF), \"Garage Area\" (garage SF), and \"Total Bsmt SF\" (basement SF). Would combining these three produce a better metric than having them separated?"
   ]
  },
  {
   "cell_type": "code",
   "execution_count": 69,
   "metadata": {},
   "outputs": [],
   "source": [
    "dummied_df['Total SF'] = dummied_df['Gr Liv Area'] + dummied_df['Garage Area'] + dummied_df['Total Bsmt SF']"
   ]
  },
  {
   "cell_type": "code",
   "execution_count": 70,
   "metadata": {},
   "outputs": [
    {
     "data": {
      "text/plain": [
       "Total SF              0.853296\n",
       "Gr Liv Area           0.736036\n",
       "Total Bsmt SF         0.642354\n",
       "Bathrooms             0.634082\n",
       "Garage Area           0.621900\n",
       "                        ...   \n",
       "House Style_2.5Unf    0.003712\n",
       "Mo Sold_2             0.003698\n",
       "Foundation_Wood       0.003424\n",
       "Condition 1_RRN       0.003065\n",
       "Sale Type_CWD         0.000884\n",
       "Name: SalePrice, Length: 243, dtype: float64"
      ]
     },
     "execution_count": 70,
     "metadata": {},
     "output_type": "execute_result"
    }
   ],
   "source": [
    "abs(dummied_df.corr()['SalePrice']).sort_values(ascending=False)[1:]"
   ]
  },
  {
   "cell_type": "markdown",
   "metadata": {},
   "source": [
    "Combined total square footage is more strongly correlated with \"SalePrice\" than any of its three components alone. But how much does it overlap with the three?"
   ]
  },
  {
   "cell_type": "code",
   "execution_count": 71,
   "metadata": {},
   "outputs": [
    {
     "data": {
      "text/plain": [
       "SalePrice             0.853296\n",
       "Gr Liv Area           0.845535\n",
       "Total Bsmt SF         0.788119\n",
       "Garage Area           0.698007\n",
       "Avg Rm Area AbvGrd    0.608050\n",
       "                        ...   \n",
       "Yr Sold_2010          0.003460\n",
       "Exter Cond_Ex         0.001699\n",
       "Mo Sold_3             0.001388\n",
       "Roof Style_Flat       0.001076\n",
       "Bsmt Cond_Ex          0.001033\n",
       "Name: Total SF, Length: 243, dtype: float64"
      ]
     },
     "execution_count": 71,
     "metadata": {},
     "output_type": "execute_result"
    }
   ],
   "source": [
    "abs(dummied_df.corr()['Total SF']).sort_values(ascending=False)[1:]"
   ]
  },
  {
   "cell_type": "markdown",
   "metadata": {},
   "source": [
    "Looks like \"Garage Area\" may still be useful, but \"Gr Liv Area\" and \"Total Bsmt SF\" can be dropped."
   ]
  },
  {
   "cell_type": "code",
   "execution_count": 72,
   "metadata": {},
   "outputs": [],
   "source": [
    "dummied_df.drop(columns=['Gr Liv Area', 'Total Bsmt SF'], inplace=True)"
   ]
  },
  {
   "cell_type": "markdown",
   "metadata": {},
   "source": [
    "So here's what we're left with:"
   ]
  },
  {
   "cell_type": "code",
   "execution_count": 73,
   "metadata": {},
   "outputs": [
    {
     "data": {
      "text/plain": [
       "Total SF              0.853296\n",
       "Bathrooms             0.634082\n",
       "Garage Area           0.621900\n",
       "Avg Rm Area AbvGrd    0.583415\n",
       "Exter Qual_TA         0.574368\n",
       "                        ...   \n",
       "House Style_2.5Unf    0.003712\n",
       "Mo Sold_2             0.003698\n",
       "Foundation_Wood       0.003424\n",
       "Condition 1_RRN       0.003065\n",
       "Sale Type_CWD         0.000884\n",
       "Name: SalePrice, Length: 241, dtype: float64"
      ]
     },
     "execution_count": 73,
     "metadata": {},
     "output_type": "execute_result"
    }
   ],
   "source": [
    "abs(dummied_df.corr()['SalePrice']).sort_values(ascending=False)[1:]"
   ]
  },
  {
   "cell_type": "markdown",
   "metadata": {},
   "source": [
    "# Training & Testing Models"
   ]
  },
  {
   "cell_type": "markdown",
   "metadata": {},
   "source": [
    "Let's try out some different models and see what works best. "
   ]
  },
  {
   "cell_type": "code",
   "execution_count": 74,
   "metadata": {},
   "outputs": [],
   "source": [
    "all_features = abs(dummied_df.corr()['SalePrice']).sort_values(ascending=False).index[1:]\n",
    "def train_and_test(df, features_start=0, features_end=len(all_features), k=0, seed=1):\n",
    "    features = all_features[features_start:features_end]\n",
    "    target = 'SalePrice'\n",
    "    lr = LinearRegression()\n",
    "    np.random.seed(seed)\n",
    "    df = df.iloc[np.random.permutation(len(df)),:]\n",
    "    if k == 0:\n",
    "        train = df[:1460]\n",
    "        test = df[1460:]\n",
    "\n",
    "        lr.fit(train[features], train[target])\n",
    "        predictions = lr.predict(test[features])\n",
    "        rmse = (mean_squared_error(test[target], predictions))**0.5\n",
    "        return rmse\n",
    "    if k == 1:\n",
    "        train = df[:1460]\n",
    "        test = df[1460:]\n",
    "        \n",
    "        lr.fit(train[features], train[target])\n",
    "        predictions1 = lr.predict(test[features])        \n",
    "        mse1 = mean_squared_error(test[target], predictions1)\n",
    "        rmse1 = mse1**0.5\n",
    "        \n",
    "        lr.fit(test[features], test[target])\n",
    "        predictions2 = lr.predict(train[features])        \n",
    "        mse2 = mean_squared_error(train[target], predictions2)\n",
    "        rmse2 = mse2**0.5\n",
    "        \n",
    "        avg_rmse = np.mean([rmse1, rmse2])\n",
    "        print(rmse1, rmse2)\n",
    "        return avg_rmse\n",
    "    else:\n",
    "        kf = KFold(n_splits=k, shuffle=False)\n",
    "        rmse_list = []\n",
    "        for train_index, test_index, in kf.split(df):\n",
    "            train = df.iloc[train_index]\n",
    "            test = df.iloc[test_index]\n",
    "            lr.fit(train[features], train[target])\n",
    "            predictions = lr.predict(test[features])\n",
    "            mse = mean_squared_error(test[target], predictions)\n",
    "            rmse = mse**0.5\n",
    "            rmse_list.append(rmse)\n",
    "            \n",
    "        avg_rmse = np.mean(rmse_list)\n",
    "        return avg_rmse\n",
    "    \n",
    "    \n",
    "    \n",
    "    \n",
    "    \n",
    "    \n"
   ]
  },
  {
   "cell_type": "markdown",
   "metadata": {},
   "source": [
    "First, we'll determine which variables work best at predicting \"SalePrice\" by doing a single-feature linear regression with each of them. We'll switch up our randomization seed to make sure our cross validation isn't biased."
   ]
  },
  {
   "cell_type": "code",
   "execution_count": 75,
   "metadata": {},
   "outputs": [],
   "source": [
    "error = []\n",
    "feature = []\n",
    "for x in range(0,(len(all_features))):\n",
    "    errors_to_avg = []\n",
    "    feature.append(all_features[x])\n",
    "    for y in range(6):\n",
    "        errors_to_avg.append(train_and_test(dummied_df, features_start=x, features_end=x+1, k=10, seed=y))\n",
    "    error.append(np.mean(errors_to_avg))"
   ]
  },
  {
   "cell_type": "code",
   "execution_count": 76,
   "metadata": {},
   "outputs": [],
   "source": [
    "singlevar_regression = pd.DataFrame()\n",
    "\n",
    "singlevar_regression['error'] = error\n",
    "singlevar_regression['feature'] = feature\n",
    "singlevar_regression['correlation'] = abs(dummied_df.corr()['SalePrice']).sort_values(ascending=False).values[1:]"
   ]
  },
  {
   "cell_type": "code",
   "execution_count": 77,
   "metadata": {},
   "outputs": [
    {
     "data": {
      "text/html": [
       "<div>\n",
       "<style scoped>\n",
       "    .dataframe tbody tr th:only-of-type {\n",
       "        vertical-align: middle;\n",
       "    }\n",
       "\n",
       "    .dataframe tbody tr th {\n",
       "        vertical-align: top;\n",
       "    }\n",
       "\n",
       "    .dataframe thead th {\n",
       "        text-align: right;\n",
       "    }\n",
       "</style>\n",
       "<table border=\"1\" class=\"dataframe\">\n",
       "  <thead>\n",
       "    <tr style=\"text-align: right;\">\n",
       "      <th></th>\n",
       "      <th>error</th>\n",
       "      <th>feature</th>\n",
       "      <th>correlation</th>\n",
       "    </tr>\n",
       "  </thead>\n",
       "  <tbody>\n",
       "    <tr>\n",
       "      <td>0</td>\n",
       "      <td>36975.990610</td>\n",
       "      <td>Total SF</td>\n",
       "      <td>0.853296</td>\n",
       "    </tr>\n",
       "    <tr>\n",
       "      <td>1</td>\n",
       "      <td>54724.143875</td>\n",
       "      <td>Bathrooms</td>\n",
       "      <td>0.634082</td>\n",
       "    </tr>\n",
       "    <tr>\n",
       "      <td>2</td>\n",
       "      <td>55463.518543</td>\n",
       "      <td>Garage Area</td>\n",
       "      <td>0.621900</td>\n",
       "    </tr>\n",
       "    <tr>\n",
       "      <td>3</td>\n",
       "      <td>57507.132738</td>\n",
       "      <td>Avg Rm Area AbvGrd</td>\n",
       "      <td>0.583415</td>\n",
       "    </tr>\n",
       "    <tr>\n",
       "      <td>4</td>\n",
       "      <td>57881.466807</td>\n",
       "      <td>Exter Qual_TA</td>\n",
       "      <td>0.574368</td>\n",
       "    </tr>\n",
       "    <tr>\n",
       "      <td>...</td>\n",
       "      <td>...</td>\n",
       "      <td>...</td>\n",
       "      <td>...</td>\n",
       "    </tr>\n",
       "    <tr>\n",
       "      <td>234</td>\n",
       "      <td>70812.183255</td>\n",
       "      <td>Mo Sold_7</td>\n",
       "      <td>0.004942</td>\n",
       "    </tr>\n",
       "    <tr>\n",
       "      <td>162</td>\n",
       "      <td>70831.518616</td>\n",
       "      <td>Sale Type_ConLI</td>\n",
       "      <td>0.042908</td>\n",
       "    </tr>\n",
       "    <tr>\n",
       "      <td>219</td>\n",
       "      <td>70840.989818</td>\n",
       "      <td>Sale Type_Con</td>\n",
       "      <td>0.016068</td>\n",
       "    </tr>\n",
       "    <tr>\n",
       "      <td>228</td>\n",
       "      <td>70848.666916</td>\n",
       "      <td>Bsmt Cond_Ex</td>\n",
       "      <td>0.009661</td>\n",
       "    </tr>\n",
       "    <tr>\n",
       "      <td>184</td>\n",
       "      <td>71070.928559</td>\n",
       "      <td>Garage Qual_Ex</td>\n",
       "      <td>0.032531</td>\n",
       "    </tr>\n",
       "  </tbody>\n",
       "</table>\n",
       "<p>241 rows × 3 columns</p>\n",
       "</div>"
      ],
      "text/plain": [
       "            error             feature  correlation\n",
       "0    36975.990610            Total SF     0.853296\n",
       "1    54724.143875           Bathrooms     0.634082\n",
       "2    55463.518543         Garage Area     0.621900\n",
       "3    57507.132738  Avg Rm Area AbvGrd     0.583415\n",
       "4    57881.466807       Exter Qual_TA     0.574368\n",
       "..            ...                 ...          ...\n",
       "234  70812.183255           Mo Sold_7     0.004942\n",
       "162  70831.518616     Sale Type_ConLI     0.042908\n",
       "219  70840.989818       Sale Type_Con     0.016068\n",
       "228  70848.666916        Bsmt Cond_Ex     0.009661\n",
       "184  71070.928559      Garage Qual_Ex     0.032531\n",
       "\n",
       "[241 rows x 3 columns]"
      ]
     },
     "execution_count": 77,
     "metadata": {},
     "output_type": "execute_result"
    }
   ],
   "source": [
    "singlevar_regression.sort_values('error')"
   ]
  },
  {
   "cell_type": "code",
   "execution_count": 78,
   "metadata": {},
   "outputs": [
    {
     "data": {
      "text/plain": [
       "[]"
      ]
     },
     "execution_count": 78,
     "metadata": {},
     "output_type": "execute_result"
    },
    {
     "data": {
      "image/png": "[encoded data removed]",
      "text/plain": [
       "<Figure size 1080x720 with 1 Axes>"
      ]
     },
     "metadata": {
      "needs_background": "light"
     },
     "output_type": "display_data"
    }
   ],
   "source": [
    "plt.figure(figsize=(15,10))\n",
    "ax = sns.scatterplot(x=singlevar_regression['correlation'], y=singlevar_regression['error'])\n",
    "ax.set_xticklabels([])"
   ]
  },
  {
   "cell_type": "markdown",
   "metadata": {},
   "source": [
    "The graph we got is the graph we would expect: as correlation with \"SalePrice\" increased in our features, error decreased in our model. More importantly, we now have a list of features that we can sort by their ability to predict \"SalePrice\" on their own. So, now, we can work our way through that list, adding a feature each time, to figure out which features lead to the least error when combined in a multiple regression."
   ]
  },
  {
   "cell_type": "code",
   "execution_count": 79,
   "metadata": {},
   "outputs": [],
   "source": [
    "all_features = singlevar_regression.sort_values('error')['feature'].to_list()"
   ]
  },
  {
   "cell_type": "code",
   "execution_count": 80,
   "metadata": {},
   "outputs": [],
   "source": [
    "error = []\n",
    "feature_added = []\n",
    "num_of_features = []\n",
    "for x in range(0,(len(all_features))):\n",
    "    errors_to_avg = []\n",
    "    feature_added.append(all_features[x])\n",
    "    num_of_features.append(x+1)\n",
    "    for y in range(6):\n",
    "        errors_to_avg.append(train_and_test(dummied_df, features_start=0, features_end=x+1, k=10, seed=y))\n",
    "    error.append(np.mean(errors_to_avg))"
   ]
  },
  {
   "cell_type": "code",
   "execution_count": 81,
   "metadata": {},
   "outputs": [],
   "source": [
    "multivar_regression = pd.DataFrame()\n",
    "\n",
    "multivar_regression['error'] = error\n",
    "multivar_regression['feature_added'] = feature_added\n",
    "multivar_regression['num_of_features'] = num_of_features"
   ]
  },
  {
   "cell_type": "code",
   "execution_count": 82,
   "metadata": {},
   "outputs": [
    {
     "data": {
      "text/html": [
       "<div>\n",
       "<style scoped>\n",
       "    .dataframe tbody tr th:only-of-type {\n",
       "        vertical-align: middle;\n",
       "    }\n",
       "\n",
       "    .dataframe tbody tr th {\n",
       "        vertical-align: top;\n",
       "    }\n",
       "\n",
       "    .dataframe thead th {\n",
       "        text-align: right;\n",
       "    }\n",
       "</style>\n",
       "<table border=\"1\" class=\"dataframe\">\n",
       "  <thead>\n",
       "    <tr style=\"text-align: right;\">\n",
       "      <th></th>\n",
       "      <th>error</th>\n",
       "      <th>feature_added</th>\n",
       "      <th>num_of_features</th>\n",
       "    </tr>\n",
       "  </thead>\n",
       "  <tbody>\n",
       "    <tr>\n",
       "      <td>186</td>\n",
       "      <td>1.786115e+04</td>\n",
       "      <td>Yr Sold_2009</td>\n",
       "      <td>187</td>\n",
       "    </tr>\n",
       "    <tr>\n",
       "      <td>185</td>\n",
       "      <td>1.786179e+04</td>\n",
       "      <td>Neighborhood_GrnHill</td>\n",
       "      <td>186</td>\n",
       "    </tr>\n",
       "    <tr>\n",
       "      <td>174</td>\n",
       "      <td>1.800542e+04</td>\n",
       "      <td>Neighborhood_Mitchel</td>\n",
       "      <td>175</td>\n",
       "    </tr>\n",
       "    <tr>\n",
       "      <td>178</td>\n",
       "      <td>1.801001e+04</td>\n",
       "      <td>Garage Cond_Ex</td>\n",
       "      <td>179</td>\n",
       "    </tr>\n",
       "    <tr>\n",
       "      <td>179</td>\n",
       "      <td>1.801506e+04</td>\n",
       "      <td>House Style_SLvl</td>\n",
       "      <td>180</td>\n",
       "    </tr>\n",
       "    <tr>\n",
       "      <td>...</td>\n",
       "      <td>...</td>\n",
       "      <td>...</td>\n",
       "      <td>...</td>\n",
       "    </tr>\n",
       "    <tr>\n",
       "      <td>124</td>\n",
       "      <td>5.682169e+09</td>\n",
       "      <td>Sale Type_WD</td>\n",
       "      <td>125</td>\n",
       "    </tr>\n",
       "    <tr>\n",
       "      <td>114</td>\n",
       "      <td>9.318092e+09</td>\n",
       "      <td>Condition 1_Norm</td>\n",
       "      <td>115</td>\n",
       "    </tr>\n",
       "    <tr>\n",
       "      <td>202</td>\n",
       "      <td>1.018847e+10</td>\n",
       "      <td>Roof Style_Flat</td>\n",
       "      <td>203</td>\n",
       "    </tr>\n",
       "    <tr>\n",
       "      <td>239</td>\n",
       "      <td>1.117647e+10</td>\n",
       "      <td>Bsmt Cond_Ex</td>\n",
       "      <td>240</td>\n",
       "    </tr>\n",
       "    <tr>\n",
       "      <td>204</td>\n",
       "      <td>1.172680e+10</td>\n",
       "      <td>Foundation_Wood</td>\n",
       "      <td>205</td>\n",
       "    </tr>\n",
       "  </tbody>\n",
       "</table>\n",
       "<p>241 rows × 3 columns</p>\n",
       "</div>"
      ],
      "text/plain": [
       "            error         feature_added  num_of_features\n",
       "186  1.786115e+04          Yr Sold_2009              187\n",
       "185  1.786179e+04  Neighborhood_GrnHill              186\n",
       "174  1.800542e+04  Neighborhood_Mitchel              175\n",
       "178  1.801001e+04        Garage Cond_Ex              179\n",
       "179  1.801506e+04      House Style_SLvl              180\n",
       "..            ...                   ...              ...\n",
       "124  5.682169e+09         Sale Type_WD               125\n",
       "114  9.318092e+09      Condition 1_Norm              115\n",
       "202  1.018847e+10       Roof Style_Flat              203\n",
       "239  1.117647e+10          Bsmt Cond_Ex              240\n",
       "204  1.172680e+10       Foundation_Wood              205\n",
       "\n",
       "[241 rows x 3 columns]"
      ]
     },
     "execution_count": 82,
     "metadata": {},
     "output_type": "execute_result"
    }
   ],
   "source": [
    "multivar_regression.sort_values('error')"
   ]
  },
  {
   "cell_type": "code",
   "execution_count": 83,
   "metadata": {},
   "outputs": [
    {
     "data": {
      "image/png": "[encoded data removed]",
      "text/plain": [
       "<Figure size 1080x720 with 1 Axes>"
      ]
     },
     "metadata": {
      "needs_background": "light"
     },
     "output_type": "display_data"
    }
   ],
   "source": [
    "plt.figure(figsize=(15,10))\n",
    "ax = sns.scatterplot(x=multivar_regression['num_of_features'], y=multivar_regression['error'])"
   ]
  },
  {
   "cell_type": "markdown",
   "metadata": {},
   "source": [
    "This is a less predictable graph. It seems that up until ~95 features added, we have relatively low rmses, but then error becomes higher and less predictable from there until ~150 features. However, the models with the lowest error are in the 170-190 features range. What's going on here? Can we deduce anything from what features were added when error grew?"
   ]
  },
  {
   "cell_type": "code",
   "execution_count": 84,
   "metadata": {},
   "outputs": [],
   "source": [
    "#creates a list of all feature names that were added to models where rmse exceeded 40,000.\n",
    "erratic_features = multivar_regression[multivar_regression['error'] >= 40000]['feature_added'].to_list()"
   ]
  },
  {
   "cell_type": "code",
   "execution_count": 85,
   "metadata": {},
   "outputs": [],
   "source": [
    "erratic_df = dummied_df[erratic_features]"
   ]
  },
  {
   "cell_type": "markdown",
   "metadata": {},
   "source": [
    "Perhaps we have some very high homogeneity in our variables. "
   ]
  },
  {
   "cell_type": "code",
   "execution_count": 86,
   "metadata": {},
   "outputs": [],
   "source": [
    "feature = []\n",
    "homogeneity = []\n",
    "for col in erratic_df:\n",
    "    homogeneity.append((erratic_df[col].value_counts(normalize=True)*100).sort_values(ascending=False).iloc[0])\n",
    "    feature.append(col)"
   ]
  },
  {
   "cell_type": "code",
   "execution_count": 87,
   "metadata": {},
   "outputs": [],
   "source": [
    "erratic_homogeneity = pd.DataFrame()\n",
    "erratic_homogeneity['feature'] = feature\n",
    "erratic_homogeneity['homogeneity'] = homogeneity"
   ]
  },
  {
   "cell_type": "code",
   "execution_count": 89,
   "metadata": {},
   "outputs": [
    {
     "data": {
      "text/html": [
       "<div>\n",
       "<style scoped>\n",
       "    .dataframe tbody tr th:only-of-type {\n",
       "        vertical-align: middle;\n",
       "    }\n",
       "\n",
       "    .dataframe tbody tr th {\n",
       "        vertical-align: top;\n",
       "    }\n",
       "\n",
       "    .dataframe thead th {\n",
       "        text-align: right;\n",
       "    }\n",
       "</style>\n",
       "<table border=\"1\" class=\"dataframe\">\n",
       "  <thead>\n",
       "    <tr style=\"text-align: right;\">\n",
       "      <th></th>\n",
       "      <th>feature</th>\n",
       "      <th>homogeneity</th>\n",
       "    </tr>\n",
       "  </thead>\n",
       "  <tbody>\n",
       "    <tr>\n",
       "      <td>15</td>\n",
       "      <td>Lot Config_Inside</td>\n",
       "      <td>73.145462</td>\n",
       "    </tr>\n",
       "    <tr>\n",
       "      <td>64</td>\n",
       "      <td>Yr Sold_2007</td>\n",
       "      <td>76.999586</td>\n",
       "    </tr>\n",
       "    <tr>\n",
       "      <td>68</td>\n",
       "      <td>Yr Sold_2008</td>\n",
       "      <td>77.911314</td>\n",
       "    </tr>\n",
       "    <tr>\n",
       "      <td>49</td>\n",
       "      <td>Yr Sold_2006</td>\n",
       "      <td>80.812267</td>\n",
       "    </tr>\n",
       "    <tr>\n",
       "      <td>45</td>\n",
       "      <td>Mo Sold_6</td>\n",
       "      <td>81.723995</td>\n",
       "    </tr>\n",
       "    <tr>\n",
       "      <td>...</td>\n",
       "      <td>...</td>\n",
       "      <td>...</td>\n",
       "    </tr>\n",
       "    <tr>\n",
       "      <td>27</td>\n",
       "      <td>Neighborhood_Landmrk</td>\n",
       "      <td>99.958558</td>\n",
       "    </tr>\n",
       "    <tr>\n",
       "      <td>28</td>\n",
       "      <td>Kitchen Qual_Po</td>\n",
       "      <td>99.958558</td>\n",
       "    </tr>\n",
       "    <tr>\n",
       "      <td>30</td>\n",
       "      <td>Sale Type_VWD</td>\n",
       "      <td>99.958558</td>\n",
       "    </tr>\n",
       "    <tr>\n",
       "      <td>31</td>\n",
       "      <td>Sale Type_Oth</td>\n",
       "      <td>99.958558</td>\n",
       "    </tr>\n",
       "    <tr>\n",
       "      <td>25</td>\n",
       "      <td>MS Zoning_A (agr)</td>\n",
       "      <td>99.958558</td>\n",
       "    </tr>\n",
       "  </tbody>\n",
       "</table>\n",
       "<p>75 rows × 2 columns</p>\n",
       "</div>"
      ],
      "text/plain": [
       "                 feature  homogeneity\n",
       "15     Lot Config_Inside    73.145462\n",
       "64          Yr Sold_2007    76.999586\n",
       "68          Yr Sold_2008    77.911314\n",
       "49          Yr Sold_2006    80.812267\n",
       "45             Mo Sold_6    81.723995\n",
       "..                   ...          ...\n",
       "27  Neighborhood_Landmrk    99.958558\n",
       "28       Kitchen Qual_Po    99.958558\n",
       "30         Sale Type_VWD    99.958558\n",
       "31         Sale Type_Oth    99.958558\n",
       "25     MS Zoning_A (agr)    99.958558\n",
       "\n",
       "[75 rows x 2 columns]"
      ]
     },
     "execution_count": 89,
     "metadata": {},
     "output_type": "execute_result"
    }
   ],
   "source": [
    "erratic_homogeneity.sort_values('homogeneity')"
   ]
  },
  {
   "cell_type": "markdown",
   "metadata": {},
   "source": [
    "Of the 75 features that resulted in high-error models, only 3 of them have homogeneity less than 80%. The majority are over 98% homogeneous. This could contribute to why they're throwing off the models. We screened for homogeneity in our features before we dummy-coded. Now we should go back and get rid of anything over 98% homogeneous in our dummy-coded variables."
   ]
  },
  {
   "cell_type": "code",
   "execution_count": 90,
   "metadata": {},
   "outputs": [],
   "source": [
    "for col in erratic_df:\n",
    "    if (erratic_df[col].value_counts(normalize=True)*100).sort_values(ascending=False).iloc[0] > 98:\n",
    "        all_features.remove(col)"
   ]
  },
  {
   "cell_type": "code",
   "execution_count": 91,
   "metadata": {},
   "outputs": [],
   "source": [
    "error = []\n",
    "feature_added = []\n",
    "num_of_features = []\n",
    "for x in range(0,(len(all_features))):\n",
    "    errors_to_avg = []\n",
    "    feature_added.append(all_features[x])\n",
    "    num_of_features.append(x+1)\n",
    "    for y in range(6):\n",
    "        errors_to_avg.append(train_and_test(dummied_df, features_start=0, features_end=x+1, k=10, seed=y))\n",
    "    error.append(np.mean(errors_to_avg))"
   ]
  },
  {
   "cell_type": "code",
   "execution_count": 92,
   "metadata": {},
   "outputs": [],
   "source": [
    "multivar_regression = pd.DataFrame()\n",
    "\n",
    "multivar_regression['error'] = error\n",
    "multivar_regression['feature_added'] = feature_added\n",
    "multivar_regression['num_of_features'] = num_of_features"
   ]
  },
  {
   "cell_type": "code",
   "execution_count": 96,
   "metadata": {},
   "outputs": [
    {
     "data": {
      "text/html": [
       "<div>\n",
       "<style scoped>\n",
       "    .dataframe tbody tr th:only-of-type {\n",
       "        vertical-align: middle;\n",
       "    }\n",
       "\n",
       "    .dataframe tbody tr th {\n",
       "        vertical-align: top;\n",
       "    }\n",
       "\n",
       "    .dataframe thead th {\n",
       "        text-align: right;\n",
       "    }\n",
       "</style>\n",
       "<table border=\"1\" class=\"dataframe\">\n",
       "  <thead>\n",
       "    <tr style=\"text-align: right;\">\n",
       "      <th></th>\n",
       "      <th>error</th>\n",
       "      <th>feature_added</th>\n",
       "      <th>num_of_features</th>\n",
       "    </tr>\n",
       "  </thead>\n",
       "  <tbody>\n",
       "    <tr>\n",
       "      <td>196</td>\n",
       "      <td>1.780447e+04</td>\n",
       "      <td>Lot Config_Corner</td>\n",
       "      <td>197</td>\n",
       "    </tr>\n",
       "    <tr>\n",
       "      <td>180</td>\n",
       "      <td>1.781093e+04</td>\n",
       "      <td>Yr Sold_2009</td>\n",
       "      <td>181</td>\n",
       "    </tr>\n",
       "    <tr>\n",
       "      <td>198</td>\n",
       "      <td>1.781193e+04</td>\n",
       "      <td>Yr Sold_2007</td>\n",
       "      <td>199</td>\n",
       "    </tr>\n",
       "    <tr>\n",
       "      <td>179</td>\n",
       "      <td>1.781516e+04</td>\n",
       "      <td>Neighborhood_GrnHill</td>\n",
       "      <td>180</td>\n",
       "    </tr>\n",
       "    <tr>\n",
       "      <td>190</td>\n",
       "      <td>1.782133e+04</td>\n",
       "      <td>Mo Sold_5</td>\n",
       "      <td>191</td>\n",
       "    </tr>\n",
       "    <tr>\n",
       "      <td>...</td>\n",
       "      <td>...</td>\n",
       "      <td>...</td>\n",
       "      <td>...</td>\n",
       "    </tr>\n",
       "    <tr>\n",
       "      <td>182</td>\n",
       "      <td>2.419499e+09</td>\n",
       "      <td>All Exteriors_Wd Sdng</td>\n",
       "      <td>183</td>\n",
       "    </tr>\n",
       "    <tr>\n",
       "      <td>118</td>\n",
       "      <td>3.047014e+09</td>\n",
       "      <td>Exter Cond_TA</td>\n",
       "      <td>119</td>\n",
       "    </tr>\n",
       "    <tr>\n",
       "      <td>117</td>\n",
       "      <td>3.048657e+09</td>\n",
       "      <td>Lot Shape_IR2</td>\n",
       "      <td>118</td>\n",
       "    </tr>\n",
       "    <tr>\n",
       "      <td>185</td>\n",
       "      <td>4.084352e+09</td>\n",
       "      <td>Mo Sold_9</td>\n",
       "      <td>186</td>\n",
       "    </tr>\n",
       "    <tr>\n",
       "      <td>184</td>\n",
       "      <td>5.011688e+09</td>\n",
       "      <td>Misc Val</td>\n",
       "      <td>185</td>\n",
       "    </tr>\n",
       "  </tbody>\n",
       "</table>\n",
       "<p>202 rows × 3 columns</p>\n",
       "</div>"
      ],
      "text/plain": [
       "            error          feature_added  num_of_features\n",
       "196  1.780447e+04      Lot Config_Corner              197\n",
       "180  1.781093e+04           Yr Sold_2009              181\n",
       "198  1.781193e+04           Yr Sold_2007              199\n",
       "179  1.781516e+04   Neighborhood_GrnHill              180\n",
       "190  1.782133e+04              Mo Sold_5              191\n",
       "..            ...                    ...              ...\n",
       "182  2.419499e+09  All Exteriors_Wd Sdng              183\n",
       "118  3.047014e+09          Exter Cond_TA              119\n",
       "117  3.048657e+09          Lot Shape_IR2              118\n",
       "185  4.084352e+09              Mo Sold_9              186\n",
       "184  5.011688e+09               Misc Val              185\n",
       "\n",
       "[202 rows x 3 columns]"
      ]
     },
     "execution_count": 96,
     "metadata": {},
     "output_type": "execute_result"
    }
   ],
   "source": [
    "multivar_regression.sort_values('error')"
   ]
  },
  {
   "cell_type": "code",
   "execution_count": 94,
   "metadata": {},
   "outputs": [
    {
     "data": {
      "image/png": "[encoded data removed]",
      "text/plain": [
       "<Figure size 1080x720 with 1 Axes>"
      ]
     },
     "metadata": {
      "needs_background": "light"
     },
     "output_type": "display_data"
    }
   ],
   "source": [
    "plt.figure(figsize=(15,10))\n",
    "ax = sns.scatterplot(x=multivar_regression['num_of_features'], y=multivar_regression['error'])"
   ]
  },
  {
   "cell_type": "markdown",
   "metadata": {},
   "source": [
    "Our list of high-error models has grown shorter. It also seems our lowest error models have gotten a bit better. Which features are associated with higher error now?"
   ]
  },
  {
   "cell_type": "code",
   "execution_count": 97,
   "metadata": {
    "scrolled": false
   },
   "outputs": [
    {
     "data": {
      "text/html": [
       "<div>\n",
       "<style scoped>\n",
       "    .dataframe tbody tr th:only-of-type {\n",
       "        vertical-align: middle;\n",
       "    }\n",
       "\n",
       "    .dataframe tbody tr th {\n",
       "        vertical-align: top;\n",
       "    }\n",
       "\n",
       "    .dataframe thead th {\n",
       "        text-align: right;\n",
       "    }\n",
       "</style>\n",
       "<table border=\"1\" class=\"dataframe\">\n",
       "  <thead>\n",
       "    <tr style=\"text-align: right;\">\n",
       "      <th></th>\n",
       "      <th>error</th>\n",
       "      <th>feature_added</th>\n",
       "      <th>num_of_features</th>\n",
       "    </tr>\n",
       "  </thead>\n",
       "  <tbody>\n",
       "    <tr>\n",
       "      <td>184</td>\n",
       "      <td>5.011688e+09</td>\n",
       "      <td>Misc Val</td>\n",
       "      <td>185</td>\n",
       "    </tr>\n",
       "    <tr>\n",
       "      <td>185</td>\n",
       "      <td>4.084352e+09</td>\n",
       "      <td>Mo Sold_9</td>\n",
       "      <td>186</td>\n",
       "    </tr>\n",
       "    <tr>\n",
       "      <td>117</td>\n",
       "      <td>3.048657e+09</td>\n",
       "      <td>Lot Shape_IR2</td>\n",
       "      <td>118</td>\n",
       "    </tr>\n",
       "    <tr>\n",
       "      <td>118</td>\n",
       "      <td>3.047014e+09</td>\n",
       "      <td>Exter Cond_TA</td>\n",
       "      <td>119</td>\n",
       "    </tr>\n",
       "    <tr>\n",
       "      <td>182</td>\n",
       "      <td>2.419499e+09</td>\n",
       "      <td>All Exteriors_Wd Sdng</td>\n",
       "      <td>183</td>\n",
       "    </tr>\n",
       "    <tr>\n",
       "      <td>134</td>\n",
       "      <td>1.390308e+09</td>\n",
       "      <td>Lot Config_Inside</td>\n",
       "      <td>135</td>\n",
       "    </tr>\n",
       "    <tr>\n",
       "      <td>183</td>\n",
       "      <td>8.604188e+08</td>\n",
       "      <td>All Exteriors_Wd Shng</td>\n",
       "      <td>184</td>\n",
       "    </tr>\n",
       "    <tr>\n",
       "      <td>195</td>\n",
       "      <td>7.438705e+08</td>\n",
       "      <td>Mo Sold_3</td>\n",
       "      <td>196</td>\n",
       "    </tr>\n",
       "    <tr>\n",
       "      <td>193</td>\n",
       "      <td>4.095432e+08</td>\n",
       "      <td>Yr Sold_2010</td>\n",
       "      <td>194</td>\n",
       "    </tr>\n",
       "    <tr>\n",
       "      <td>197</td>\n",
       "      <td>2.108857e+08</td>\n",
       "      <td>Mo Sold_2</td>\n",
       "      <td>198</td>\n",
       "    </tr>\n",
       "    <tr>\n",
       "      <td>181</td>\n",
       "      <td>1.178068e+08</td>\n",
       "      <td>Bsmt Half Bath</td>\n",
       "      <td>182</td>\n",
       "    </tr>\n",
       "    <tr>\n",
       "      <td>194</td>\n",
       "      <td>6.896946e+07</td>\n",
       "      <td>Mo Sold_11</td>\n",
       "      <td>195</td>\n",
       "    </tr>\n",
       "    <tr>\n",
       "      <td>192</td>\n",
       "      <td>6.291983e+05</td>\n",
       "      <td>Mo Sold_8</td>\n",
       "      <td>193</td>\n",
       "    </tr>\n",
       "    <tr>\n",
       "      <td>0</td>\n",
       "      <td>3.697599e+04</td>\n",
       "      <td>Total SF</td>\n",
       "      <td>1</td>\n",
       "    </tr>\n",
       "    <tr>\n",
       "      <td>1</td>\n",
       "      <td>3.527879e+04</td>\n",
       "      <td>Bathrooms</td>\n",
       "      <td>2</td>\n",
       "    </tr>\n",
       "    <tr>\n",
       "      <td>2</td>\n",
       "      <td>3.522035e+04</td>\n",
       "      <td>Garage Area</td>\n",
       "      <td>3</td>\n",
       "    </tr>\n",
       "    <tr>\n",
       "      <td>3</td>\n",
       "      <td>3.502292e+04</td>\n",
       "      <td>Avg Rm Area AbvGrd</td>\n",
       "      <td>4</td>\n",
       "    </tr>\n",
       "    <tr>\n",
       "      <td>4</td>\n",
       "      <td>3.286704e+04</td>\n",
       "      <td>Exter Qual_TA</td>\n",
       "      <td>5</td>\n",
       "    </tr>\n",
       "    <tr>\n",
       "      <td>5</td>\n",
       "      <td>3.264438e+04</td>\n",
       "      <td>Full Bath</td>\n",
       "      <td>6</td>\n",
       "    </tr>\n",
       "    <tr>\n",
       "      <td>6</td>\n",
       "      <td>3.182863e+04</td>\n",
       "      <td>Sale Age</td>\n",
       "      <td>7</td>\n",
       "    </tr>\n",
       "  </tbody>\n",
       "</table>\n",
       "</div>"
      ],
      "text/plain": [
       "            error          feature_added  num_of_features\n",
       "184  5.011688e+09               Misc Val              185\n",
       "185  4.084352e+09              Mo Sold_9              186\n",
       "117  3.048657e+09          Lot Shape_IR2              118\n",
       "118  3.047014e+09          Exter Cond_TA              119\n",
       "182  2.419499e+09  All Exteriors_Wd Sdng              183\n",
       "134  1.390308e+09      Lot Config_Inside              135\n",
       "183  8.604188e+08  All Exteriors_Wd Shng              184\n",
       "195  7.438705e+08              Mo Sold_3              196\n",
       "193  4.095432e+08           Yr Sold_2010              194\n",
       "197  2.108857e+08              Mo Sold_2              198\n",
       "181  1.178068e+08         Bsmt Half Bath              182\n",
       "194  6.896946e+07             Mo Sold_11              195\n",
       "192  6.291983e+05              Mo Sold_8              193\n",
       "0    3.697599e+04               Total SF                1\n",
       "1    3.527879e+04              Bathrooms                2\n",
       "2    3.522035e+04            Garage Area                3\n",
       "3    3.502292e+04     Avg Rm Area AbvGrd                4\n",
       "4    3.286704e+04          Exter Qual_TA                5\n",
       "5    3.264438e+04              Full Bath                6\n",
       "6    3.182863e+04               Sale Age                7"
      ]
     },
     "execution_count": 97,
     "metadata": {},
     "output_type": "execute_result"
    }
   ],
   "source": [
    "multivar_regression.sort_values('error', ascending=False).head(20)"
   ]
  },
  {
   "cell_type": "markdown",
   "metadata": {},
   "source": [
    "Let's drop the top 13 to see if we can find our lowest-error model. "
   ]
  },
  {
   "cell_type": "code",
   "execution_count": 98,
   "metadata": {},
   "outputs": [],
   "source": [
    "high_error_features = multivar_regression.sort_values('error', ascending=False).head(13)['feature_added'].to_list()"
   ]
  },
  {
   "cell_type": "code",
   "execution_count": 99,
   "metadata": {},
   "outputs": [],
   "source": [
    "for feature in high_error_features:\n",
    "    all_features.remove(feature)"
   ]
  },
  {
   "cell_type": "code",
   "execution_count": 100,
   "metadata": {},
   "outputs": [],
   "source": [
    "error = []\n",
    "feature_added = []\n",
    "num_of_features = []\n",
    "for x in range(0,(len(all_features))):\n",
    "    errors_to_avg = []\n",
    "    feature_added.append(all_features[x])\n",
    "    num_of_features.append(x+1)\n",
    "    for y in range(6):\n",
    "        errors_to_avg.append(train_and_test(dummied_df, features_start=0, features_end=x+1, k=10, seed=y))\n",
    "    error.append(np.mean(errors_to_avg))"
   ]
  },
  {
   "cell_type": "code",
   "execution_count": 101,
   "metadata": {},
   "outputs": [],
   "source": [
    "multivar_regression = pd.DataFrame()\n",
    "\n",
    "multivar_regression['error'] = error\n",
    "multivar_regression['feature_added'] = feature_added\n",
    "multivar_regression['num_of_features'] = num_of_features"
   ]
  },
  {
   "cell_type": "code",
   "execution_count": 102,
   "metadata": {},
   "outputs": [
    {
     "data": {
      "text/html": [
       "<div>\n",
       "<style scoped>\n",
       "    .dataframe tbody tr th:only-of-type {\n",
       "        vertical-align: middle;\n",
       "    }\n",
       "\n",
       "    .dataframe tbody tr th {\n",
       "        vertical-align: top;\n",
       "    }\n",
       "\n",
       "    .dataframe thead th {\n",
       "        text-align: right;\n",
       "    }\n",
       "</style>\n",
       "<table border=\"1\" class=\"dataframe\">\n",
       "  <thead>\n",
       "    <tr style=\"text-align: right;\">\n",
       "      <th></th>\n",
       "      <th>error</th>\n",
       "      <th>feature_added</th>\n",
       "      <th>num_of_features</th>\n",
       "    </tr>\n",
       "  </thead>\n",
       "  <tbody>\n",
       "    <tr>\n",
       "      <td>132</td>\n",
       "      <td>3.014718e+09</td>\n",
       "      <td>All Exteriors_Plywood</td>\n",
       "      <td>133</td>\n",
       "    </tr>\n",
       "    <tr>\n",
       "      <td>131</td>\n",
       "      <td>2.652243e+09</td>\n",
       "      <td>Land Slope_Mod</td>\n",
       "      <td>132</td>\n",
       "    </tr>\n",
       "    <tr>\n",
       "      <td>0</td>\n",
       "      <td>3.697599e+04</td>\n",
       "      <td>Total SF</td>\n",
       "      <td>1</td>\n",
       "    </tr>\n",
       "    <tr>\n",
       "      <td>1</td>\n",
       "      <td>3.527879e+04</td>\n",
       "      <td>Bathrooms</td>\n",
       "      <td>2</td>\n",
       "    </tr>\n",
       "    <tr>\n",
       "      <td>2</td>\n",
       "      <td>3.522035e+04</td>\n",
       "      <td>Garage Area</td>\n",
       "      <td>3</td>\n",
       "    </tr>\n",
       "    <tr>\n",
       "      <td>...</td>\n",
       "      <td>...</td>\n",
       "      <td>...</td>\n",
       "      <td>...</td>\n",
       "    </tr>\n",
       "    <tr>\n",
       "      <td>183</td>\n",
       "      <td>1.778248e+04</td>\n",
       "      <td>Yr Sold_2006</td>\n",
       "      <td>184</td>\n",
       "    </tr>\n",
       "    <tr>\n",
       "      <td>184</td>\n",
       "      <td>1.778190e+04</td>\n",
       "      <td>Lot Config_Corner</td>\n",
       "      <td>185</td>\n",
       "    </tr>\n",
       "    <tr>\n",
       "      <td>185</td>\n",
       "      <td>1.778115e+04</td>\n",
       "      <td>Yr Sold_2007</td>\n",
       "      <td>186</td>\n",
       "    </tr>\n",
       "    <tr>\n",
       "      <td>182</td>\n",
       "      <td>1.777724e+04</td>\n",
       "      <td>Mo Sold_5</td>\n",
       "      <td>183</td>\n",
       "    </tr>\n",
       "    <tr>\n",
       "      <td>188</td>\n",
       "      <td>1.777503e+04</td>\n",
       "      <td>Mo Sold_7</td>\n",
       "      <td>189</td>\n",
       "    </tr>\n",
       "  </tbody>\n",
       "</table>\n",
       "<p>189 rows × 3 columns</p>\n",
       "</div>"
      ],
      "text/plain": [
       "            error          feature_added  num_of_features\n",
       "132  3.014718e+09  All Exteriors_Plywood              133\n",
       "131  2.652243e+09         Land Slope_Mod              132\n",
       "0    3.697599e+04               Total SF                1\n",
       "1    3.527879e+04              Bathrooms                2\n",
       "2    3.522035e+04            Garage Area                3\n",
       "..            ...                    ...              ...\n",
       "183  1.778248e+04           Yr Sold_2006              184\n",
       "184  1.778190e+04      Lot Config_Corner              185\n",
       "185  1.778115e+04           Yr Sold_2007              186\n",
       "182  1.777724e+04              Mo Sold_5              183\n",
       "188  1.777503e+04              Mo Sold_7              189\n",
       "\n",
       "[189 rows x 3 columns]"
      ]
     },
     "execution_count": 102,
     "metadata": {},
     "output_type": "execute_result"
    }
   ],
   "source": [
    "multivar_regression.sort_values('error', ascending=False)"
   ]
  },
  {
   "cell_type": "code",
   "execution_count": 103,
   "metadata": {},
   "outputs": [
    {
     "data": {
      "image/png": "[encoded data removed]",
      "text/plain": [
       "<Figure size 1080x720 with 1 Axes>"
      ]
     },
     "metadata": {
      "needs_background": "light"
     },
     "output_type": "display_data"
    }
   ],
   "source": [
    "plt.figure(figsize=(15,10))\n",
    "ax = sns.scatterplot(x=multivar_regression['num_of_features'], y=multivar_regression['error'])"
   ]
  },
  {
   "cell_type": "markdown",
   "metadata": {},
   "source": [
    "And if we drop \"All Exteriors_Plywood\" and \"Land Slope_Mod\"?"
   ]
  },
  {
   "cell_type": "code",
   "execution_count": 106,
   "metadata": {},
   "outputs": [],
   "source": [
    "all_features.remove('All Exteriors_Plywood')\n",
    "all_features.remove('Land Slope_Mod')"
   ]
  },
  {
   "cell_type": "code",
   "execution_count": 107,
   "metadata": {},
   "outputs": [],
   "source": [
    "error = []\n",
    "feature_added = []\n",
    "num_of_features = []\n",
    "for x in range(0,(len(all_features))):\n",
    "    errors_to_avg = []\n",
    "    feature_added.append(all_features[x])\n",
    "    num_of_features.append(x+1)\n",
    "    for y in range(6):\n",
    "        errors_to_avg.append(train_and_test(dummied_df, features_start=0, features_end=x+1, k=10, seed=y))\n",
    "    error.append(np.mean(errors_to_avg))"
   ]
  },
  {
   "cell_type": "code",
   "execution_count": 108,
   "metadata": {},
   "outputs": [],
   "source": [
    "multivar_regression = pd.DataFrame()\n",
    "\n",
    "multivar_regression['error'] = error\n",
    "multivar_regression['feature_added'] = feature_added\n",
    "multivar_regression['num_of_features'] = num_of_features"
   ]
  },
  {
   "cell_type": "code",
   "execution_count": 111,
   "metadata": {},
   "outputs": [
    {
     "data": {
      "text/html": [
       "<div>\n",
       "<style scoped>\n",
       "    .dataframe tbody tr th:only-of-type {\n",
       "        vertical-align: middle;\n",
       "    }\n",
       "\n",
       "    .dataframe tbody tr th {\n",
       "        vertical-align: top;\n",
       "    }\n",
       "\n",
       "    .dataframe thead th {\n",
       "        text-align: right;\n",
       "    }\n",
       "</style>\n",
       "<table border=\"1\" class=\"dataframe\">\n",
       "  <thead>\n",
       "    <tr style=\"text-align: right;\">\n",
       "      <th></th>\n",
       "      <th>error</th>\n",
       "      <th>feature_added</th>\n",
       "      <th>num_of_features</th>\n",
       "    </tr>\n",
       "  </thead>\n",
       "  <tbody>\n",
       "    <tr>\n",
       "      <td>186</td>\n",
       "      <td>17769.340851</td>\n",
       "      <td>Mo Sold_7</td>\n",
       "      <td>187</td>\n",
       "    </tr>\n",
       "    <tr>\n",
       "      <td>180</td>\n",
       "      <td>17771.624820</td>\n",
       "      <td>Mo Sold_5</td>\n",
       "      <td>181</td>\n",
       "    </tr>\n",
       "    <tr>\n",
       "      <td>183</td>\n",
       "      <td>17775.118965</td>\n",
       "      <td>Yr Sold_2007</td>\n",
       "      <td>184</td>\n",
       "    </tr>\n",
       "    <tr>\n",
       "      <td>182</td>\n",
       "      <td>17775.517886</td>\n",
       "      <td>Lot Config_Corner</td>\n",
       "      <td>183</td>\n",
       "    </tr>\n",
       "    <tr>\n",
       "      <td>181</td>\n",
       "      <td>17776.441876</td>\n",
       "      <td>Yr Sold_2006</td>\n",
       "      <td>182</td>\n",
       "    </tr>\n",
       "    <tr>\n",
       "      <td>...</td>\n",
       "      <td>...</td>\n",
       "      <td>...</td>\n",
       "      <td>...</td>\n",
       "    </tr>\n",
       "    <tr>\n",
       "      <td>4</td>\n",
       "      <td>32867.035368</td>\n",
       "      <td>Exter Qual_TA</td>\n",
       "      <td>5</td>\n",
       "    </tr>\n",
       "    <tr>\n",
       "      <td>3</td>\n",
       "      <td>35022.915530</td>\n",
       "      <td>Avg Rm Area AbvGrd</td>\n",
       "      <td>4</td>\n",
       "    </tr>\n",
       "    <tr>\n",
       "      <td>2</td>\n",
       "      <td>35220.352606</td>\n",
       "      <td>Garage Area</td>\n",
       "      <td>3</td>\n",
       "    </tr>\n",
       "    <tr>\n",
       "      <td>1</td>\n",
       "      <td>35278.785655</td>\n",
       "      <td>Bathrooms</td>\n",
       "      <td>2</td>\n",
       "    </tr>\n",
       "    <tr>\n",
       "      <td>0</td>\n",
       "      <td>36975.990610</td>\n",
       "      <td>Total SF</td>\n",
       "      <td>1</td>\n",
       "    </tr>\n",
       "  </tbody>\n",
       "</table>\n",
       "<p>187 rows × 3 columns</p>\n",
       "</div>"
      ],
      "text/plain": [
       "            error       feature_added  num_of_features\n",
       "186  17769.340851           Mo Sold_7              187\n",
       "180  17771.624820           Mo Sold_5              181\n",
       "183  17775.118965        Yr Sold_2007              184\n",
       "182  17775.517886   Lot Config_Corner              183\n",
       "181  17776.441876        Yr Sold_2006              182\n",
       "..            ...                 ...              ...\n",
       "4    32867.035368       Exter Qual_TA                5\n",
       "3    35022.915530  Avg Rm Area AbvGrd                4\n",
       "2    35220.352606         Garage Area                3\n",
       "1    35278.785655           Bathrooms                2\n",
       "0    36975.990610            Total SF                1\n",
       "\n",
       "[187 rows x 3 columns]"
      ]
     },
     "execution_count": 111,
     "metadata": {},
     "output_type": "execute_result"
    }
   ],
   "source": [
    "multivar_regression.sort_values('error')"
   ]
  },
  {
   "cell_type": "code",
   "execution_count": 110,
   "metadata": {},
   "outputs": [
    {
     "data": {
      "image/png": "[encoded data removed]",
      "text/plain": [
       "<Figure size 1080x720 with 1 Axes>"
      ]
     },
     "metadata": {
      "needs_background": "light"
     },
     "output_type": "display_data"
    }
   ],
   "source": [
    "plt.figure(figsize=(15,10))\n",
    "ax = sns.scatterplot(x=multivar_regression['num_of_features'], y=multivar_regression['error'])"
   ]
  },
  {
   "cell_type": "markdown",
   "metadata": {},
   "source": [
    "We get our best model! Error generally decreases with each feature added. This is a good sign we've picked the correct features. We can try cross-validating with a variety of ks to make sure we haven't overfitted."
   ]
  },
  {
   "cell_type": "code",
   "execution_count": 112,
   "metadata": {},
   "outputs": [
    {
     "name": "stdout",
     "output_type": "stream",
     "text": [
      "19299.407939214172 19429.46252846965\n",
      "17078.381214879602 19311.336792011905\n",
      "18325.765907334055 18913.135748166314\n",
      "19290.147908038583 19452.519176975657\n",
      "17076.32426527208 19312.778810603\n",
      "18320.12931151512 18894.498272951765\n",
      "19256.181955704684 19413.31313993538\n",
      "17122.539624003024 19286.367168060635\n",
      "18280.727277585174 18858.319667105527\n",
      "19261.26724934823 19457.81351973785\n",
      "17128.051856090035 19287.40811632065\n",
      "18282.736442551683 18859.805003626498\n",
      "19269.31088422295 19413.68153676147\n",
      "17138.19888588698 19277.883201748973\n",
      "18272.37095327589 18832.869452657258\n",
      "19279.059140836074 19435.469430481684\n",
      "17163.752107862943 19274.11388049133\n",
      "18276.168486479415 18840.0702072981\n",
      "19297.370741241706 19452.270283333615\n",
      "17159.897311117544 19351.153258589915\n",
      "18287.614476542065 18846.310333078898\n",
      "19292.349154505817 19475.39147550588\n",
      "17139.697328666723 19347.168645366964\n",
      "18284.245581558906 18835.216574414604\n",
      "19374.74688017448 19603.0187520736\n",
      "17139.72652112915 19369.0530984516\n",
      "18285.898984697877 18903.580168564113\n",
      "19386.672617418444 19605.149216707257\n",
      "17129.90688790253 19419.050719709358\n",
      "18273.764042721847 18915.520188642717\n",
      "19381.692757176093 19543.50630953431\n",
      "17078.293878397 19495.401221403874\n",
      "18232.482378951332 18911.108189984167\n"
     ]
    }
   ],
   "source": [
    "error = []\n",
    "feature_added = []\n",
    "num_of_features = []\n",
    "k_value = []\n",
    "for x in range(176,187):\n",
    "     for k in range(0,11):\n",
    "            feature_added.append(all_features[x])\n",
    "            num_of_features.append(x+1)\n",
    "            k_value.append(k)\n",
    "            errors_to_avg = []\n",
    "            for i in range(3):\n",
    "                errors_to_avg.append(train_and_test(dummied_df, features_start=0, features_end=x+1, k=k, seed=i))\n",
    "            error.append(np.mean(errors_to_avg))"
   ]
  },
  {
   "cell_type": "code",
   "execution_count": 113,
   "metadata": {},
   "outputs": [],
   "source": [
    "k_selection = pd.DataFrame()\n",
    "\n",
    "k_selection['error'] = error\n",
    "k_selection['feature_added'] = feature_added\n",
    "k_selection['num_of_features'] = num_of_features\n",
    "k_selection['k_value'] = k_value"
   ]
  },
  {
   "cell_type": "code",
   "execution_count": 114,
   "metadata": {},
   "outputs": [
    {
     "data": {
      "text/html": [
       "<div>\n",
       "<style scoped>\n",
       "    .dataframe tbody tr th:only-of-type {\n",
       "        vertical-align: middle;\n",
       "    }\n",
       "\n",
       "    .dataframe tbody tr th {\n",
       "        vertical-align: top;\n",
       "    }\n",
       "\n",
       "    .dataframe thead th {\n",
       "        text-align: right;\n",
       "    }\n",
       "</style>\n",
       "<table border=\"1\" class=\"dataframe\">\n",
       "  <thead>\n",
       "    <tr style=\"text-align: right;\">\n",
       "      <th></th>\n",
       "      <th>error</th>\n",
       "      <th>feature_added</th>\n",
       "      <th>num_of_features</th>\n",
       "      <th>k_value</th>\n",
       "    </tr>\n",
       "  </thead>\n",
       "  <tbody>\n",
       "    <tr>\n",
       "      <td>53</td>\n",
       "      <td>17732.042581</td>\n",
       "      <td>Mo Sold_5</td>\n",
       "      <td>181</td>\n",
       "      <td>9</td>\n",
       "    </tr>\n",
       "    <tr>\n",
       "      <td>119</td>\n",
       "      <td>17736.535909</td>\n",
       "      <td>Mo Sold_7</td>\n",
       "      <td>187</td>\n",
       "      <td>9</td>\n",
       "    </tr>\n",
       "    <tr>\n",
       "      <td>31</td>\n",
       "      <td>17736.734899</td>\n",
       "      <td>Lot Config_FR2</td>\n",
       "      <td>179</td>\n",
       "      <td>9</td>\n",
       "    </tr>\n",
       "    <tr>\n",
       "      <td>64</td>\n",
       "      <td>17737.133079</td>\n",
       "      <td>Yr Sold_2006</td>\n",
       "      <td>182</td>\n",
       "      <td>9</td>\n",
       "    </tr>\n",
       "    <tr>\n",
       "      <td>86</td>\n",
       "      <td>17738.529603</td>\n",
       "      <td>Yr Sold_2007</td>\n",
       "      <td>184</td>\n",
       "      <td>9</td>\n",
       "    </tr>\n",
       "    <tr>\n",
       "      <td>...</td>\n",
       "      <td>...</td>\n",
       "      <td>...</td>\n",
       "      <td>...</td>\n",
       "      <td>...</td>\n",
       "    </tr>\n",
       "    <tr>\n",
       "      <td>78</td>\n",
       "      <td>18729.011460</td>\n",
       "      <td>Yr Sold_2007</td>\n",
       "      <td>184</td>\n",
       "      <td>1</td>\n",
       "    </tr>\n",
       "    <tr>\n",
       "      <td>67</td>\n",
       "      <td>18732.436067</td>\n",
       "      <td>Lot Config_Corner</td>\n",
       "      <td>183</td>\n",
       "      <td>1</td>\n",
       "    </tr>\n",
       "    <tr>\n",
       "      <td>111</td>\n",
       "      <td>18773.747456</td>\n",
       "      <td>Mo Sold_7</td>\n",
       "      <td>187</td>\n",
       "      <td>1</td>\n",
       "    </tr>\n",
       "    <tr>\n",
       "      <td>89</td>\n",
       "      <td>18779.337401</td>\n",
       "      <td>Mo Sold_12</td>\n",
       "      <td>185</td>\n",
       "      <td>1</td>\n",
       "    </tr>\n",
       "    <tr>\n",
       "      <td>100</td>\n",
       "      <td>18788.343946</td>\n",
       "      <td>Yr Sold_2008</td>\n",
       "      <td>186</td>\n",
       "      <td>1</td>\n",
       "    </tr>\n",
       "  </tbody>\n",
       "</table>\n",
       "<p>121 rows × 4 columns</p>\n",
       "</div>"
      ],
      "text/plain": [
       "            error      feature_added  num_of_features  k_value\n",
       "53   17732.042581          Mo Sold_5              181        9\n",
       "119  17736.535909          Mo Sold_7              187        9\n",
       "31   17736.734899     Lot Config_FR2              179        9\n",
       "64   17737.133079       Yr Sold_2006              182        9\n",
       "86   17738.529603       Yr Sold_2007              184        9\n",
       "..            ...                ...              ...      ...\n",
       "78   18729.011460       Yr Sold_2007              184        1\n",
       "67   18732.436067  Lot Config_Corner              183        1\n",
       "111  18773.747456          Mo Sold_7              187        1\n",
       "89   18779.337401         Mo Sold_12              185        1\n",
       "100  18788.343946       Yr Sold_2008              186        1\n",
       "\n",
       "[121 rows x 4 columns]"
      ]
     },
     "execution_count": 114,
     "metadata": {},
     "output_type": "execute_result"
    }
   ],
   "source": [
    "k_selection.sort_values('error')"
   ]
  },
  {
   "cell_type": "code",
   "execution_count": 118,
   "metadata": {},
   "outputs": [
    {
     "data": {
      "text/plain": [
       "181    18068.976737\n",
       "179    18071.977822\n",
       "182    18075.656646\n",
       "184    18077.084672\n",
       "183    18078.659590\n",
       "180    18080.786676\n",
       "177    18088.752722\n",
       "187    18089.793478\n",
       "178    18098.232597\n",
       "185    18103.542054\n",
       "186    18106.545174\n",
       "Name: error, dtype: float64"
      ]
     },
     "execution_count": 118,
     "metadata": {},
     "output_type": "execute_result"
    }
   ],
   "source": [
    "k_selection.groupby(num_of_features)['error'].mean().sort_values()"
   ]
  },
  {
   "cell_type": "code",
   "execution_count": 115,
   "metadata": {},
   "outputs": [
    {
     "data": {
      "image/png": "[encoded data removed]",
      "text/plain": [
       "<Figure size 1080x720 with 1 Axes>"
      ]
     },
     "metadata": {
      "needs_background": "light"
     },
     "output_type": "display_data"
    }
   ],
   "source": [
    "plt.figure(figsize=(15,10))\n",
    "ax = sns.boxplot(k_selection['num_of_features'], k_selection['error'])"
   ]
  },
  {
   "cell_type": "markdown",
   "metadata": {},
   "source": [
    "So, when k was 10, we found that using every feature left in our list resulted in the best model. When we iterate through ks for our cross-validation, however, and average across different ks, we find that only the first 181 features lead to the best model. What if we permutate our dataframe a few times?"
   ]
  },
  {
   "cell_type": "code",
   "execution_count": 123,
   "metadata": {},
   "outputs": [],
   "source": [
    "error = []\n",
    "feature_added = []\n",
    "num_of_features = []\n",
    "for x in range(176,187):\n",
    "    feature_added.append(all_features[x])\n",
    "    num_of_features.append(x+1)\n",
    "    errors_to_avg = []\n",
    "    for i in range(6,11):\n",
    "        errors_to_avg.append(train_and_test(dummied_df, features_start=0, features_end=x+1, k=10, seed=i))\n",
    "    error.append(np.mean(errors_to_avg))"
   ]
  },
  {
   "cell_type": "code",
   "execution_count": 124,
   "metadata": {},
   "outputs": [],
   "source": [
    "permutation = pd.DataFrame()\n",
    "\n",
    "permutation['error'] = error\n",
    "permutation['feature_added'] = feature_added\n",
    "permutation['num_of_features'] = num_of_features"
   ]
  },
  {
   "cell_type": "code",
   "execution_count": 125,
   "metadata": {},
   "outputs": [
    {
     "data": {
      "text/html": [
       "<div>\n",
       "<style scoped>\n",
       "    .dataframe tbody tr th:only-of-type {\n",
       "        vertical-align: middle;\n",
       "    }\n",
       "\n",
       "    .dataframe tbody tr th {\n",
       "        vertical-align: top;\n",
       "    }\n",
       "\n",
       "    .dataframe thead th {\n",
       "        text-align: right;\n",
       "    }\n",
       "</style>\n",
       "<table border=\"1\" class=\"dataframe\">\n",
       "  <thead>\n",
       "    <tr style=\"text-align: right;\">\n",
       "      <th></th>\n",
       "      <th>error</th>\n",
       "      <th>feature_added</th>\n",
       "      <th>num_of_features</th>\n",
       "    </tr>\n",
       "  </thead>\n",
       "  <tbody>\n",
       "    <tr>\n",
       "      <td>4</td>\n",
       "      <td>17582.026210</td>\n",
       "      <td>Mo Sold_5</td>\n",
       "      <td>181</td>\n",
       "    </tr>\n",
       "    <tr>\n",
       "      <td>10</td>\n",
       "      <td>17586.344399</td>\n",
       "      <td>Mo Sold_7</td>\n",
       "      <td>187</td>\n",
       "    </tr>\n",
       "    <tr>\n",
       "      <td>5</td>\n",
       "      <td>17587.273817</td>\n",
       "      <td>Yr Sold_2006</td>\n",
       "      <td>182</td>\n",
       "    </tr>\n",
       "    <tr>\n",
       "      <td>2</td>\n",
       "      <td>17589.933500</td>\n",
       "      <td>Lot Config_FR2</td>\n",
       "      <td>179</td>\n",
       "    </tr>\n",
       "    <tr>\n",
       "      <td>6</td>\n",
       "      <td>17590.290100</td>\n",
       "      <td>Lot Config_Corner</td>\n",
       "      <td>183</td>\n",
       "    </tr>\n",
       "    <tr>\n",
       "      <td>7</td>\n",
       "      <td>17590.584765</td>\n",
       "      <td>Yr Sold_2007</td>\n",
       "      <td>184</td>\n",
       "    </tr>\n",
       "    <tr>\n",
       "      <td>3</td>\n",
       "      <td>17601.439414</td>\n",
       "      <td>Mo Sold_6</td>\n",
       "      <td>180</td>\n",
       "    </tr>\n",
       "    <tr>\n",
       "      <td>9</td>\n",
       "      <td>17603.066153</td>\n",
       "      <td>Yr Sold_2008</td>\n",
       "      <td>186</td>\n",
       "    </tr>\n",
       "    <tr>\n",
       "      <td>8</td>\n",
       "      <td>17608.699896</td>\n",
       "      <td>Mo Sold_12</td>\n",
       "      <td>185</td>\n",
       "    </tr>\n",
       "    <tr>\n",
       "      <td>1</td>\n",
       "      <td>17625.013804</td>\n",
       "      <td>Mo Sold_1</td>\n",
       "      <td>178</td>\n",
       "    </tr>\n",
       "    <tr>\n",
       "      <td>0</td>\n",
       "      <td>17626.288930</td>\n",
       "      <td>BsmtFin SF 2</td>\n",
       "      <td>177</td>\n",
       "    </tr>\n",
       "  </tbody>\n",
       "</table>\n",
       "</div>"
      ],
      "text/plain": [
       "           error      feature_added  num_of_features\n",
       "4   17582.026210          Mo Sold_5              181\n",
       "10  17586.344399          Mo Sold_7              187\n",
       "5   17587.273817       Yr Sold_2006              182\n",
       "2   17589.933500     Lot Config_FR2              179\n",
       "6   17590.290100  Lot Config_Corner              183\n",
       "7   17590.584765       Yr Sold_2007              184\n",
       "3   17601.439414          Mo Sold_6              180\n",
       "9   17603.066153       Yr Sold_2008              186\n",
       "8   17608.699896         Mo Sold_12              185\n",
       "1   17625.013804          Mo Sold_1              178\n",
       "0   17626.288930       BsmtFin SF 2              177"
      ]
     },
     "execution_count": 125,
     "metadata": {},
     "output_type": "execute_result"
    }
   ],
   "source": [
    "permutation.sort_values('error')"
   ]
  },
  {
   "cell_type": "markdown",
   "metadata": {},
   "source": [
    "Here again, it seems 181 features has a slight edge over all 187."
   ]
  },
  {
   "cell_type": "code",
   "execution_count": 148,
   "metadata": {},
   "outputs": [],
   "source": [
    "all_features = all_features[:181]"
   ]
  },
  {
   "cell_type": "markdown",
   "metadata": {},
   "source": [
    "So our final list of features is:"
   ]
  },
  {
   "cell_type": "code",
   "execution_count": 149,
   "metadata": {},
   "outputs": [
    {
     "data": {
      "text/plain": [
       "['Total SF',\n",
       " 'Bathrooms',\n",
       " 'Garage Area',\n",
       " 'Avg Rm Area AbvGrd',\n",
       " 'Exter Qual_TA',\n",
       " 'Full Bath',\n",
       " 'Sale Age',\n",
       " 'Bsmt Qual_Ex',\n",
       " 'Kitchen Qual_TA',\n",
       " 'Sale Remod/Add Age',\n",
       " 'Foundation_PConc',\n",
       " 'Fireplaces',\n",
       " 'Sale Garage Age',\n",
       " 'Exter Qual_Gd',\n",
       " 'Mas Vnr Area',\n",
       " 'Kitchen Qual_Ex',\n",
       " 'All BsmtFin Types_GLQ',\n",
       " 'BsmtFin SF 1',\n",
       " 'Overall Qual_8',\n",
       " 'Bsmt Qual_TA',\n",
       " 'Heating QC_Ex',\n",
       " 'Exter Qual_Ex',\n",
       " 'Garage Finish_Unf',\n",
       " 'Overall Qual_9',\n",
       " 'Garage Finish_Fin',\n",
       " 'Mas Vnr Type_None',\n",
       " 'Neighborhood_NridgHt',\n",
       " 'Garage Type_Detchd',\n",
       " 'Kitchen Qual_Gd',\n",
       " 'Bsmt Exposure_Gd',\n",
       " 'Overall Qual_5',\n",
       " 'Garage Type_Attchd',\n",
       " 'Neighborhood_NoRidge',\n",
       " 'Wood Deck SF',\n",
       " 'Lot Frontage',\n",
       " 'Overall Cond_5',\n",
       " 'Overall Qual_10',\n",
       " 'Open Porch SF',\n",
       " 'Foundation_CBlock',\n",
       " 'Heating QC_TA',\n",
       " 'Lot Shape_Reg',\n",
       " 'MS Zoning_RM',\n",
       " 'Bsmt Qual_Gd',\n",
       " '2nd Flr SF',\n",
       " 'Half Bath',\n",
       " 'Mas Vnr Type_BrkFace',\n",
       " 'Bsmt Full Bath',\n",
       " 'Lot Shape_IR1',\n",
       " 'Garage Cond_TA',\n",
       " 'Overall Qual_4',\n",
       " 'Paved Drive_Y',\n",
       " 'Bsmt Exposure_No',\n",
       " 'Central Air',\n",
       " 'Garage Qual_TA',\n",
       " 'Paved Drive_N',\n",
       " 'Lot Area',\n",
       " 'MS Zoning_RL',\n",
       " 'Electrical_SBrkr',\n",
       " 'Mas Vnr Type_Stone',\n",
       " 'Foundation_BrkTil',\n",
       " 'Overall Qual_7',\n",
       " 'Neighborhood_OldTown',\n",
       " 'Roof Style_Hip',\n",
       " 'Roof Style_Gable',\n",
       " 'Garage Type_BuiltIn',\n",
       " 'Garage Finish_RFn',\n",
       " 'Electrical_FuseA',\n",
       " 'Neighborhood_NAmes',\n",
       " 'Bedroom AbvGr',\n",
       " 'All BsmtFin Types_Unf',\n",
       " 'Overall Cond_6',\n",
       " 'Condition 1_BusyRd',\n",
       " 'Neighborhood_StoneBr',\n",
       " 'Garage Qual_Fa',\n",
       " 'House Style_1.5Fin',\n",
       " 'Neighborhood_Edwards',\n",
       " 'Bsmt Unf SF',\n",
       " 'Neighborhood_IDOTRR',\n",
       " 'Kitchen Qual_Fa',\n",
       " 'Neighborhood_Somerst',\n",
       " 'Overall Cond_4',\n",
       " 'Bsmt Qual_Fa',\n",
       " 'Garage Cond_Fa',\n",
       " 'Land Contour_HLS',\n",
       " 'Overall Qual_3',\n",
       " 'Overall Cond_3',\n",
       " 'All BsmtFin Types_Rec',\n",
       " 'Neighborhood_BrkSide',\n",
       " 'Bsmt Cond_Fa',\n",
       " 'Neighborhood_Timber',\n",
       " 'Neighborhood_MeadowV',\n",
       " 'Neighborhood_Sawyer',\n",
       " 'Bsmt Cond_TA',\n",
       " 'Heating QC_Fa',\n",
       " 'Electrical_FuseF',\n",
       " 'Heating QC_Gd',\n",
       " 'Exter Cond_Fa',\n",
       " 'Lot Config_CulDSac',\n",
       " 'Overall Cond_7',\n",
       " 'Foundation_Slab',\n",
       " 'Kitchen AbvGr',\n",
       " 'All BsmtFin Types_BLQ',\n",
       " 'Enclosed Porch',\n",
       " 'Condition 1_PosNA',\n",
       " 'Bldg Type_1Fam',\n",
       " 'Screen Porch',\n",
       " 'MS Zoning_FV',\n",
       " 'Overall Qual_2',\n",
       " 'Overall Qual_6',\n",
       " 'Bldg Type_Twnhs',\n",
       " 'Neighborhood_Veenker',\n",
       " 'Bsmt Exposure_Av',\n",
       " 'Bldg Type_2fmCon',\n",
       " 'Condition 1_Norm',\n",
       " 'Neighborhood_BrDale',\n",
       " 'Functional_Typ',\n",
       " 'Neighborhood_CollgCr',\n",
       " 'Paved Drive_P',\n",
       " 'Bldg Type_Duplex',\n",
       " 'House Style_1.5Unf',\n",
       " 'Sale Type_WD ',\n",
       " 'All BsmtFin Types_LwQ',\n",
       " 'Land Slope_Gtl',\n",
       " 'Neighborhood_SWISU',\n",
       " 'Sale Type_COD',\n",
       " 'House Style_SFoyer',\n",
       " 'Land Contour_Bnk',\n",
       " 'Neighborhood_ClearCr',\n",
       " 'Overall Cond_8',\n",
       " 'Land Contour_Lvl',\n",
       " 'Neighborhood_Crawfor',\n",
       " 'Bsmt Cond_Gd',\n",
       " 'Functional_Maj2',\n",
       " 'MS Zoning_RH',\n",
       " 'Overall Qual_1',\n",
       " 'Sale Type_ConLD',\n",
       " 'Functional_Min1',\n",
       " 'Functional_Min2',\n",
       " 'Neighborhood_NWAmes',\n",
       " 'Overall Cond_1',\n",
       " 'All Exteriors_ImStucc',\n",
       " 'Neighborhood_NPkVill',\n",
       " 'Garage Qual_Po',\n",
       " 'All BsmtFin Types_ALQ',\n",
       " 'Neighborhood_Gilbert',\n",
       " 'Land Contour_Low',\n",
       " 'Garage Qual_Gd',\n",
       " 'All Exteriors_Brk Cmn',\n",
       " 'Condition 1_RRA',\n",
       " 'Land Slope_Sev',\n",
       " 'All Exteriors_AsbShng',\n",
       " 'Bsmt Qual_Po',\n",
       " 'MS Zoning_I (all)',\n",
       " 'Mo Sold_4',\n",
       " 'Exter Cond_Gd',\n",
       " 'Bsmt Cond_Po',\n",
       " 'Mas Vnr Type_BrkCmn',\n",
       " 'All Exteriors_CmentBd',\n",
       " 'Overall Cond_9',\n",
       " 'All Exteriors_Stone',\n",
       " 'Neighborhood_SawyerW',\n",
       " 'Garage Type_Basment',\n",
       " 'Roof Style_Gambrel',\n",
       " 'Neighborhood_Mitchel',\n",
       " 'All Exteriors_HdBoard',\n",
       " 'Neighborhood_Blueste',\n",
       " 'Bsmt Exposure_Mn',\n",
       " 'Garage Cond_Ex',\n",
       " 'House Style_SLvl',\n",
       " 'Neighborhood_Blmngtn',\n",
       " 'Bldg Type_TwnhsE',\n",
       " 'Sale Type_ConLw',\n",
       " 'Garage Type_2Types',\n",
       " 'Mo Sold_10',\n",
       " 'Neighborhood_GrnHill',\n",
       " 'Yr Sold_2009',\n",
       " 'BsmtFin SF 2',\n",
       " 'Mo Sold_1',\n",
       " 'Lot Config_FR2',\n",
       " 'Mo Sold_6',\n",
       " 'Mo Sold_5']"
      ]
     },
     "execution_count": 149,
     "metadata": {},
     "output_type": "execute_result"
    }
   ],
   "source": [
    "all_features"
   ]
  },
  {
   "cell_type": "markdown",
   "metadata": {},
   "source": [
    "We can check perform one final check for overfitting by comparing our in-sample vs. cross-validated error."
   ]
  },
  {
   "cell_type": "code",
   "execution_count": 150,
   "metadata": {},
   "outputs": [],
   "source": [
    "def overfit_test(df, features, target):\n",
    "    lr = LinearRegression()\n",
    "    np.random.seed(10)\n",
    "    df = df.iloc[np.random.permutation(len(df))]\n",
    "    train = df[:1460]\n",
    "    test = df[1460:]\n",
    "\n",
    "    lr.fit(df[features], df[target])\n",
    "    predictions = lr.predict(df[features])\n",
    "    rmse1 = (mean_squared_error(df[target], predictions))**0.5\n",
    "    print(\"in-sample error: \" + str(rmse1))\n",
    "    rmse2 = train_and_test(dummied_df, features_start=0, features_end=x+1, k=10, seed=10)\n",
    "    print(\"10-fold cross-validation error: \" + str(rmse2))\n",
    "    return rmse1, rmse2"
   ]
  },
  {
   "cell_type": "code",
   "execution_count": 151,
   "metadata": {},
   "outputs": [
    {
     "name": "stdout",
     "output_type": "stream",
     "text": [
      "in-sample error: 15844.764695275016\n",
      "10-fold cross-validation error: 17521.71803637372\n"
     ]
    },
    {
     "data": {
      "text/plain": [
       "(15844.764695275016, 17521.71803637372)"
      ]
     },
     "execution_count": 151,
     "metadata": {},
     "output_type": "execute_result"
    }
   ],
   "source": [
    "overfit_test(dummied_df, all_features, 'SalePrice')"
   ]
  },
  {
   "cell_type": "markdown",
   "metadata": {},
   "source": [
    "We have less than a couple of thousand dollars worth of difference, which is relatively small given the large numbers we are working with. It looks as if our model will be generalizable."
   ]
  },
  {
   "cell_type": "code",
   "execution_count": null,
   "metadata": {},
   "outputs": [],
   "source": []
  }
 ],
 "metadata": {
  "kernelspec": {
   "display_name": "Python 3",
   "language": "python",
   "name": "python3"
  },
  "language_info": {
   "codemirror_mode": {
    "name": "ipython",
    "version": 3
   },
   "file_extension": ".py",
   "mimetype": "text/x-python",
   "name": "python",
   "nbconvert_exporter": "python",
   "pygments_lexer": "ipython3",
   "version": "3.7.3"
  }
 },
 "nbformat": 4,
 "nbformat_minor": 2
}
