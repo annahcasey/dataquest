{
 "cells": [
  {
   "cell_type": "markdown",
   "metadata": {},
   "source": [
    "# Exploring Hacker News Posts"
   ]
  },
  {
   "cell_type": "markdown",
   "metadata": {},
   "source": [
    "This project should showcase my ability to work with more advanced features of the Python language, such as:\n",
    "* object-oriented programming\n",
    "* manipulation of strings\n",
    "* working with dates and times"
   ]
  },
  {
   "cell_type": "markdown",
   "metadata": {},
   "source": [
    "For this project, I'll be examining a dataset of Hacker News Posts. The dataset has been limited to a random selection of 20,000 posts with comments. Specifically, I'll be answering two questions using this dataset:\n",
    "* do 'Ask HN' or 'Show HN' posts receive more comments, on average?\n",
    "* how does the time of the posting affect the number of comments received?"
   ]
  },
  {
   "cell_type": "markdown",
   "metadata": {},
   "source": [
    "The dataset I'll be working with can be found [here.](https://www.kaggle.com/hacker-news/hacker-news-posts)"
   ]
  },
  {
   "cell_type": "markdown",
   "metadata": {},
   "source": [
    "## Preparing the Data"
   ]
  },
  {
   "cell_type": "code",
   "execution_count": 15,
   "metadata": {},
   "outputs": [
    {
     "data": {
      "text/plain": [
       "[['id', 'title', 'url', 'num_points', 'num_comments', 'author', 'created_at'],\n",
       " ['12224879',\n",
       "  'Interactive Dynamic Video',\n",
       "  'http://www.interactivedynamicvideo.com/',\n",
       "  '386',\n",
       "  '52',\n",
       "  'ne0phyte',\n",
       "  '8/4/2016 11:52'],\n",
       " ['10975351',\n",
       "  'How to Use Open Source and Shut the Fuck Up at the Same Time',\n",
       "  'http://hueniverse.com/2016/01/26/how-to-use-open-source-and-shut-the-fuck-up-at-the-same-time/',\n",
       "  '39',\n",
       "  '10',\n",
       "  'josep2',\n",
       "  '1/26/2016 19:30'],\n",
       " ['11964716',\n",
       "  \"Florida DJs May Face Felony for April Fools' Water Joke\",\n",
       "  'http://www.thewire.com/entertainment/2013/04/florida-djs-april-fools-water-joke/63798/',\n",
       "  '2',\n",
       "  '1',\n",
       "  'vezycash',\n",
       "  '6/23/2016 22:20'],\n",
       " ['11919867',\n",
       "  'Technology ventures: From Idea to Enterprise',\n",
       "  'https://www.amazon.com/Technology-Ventures-Enterprise-Thomas-Byers/dp/0073523429',\n",
       "  '3',\n",
       "  '1',\n",
       "  'hswarna',\n",
       "  '6/17/2016 0:01']]"
      ]
     },
     "execution_count": 15,
     "metadata": {},
     "output_type": "execute_result"
    }
   ],
   "source": [
    "from csv import reader\n",
    "opened_file = open('hacker_news.csv')\n",
    "read_file = reader(opened_file)\n",
    "hn = list(read_file)\n",
    "hn[0:5]\n",
    "#reads the csv in as a list of lists and displays the first 5 rows"
   ]
  },
  {
   "cell_type": "code",
   "execution_count": 16,
   "metadata": {},
   "outputs": [
    {
     "name": "stdout",
     "output_type": "stream",
     "text": [
      "[['id', 'title', 'url', 'num_points', 'num_comments', 'author', 'created_at']]\n"
     ]
    },
    {
     "data": {
      "text/plain": [
       "[['12224879',\n",
       "  'Interactive Dynamic Video',\n",
       "  'http://www.interactivedynamicvideo.com/',\n",
       "  '386',\n",
       "  '52',\n",
       "  'ne0phyte',\n",
       "  '8/4/2016 11:52'],\n",
       " ['10975351',\n",
       "  'How to Use Open Source and Shut the Fuck Up at the Same Time',\n",
       "  'http://hueniverse.com/2016/01/26/how-to-use-open-source-and-shut-the-fuck-up-at-the-same-time/',\n",
       "  '39',\n",
       "  '10',\n",
       "  'josep2',\n",
       "  '1/26/2016 19:30'],\n",
       " ['11964716',\n",
       "  \"Florida DJs May Face Felony for April Fools' Water Joke\",\n",
       "  'http://www.thewire.com/entertainment/2013/04/florida-djs-april-fools-water-joke/63798/',\n",
       "  '2',\n",
       "  '1',\n",
       "  'vezycash',\n",
       "  '6/23/2016 22:20'],\n",
       " ['11919867',\n",
       "  'Technology ventures: From Idea to Enterprise',\n",
       "  'https://www.amazon.com/Technology-Ventures-Enterprise-Thomas-Byers/dp/0073523429',\n",
       "  '3',\n",
       "  '1',\n",
       "  'hswarna',\n",
       "  '6/17/2016 0:01'],\n",
       " ['10301696',\n",
       "  'Note by Note: The Making of Steinway L1037 (2007)',\n",
       "  'http://www.nytimes.com/2007/11/07/movies/07stein.html?_r=0',\n",
       "  '8',\n",
       "  '2',\n",
       "  'walterbell',\n",
       "  '9/30/2015 4:12']]"
      ]
     },
     "execution_count": 16,
     "metadata": {},
     "output_type": "execute_result"
    }
   ],
   "source": [
    "headers = hn[0:1]\n",
    "hn = hn[1:]\n",
    "print(headers)\n",
    "hn[0:5]\n",
    "#extracts the header row to a variable and removes it from the dataset, then displays the first 5 rows"
   ]
  },
  {
   "cell_type": "code",
   "execution_count": 18,
   "metadata": {},
   "outputs": [
    {
     "name": "stdout",
     "output_type": "stream",
     "text": [
      "1744 1162 17194\n"
     ]
    }
   ],
   "source": [
    "ask_posts = []\n",
    "show_posts = []\n",
    "other_posts = []\n",
    "for row in hn:\n",
    "    title = row[1]\n",
    "    if title.lower().startswith('ask hn'):\n",
    "        ask_posts.append(row)\n",
    "    elif title.lower().startswith('show hn'):\n",
    "        show_posts.append(row)\n",
    "    else:\n",
    "        other_posts.append(row)\n",
    "\n",
    "print(len(ask_posts), len(show_posts), len(other_posts))\n",
    "#parses the dataset into three lists of lists: ask_posts, show_posts, and other_posts, based on what their title starts with, then prints the length of each"
   ]
  },
  {
   "cell_type": "markdown",
   "metadata": {},
   "source": [
    "## Finding the Avg. Number of Comments"
   ]
  },
  {
   "cell_type": "code",
   "execution_count": 23,
   "metadata": {},
   "outputs": [
    {
     "name": "stdout",
     "output_type": "stream",
     "text": [
      "Avg. number of Ask Post comments:\n",
      "14.038417431192661\n",
      "\n",
      "\n",
      "Avg. number of Show Post comments:\n",
      "10.31669535283993\n"
     ]
    }
   ],
   "source": [
    "def find_num_comments(database, index):\n",
    "    total_comments = 0\n",
    "    for row in database:\n",
    "        num_comments = int(row[index])\n",
    "        total_comments += num_comments\n",
    "    avg_comments = total_comments/(len(database))\n",
    "    print(avg_comments)\n",
    "print(\"Avg. number of Ask Post comments:\")\n",
    "find_num_comments(ask_posts,4)\n",
    "print('\\n')\n",
    "print(\"Avg. number of Show Post comments:\")\n",
    "find_num_comments(show_posts,4)\n",
    "#creates a function that prints the avg. number of comments, then runs that function on ask_posts and show_posts "
   ]
  },
  {
   "cell_type": "markdown",
   "metadata": {},
   "source": [
    "Our function found that Ask Posts receive, on average, over one-and-a-third times as many comments as Show Posts do on Hacker News.<br> <br>This answers my first question, but what about how time of the posting affects comments?"
   ]
  },
  {
   "cell_type": "markdown",
   "metadata": {},
   "source": [
    "## Number of Comments by Post Time of Day"
   ]
  },
  {
   "cell_type": "code",
   "execution_count": 56,
   "metadata": {},
   "outputs": [],
   "source": [
    "from datetime import datetime as dt\n",
    "#imports the datetime module"
   ]
  },
  {
   "cell_type": "code",
   "execution_count": 66,
   "metadata": {},
   "outputs": [],
   "source": [
    "def convert_datetime (database,timestamp_index, num_comments_index):\n",
    "    result_list=[]\n",
    "    counts_by_hour={}\n",
    "    comments_by_hour={}\n",
    "    for row in database:\n",
    "        created_at = row[timestamp_index]\n",
    "        num_comments = int(row[num_comments_index])\n",
    "        combined = [created_at, num_comments]\n",
    "        result_list.append(combined)\n",
    "    for sublist in result_list:\n",
    "        date_time = sublist[0]\n",
    "        converted_dt = dt.strptime(date_time, '%m/%d/%Y %H:%M')\n",
    "        hour = converted_dt.strftime('%H')\n",
    "        if hour not in counts_by_hour:\n",
    "            counts_by_hour[hour] = 1\n",
    "            comments_by_hour[hour] = sublist[1]\n",
    "        else:\n",
    "            counts_by_hour[hour] += 1\n",
    "            comments_by_hour[hour] += sublist[1]\n",
    "    return (counts_by_hour, comments_by_hour)\n",
    "#creates a function that returns two dictionaries: counts_by_hour, which contains the number of posts by hour, and comments_by_hour, which contains the number of comments by hour"
   ]
  },
  {
   "cell_type": "code",
   "execution_count": 68,
   "metadata": {},
   "outputs": [],
   "source": [
    "ask_counts_by_hour, ask_comments_by_hour = convert_datetime(ask_posts,6,4)\n",
    "show_counts_by_hour, show_comments_by_hour = convert_datetime(show_posts,6,4)\n",
    "#assigns the counts_by_hour and comments_by_hour to their functions as applied to the Ask posts and Show posts"
   ]
  },
  {
   "cell_type": "code",
   "execution_count": 93,
   "metadata": {},
   "outputs": [],
   "source": [
    "avg_ask_comments_by_hour = []\n",
    "for hour in ask_comments_by_hour:\n",
    "    avg = (ask_comments_by_hour[hour])/(ask_counts_by_hour[hour])\n",
    "    avg_ask_comments_by_hour.append([avg, hour])\n",
    "#calculates the number of ask comments for each hour"
   ]
  },
  {
   "cell_type": "code",
   "execution_count": 90,
   "metadata": {},
   "outputs": [
    {
     "name": "stdout",
     "output_type": "stream",
     "text": [
      "Top 5 Hours for Ask Post Comments:\n",
      "21:00 EST - 16.01 avg. comments per post\n",
      "16:00 EST - 16.80 avg. comments per post\n",
      "20:00 EST - 21.52 avg. comments per post\n",
      "02:00 EST - 23.81 avg. comments per post\n",
      "15:00 EST - 38.59 avg. comments per post\n"
     ]
    }
   ],
   "source": [
    "sorted_avg_ask=sorted(avg_ask_comments_by_hour)\n",
    "print('Top 5 Hours for Ask Post Comments:')\n",
    "template = \"{hour}:00 EST - {comments:.2f} avg. comments per post\"\n",
    "for sublist in sorted_avg_ask[-5:]:\n",
    "    string = template.format(hour = sublist[1], comments = sublist[0])\n",
    "    print(string)\n",
    "#prints the top 5 posting hours for comments on average for Ask posts"
   ]
  },
  {
   "cell_type": "code",
   "execution_count": 92,
   "metadata": {},
   "outputs": [],
   "source": [
    "avg_show_comments_by_hour = []\n",
    "for hour in show_comments_by_hour:\n",
    "    avg = (show_comments_by_hour[hour])/(show_counts_by_hour[hour])\n",
    "    avg_show_comments_by_hour.append([avg, hour])\n",
    "#calculates the number of show comments by hour"
   ]
  },
  {
   "cell_type": "code",
   "execution_count": 91,
   "metadata": {},
   "outputs": [
    {
     "name": "stdout",
     "output_type": "stream",
     "text": [
      "Top 5 Hours for Show Post Comments:\n",
      "22:00 EST - 12.39 avg. comments per post\n",
      "23:00 EST - 12.42 avg. comments per post\n",
      "14:00 EST - 13.44 avg. comments per post\n",
      "00:00 EST - 15.71 avg. comments per post\n",
      "18:00 EST - 15.77 avg. comments per post\n"
     ]
    }
   ],
   "source": [
    "sorted_avg_ask_2=sorted(avg_show_comments_by_hour)\n",
    "print('Top 5 Hours for Show Post Comments:')\n",
    "template = \"{hour}:00 EST - {comments:.2f} avg. comments per post\"\n",
    "for sublist in sorted_avg_ask_2[-5:]:\n",
    "    string = template.format(hour = sublist[1], comments = sublist[0])\n",
    "    print(string)\n",
    "#prints the top 5 posting hours for comments on average for Show posts"
   ]
  },
  {
   "cell_type": "markdown",
   "metadata": {},
   "source": [
    "From our two lists, we see that Ask posts made at 3:00PM get the most comments, with an average of almost 40 comments per Ask post made at this time."
   ]
  },
  {
   "cell_type": "code",
   "execution_count": null,
   "metadata": {},
   "outputs": [],
   "source": []
  }
 ],
 "metadata": {
  "kernelspec": {
   "display_name": "Python 3",
   "language": "python",
   "name": "python3"
  },
  "language_info": {
   "codemirror_mode": {
    "name": "ipython",
    "version": 3
   },
   "file_extension": ".py",
   "mimetype": "text/x-python",
   "name": "python",
   "nbconvert_exporter": "python",
   "pygments_lexer": "ipython3",
   "version": "3.7.3"
  }
 },
 "nbformat": 4,
 "nbformat_minor": 2
}
